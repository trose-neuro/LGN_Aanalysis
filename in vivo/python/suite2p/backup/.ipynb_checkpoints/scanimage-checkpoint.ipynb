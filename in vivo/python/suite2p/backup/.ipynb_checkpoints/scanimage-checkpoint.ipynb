{
 "cells": [
  {
   "cell_type": "code",
   "execution_count": 4,
   "metadata": {},
   "outputs": [],
   "source": [
    "from ScanImageTiffReader import ScanImageTiffReader\n",
    "import glob\n",
    "import os"
   ]
  },
  {
   "cell_type": "code",
   "execution_count": 5,
   "metadata": {},
   "outputs": [],
   "source": [
    "# exp = '62242'\n",
    "# froot = '/Volumes/datastore_bonhoeffer_group$/Annette Loidolt/AN_190926/ImagingData/2019-11-11'\n",
    "\n",
    "exp = '62081'\n",
    "froot = '/Volumes/archive_bonhoeffer_group$/David Laubender/Data/imaging data/DL_190227_4/ImagingData/2019-03-28'\n",
    "\n"
   ]
  },
  {
   "cell_type": "code",
   "execution_count": 9,
   "metadata": {},
   "outputs": [],
   "source": [
    "files = sorted(glob.glob(os.path.join(froot, 'exp'+exp+'*.tif')))"
   ]
  },
  {
   "cell_type": "code",
   "execution_count": 10,
   "metadata": {},
   "outputs": [
    {
     "data": {
      "text/plain": [
       "['/Volumes/archive_bonhoeffer_group$/David Laubender/Data/imaging data/DL_190227_4/ImagingData/2019-03-28/exp62081_DL_001_001.tif',\n",
       " '/Volumes/archive_bonhoeffer_group$/David Laubender/Data/imaging data/DL_190227_4/ImagingData/2019-03-28/exp62081_DL_001_002.tif',\n",
       " '/Volumes/archive_bonhoeffer_group$/David Laubender/Data/imaging data/DL_190227_4/ImagingData/2019-03-28/exp62081_DL_001_003.tif',\n",
       " '/Volumes/archive_bonhoeffer_group$/David Laubender/Data/imaging data/DL_190227_4/ImagingData/2019-03-28/exp62081_DL_001_004.tif',\n",
       " '/Volumes/archive_bonhoeffer_group$/David Laubender/Data/imaging data/DL_190227_4/ImagingData/2019-03-28/exp62081_DL_001_005.tif',\n",
       " '/Volumes/archive_bonhoeffer_group$/David Laubender/Data/imaging data/DL_190227_4/ImagingData/2019-03-28/exp62081_DL_001_006.tif',\n",
       " '/Volumes/archive_bonhoeffer_group$/David Laubender/Data/imaging data/DL_190227_4/ImagingData/2019-03-28/exp62081_DL_001_007.tif',\n",
       " '/Volumes/archive_bonhoeffer_group$/David Laubender/Data/imaging data/DL_190227_4/ImagingData/2019-03-28/exp62081_DL_001_008.tif',\n",
       " '/Volumes/archive_bonhoeffer_group$/David Laubender/Data/imaging data/DL_190227_4/ImagingData/2019-03-28/exp62081_DL_001_009.tif',\n",
       " '/Volumes/archive_bonhoeffer_group$/David Laubender/Data/imaging data/DL_190227_4/ImagingData/2019-03-28/exp62081_DL_001_010.tif',\n",
       " '/Volumes/archive_bonhoeffer_group$/David Laubender/Data/imaging data/DL_190227_4/ImagingData/2019-03-28/exp62081_DL_001_011.tif',\n",
       " '/Volumes/archive_bonhoeffer_group$/David Laubender/Data/imaging data/DL_190227_4/ImagingData/2019-03-28/exp62081_DL_001_012.tif',\n",
       " '/Volumes/archive_bonhoeffer_group$/David Laubender/Data/imaging data/DL_190227_4/ImagingData/2019-03-28/exp62081_DL_001_013.tif',\n",
       " '/Volumes/archive_bonhoeffer_group$/David Laubender/Data/imaging data/DL_190227_4/ImagingData/2019-03-28/exp62081_DL_001_014.tif',\n",
       " '/Volumes/archive_bonhoeffer_group$/David Laubender/Data/imaging data/DL_190227_4/ImagingData/2019-03-28/exp62081_DL_001_015.tif',\n",
       " '/Volumes/archive_bonhoeffer_group$/David Laubender/Data/imaging data/DL_190227_4/ImagingData/2019-03-28/exp62081_DL_001_016.tif',\n",
       " '/Volumes/archive_bonhoeffer_group$/David Laubender/Data/imaging data/DL_190227_4/ImagingData/2019-03-28/exp62081_DL_001_017.tif',\n",
       " '/Volumes/archive_bonhoeffer_group$/David Laubender/Data/imaging data/DL_190227_4/ImagingData/2019-03-28/exp62081_DL_001_018.tif',\n",
       " '/Volumes/archive_bonhoeffer_group$/David Laubender/Data/imaging data/DL_190227_4/ImagingData/2019-03-28/exp62081_DL_001_019.tif',\n",
       " '/Volumes/archive_bonhoeffer_group$/David Laubender/Data/imaging data/DL_190227_4/ImagingData/2019-03-28/exp62081_DL_001_020.tif',\n",
       " '/Volumes/archive_bonhoeffer_group$/David Laubender/Data/imaging data/DL_190227_4/ImagingData/2019-03-28/exp62081_DL_001_021.tif',\n",
       " '/Volumes/archive_bonhoeffer_group$/David Laubender/Data/imaging data/DL_190227_4/ImagingData/2019-03-28/exp62081_DL_001_022.tif',\n",
       " '/Volumes/archive_bonhoeffer_group$/David Laubender/Data/imaging data/DL_190227_4/ImagingData/2019-03-28/exp62081_DL_001_023.tif',\n",
       " '/Volumes/archive_bonhoeffer_group$/David Laubender/Data/imaging data/DL_190227_4/ImagingData/2019-03-28/exp62081_DL_001_024.tif',\n",
       " '/Volumes/archive_bonhoeffer_group$/David Laubender/Data/imaging data/DL_190227_4/ImagingData/2019-03-28/exp62081_DL_001_025.tif',\n",
       " '/Volumes/archive_bonhoeffer_group$/David Laubender/Data/imaging data/DL_190227_4/ImagingData/2019-03-28/exp62081_DL_001_026.tif',\n",
       " '/Volumes/archive_bonhoeffer_group$/David Laubender/Data/imaging data/DL_190227_4/ImagingData/2019-03-28/exp62081_DL_001_027.tif',\n",
       " '/Volumes/archive_bonhoeffer_group$/David Laubender/Data/imaging data/DL_190227_4/ImagingData/2019-03-28/exp62081_DL_001_028.tif',\n",
       " '/Volumes/archive_bonhoeffer_group$/David Laubender/Data/imaging data/DL_190227_4/ImagingData/2019-03-28/exp62081_DL_001_029.tif',\n",
       " '/Volumes/archive_bonhoeffer_group$/David Laubender/Data/imaging data/DL_190227_4/ImagingData/2019-03-28/exp62081_DL_001_030.tif',\n",
       " '/Volumes/archive_bonhoeffer_group$/David Laubender/Data/imaging data/DL_190227_4/ImagingData/2019-03-28/exp62081_DL_001_031.tif',\n",
       " '/Volumes/archive_bonhoeffer_group$/David Laubender/Data/imaging data/DL_190227_4/ImagingData/2019-03-28/exp62081_DL_001_032.tif',\n",
       " '/Volumes/archive_bonhoeffer_group$/David Laubender/Data/imaging data/DL_190227_4/ImagingData/2019-03-28/exp62081_DL_001_033.tif',\n",
       " '/Volumes/archive_bonhoeffer_group$/David Laubender/Data/imaging data/DL_190227_4/ImagingData/2019-03-28/exp62081_DL_001_034.tif',\n",
       " '/Volumes/archive_bonhoeffer_group$/David Laubender/Data/imaging data/DL_190227_4/ImagingData/2019-03-28/exp62081_DL_001_035.tif',\n",
       " '/Volumes/archive_bonhoeffer_group$/David Laubender/Data/imaging data/DL_190227_4/ImagingData/2019-03-28/exp62081_DL_001_036.tif',\n",
       " '/Volumes/archive_bonhoeffer_group$/David Laubender/Data/imaging data/DL_190227_4/ImagingData/2019-03-28/exp62081_DL_001_037.tif',\n",
       " '/Volumes/archive_bonhoeffer_group$/David Laubender/Data/imaging data/DL_190227_4/ImagingData/2019-03-28/exp62081_DL_001_038.tif',\n",
       " '/Volumes/archive_bonhoeffer_group$/David Laubender/Data/imaging data/DL_190227_4/ImagingData/2019-03-28/exp62081_DL_001_039.tif',\n",
       " '/Volumes/archive_bonhoeffer_group$/David Laubender/Data/imaging data/DL_190227_4/ImagingData/2019-03-28/exp62081_DL_001_040.tif',\n",
       " '/Volumes/archive_bonhoeffer_group$/David Laubender/Data/imaging data/DL_190227_4/ImagingData/2019-03-28/exp62081_DL_001_041.tif',\n",
       " '/Volumes/archive_bonhoeffer_group$/David Laubender/Data/imaging data/DL_190227_4/ImagingData/2019-03-28/exp62081_DL_001_042.tif',\n",
       " '/Volumes/archive_bonhoeffer_group$/David Laubender/Data/imaging data/DL_190227_4/ImagingData/2019-03-28/exp62081_DL_001_043.tif',\n",
       " '/Volumes/archive_bonhoeffer_group$/David Laubender/Data/imaging data/DL_190227_4/ImagingData/2019-03-28/exp62081_DL_001_044.tif',\n",
       " '/Volumes/archive_bonhoeffer_group$/David Laubender/Data/imaging data/DL_190227_4/ImagingData/2019-03-28/exp62081_DL_001_045.tif',\n",
       " '/Volumes/archive_bonhoeffer_group$/David Laubender/Data/imaging data/DL_190227_4/ImagingData/2019-03-28/exp62081_DL_001_046.tif',\n",
       " '/Volumes/archive_bonhoeffer_group$/David Laubender/Data/imaging data/DL_190227_4/ImagingData/2019-03-28/exp62081_DL_001_047.tif',\n",
       " '/Volumes/archive_bonhoeffer_group$/David Laubender/Data/imaging data/DL_190227_4/ImagingData/2019-03-28/exp62081_DL_001_048.tif',\n",
       " '/Volumes/archive_bonhoeffer_group$/David Laubender/Data/imaging data/DL_190227_4/ImagingData/2019-03-28/exp62081_DL_001_049.tif',\n",
       " '/Volumes/archive_bonhoeffer_group$/David Laubender/Data/imaging data/DL_190227_4/ImagingData/2019-03-28/exp62081_DL_001_050.tif',\n",
       " '/Volumes/archive_bonhoeffer_group$/David Laubender/Data/imaging data/DL_190227_4/ImagingData/2019-03-28/exp62081_DL_001_051.tif',\n",
       " '/Volumes/archive_bonhoeffer_group$/David Laubender/Data/imaging data/DL_190227_4/ImagingData/2019-03-28/exp62081_DL_001_052.tif',\n",
       " '/Volumes/archive_bonhoeffer_group$/David Laubender/Data/imaging data/DL_190227_4/ImagingData/2019-03-28/exp62081_DL_001_053.tif',\n",
       " '/Volumes/archive_bonhoeffer_group$/David Laubender/Data/imaging data/DL_190227_4/ImagingData/2019-03-28/exp62081_DL_001_054.tif',\n",
       " '/Volumes/archive_bonhoeffer_group$/David Laubender/Data/imaging data/DL_190227_4/ImagingData/2019-03-28/exp62081_DL_001_055.tif',\n",
       " '/Volumes/archive_bonhoeffer_group$/David Laubender/Data/imaging data/DL_190227_4/ImagingData/2019-03-28/exp62081_DL_001_056.tif',\n",
       " '/Volumes/archive_bonhoeffer_group$/David Laubender/Data/imaging data/DL_190227_4/ImagingData/2019-03-28/exp62081_DL_001_057.tif',\n",
       " '/Volumes/archive_bonhoeffer_group$/David Laubender/Data/imaging data/DL_190227_4/ImagingData/2019-03-28/exp62081_DL_001_058.tif',\n",
       " '/Volumes/archive_bonhoeffer_group$/David Laubender/Data/imaging data/DL_190227_4/ImagingData/2019-03-28/exp62081_DL_001_059.tif',\n",
       " '/Volumes/archive_bonhoeffer_group$/David Laubender/Data/imaging data/DL_190227_4/ImagingData/2019-03-28/exp62081_DL_001_060.tif',\n",
       " '/Volumes/archive_bonhoeffer_group$/David Laubender/Data/imaging data/DL_190227_4/ImagingData/2019-03-28/exp62081_DL_001_061.tif',\n",
       " '/Volumes/archive_bonhoeffer_group$/David Laubender/Data/imaging data/DL_190227_4/ImagingData/2019-03-28/exp62081_DL_001_062.tif',\n",
       " '/Volumes/archive_bonhoeffer_group$/David Laubender/Data/imaging data/DL_190227_4/ImagingData/2019-03-28/exp62081_DL_001_063.tif',\n",
       " '/Volumes/archive_bonhoeffer_group$/David Laubender/Data/imaging data/DL_190227_4/ImagingData/2019-03-28/exp62081_DL_001_064.tif',\n",
       " '/Volumes/archive_bonhoeffer_group$/David Laubender/Data/imaging data/DL_190227_4/ImagingData/2019-03-28/exp62081_DL_001_065.tif',\n",
       " '/Volumes/archive_bonhoeffer_group$/David Laubender/Data/imaging data/DL_190227_4/ImagingData/2019-03-28/exp62081_DL_001_066.tif',\n",
       " '/Volumes/archive_bonhoeffer_group$/David Laubender/Data/imaging data/DL_190227_4/ImagingData/2019-03-28/exp62081_DL_001_067.tif',\n",
       " '/Volumes/archive_bonhoeffer_group$/David Laubender/Data/imaging data/DL_190227_4/ImagingData/2019-03-28/exp62081_DL_001_068.tif',\n",
       " '/Volumes/archive_bonhoeffer_group$/David Laubender/Data/imaging data/DL_190227_4/ImagingData/2019-03-28/exp62081_DL_001_069.tif',\n",
       " '/Volumes/archive_bonhoeffer_group$/David Laubender/Data/imaging data/DL_190227_4/ImagingData/2019-03-28/exp62081_DL_001_070.tif',\n",
       " '/Volumes/archive_bonhoeffer_group$/David Laubender/Data/imaging data/DL_190227_4/ImagingData/2019-03-28/exp62081_DL_001_071.tif',\n",
       " '/Volumes/archive_bonhoeffer_group$/David Laubender/Data/imaging data/DL_190227_4/ImagingData/2019-03-28/exp62081_DL_001_072.tif',\n",
       " '/Volumes/archive_bonhoeffer_group$/David Laubender/Data/imaging data/DL_190227_4/ImagingData/2019-03-28/exp62081_DL_001_073.tif',\n",
       " '/Volumes/archive_bonhoeffer_group$/David Laubender/Data/imaging data/DL_190227_4/ImagingData/2019-03-28/exp62081_DL_001_074.tif',\n",
       " '/Volumes/archive_bonhoeffer_group$/David Laubender/Data/imaging data/DL_190227_4/ImagingData/2019-03-28/exp62081_DL_001_075.tif',\n",
       " '/Volumes/archive_bonhoeffer_group$/David Laubender/Data/imaging data/DL_190227_4/ImagingData/2019-03-28/exp62081_DL_001_076.tif',\n",
       " '/Volumes/archive_bonhoeffer_group$/David Laubender/Data/imaging data/DL_190227_4/ImagingData/2019-03-28/exp62081_DL_001_077.tif',\n",
       " '/Volumes/archive_bonhoeffer_group$/David Laubender/Data/imaging data/DL_190227_4/ImagingData/2019-03-28/exp62081_DL_001_078.tif',\n",
       " '/Volumes/archive_bonhoeffer_group$/David Laubender/Data/imaging data/DL_190227_4/ImagingData/2019-03-28/exp62081_DL_001_079.tif',\n",
       " '/Volumes/archive_bonhoeffer_group$/David Laubender/Data/imaging data/DL_190227_4/ImagingData/2019-03-28/exp62081_DL_001_080.tif',\n",
       " '/Volumes/archive_bonhoeffer_group$/David Laubender/Data/imaging data/DL_190227_4/ImagingData/2019-03-28/exp62081_DL_001_081.tif',\n",
       " '/Volumes/archive_bonhoeffer_group$/David Laubender/Data/imaging data/DL_190227_4/ImagingData/2019-03-28/exp62081_DL_001_082.tif',\n",
       " '/Volumes/archive_bonhoeffer_group$/David Laubender/Data/imaging data/DL_190227_4/ImagingData/2019-03-28/exp62081_DL_001_083.tif',\n",
       " '/Volumes/archive_bonhoeffer_group$/David Laubender/Data/imaging data/DL_190227_4/ImagingData/2019-03-28/exp62081_DL_001_084.tif',\n",
       " '/Volumes/archive_bonhoeffer_group$/David Laubender/Data/imaging data/DL_190227_4/ImagingData/2019-03-28/exp62081_DL_001_085.tif',\n",
       " '/Volumes/archive_bonhoeffer_group$/David Laubender/Data/imaging data/DL_190227_4/ImagingData/2019-03-28/exp62081_DL_001_086.tif',\n",
       " '/Volumes/archive_bonhoeffer_group$/David Laubender/Data/imaging data/DL_190227_4/ImagingData/2019-03-28/exp62081_DL_001_087.tif',\n",
       " '/Volumes/archive_bonhoeffer_group$/David Laubender/Data/imaging data/DL_190227_4/ImagingData/2019-03-28/exp62081_DL_001_088.tif',\n",
       " '/Volumes/archive_bonhoeffer_group$/David Laubender/Data/imaging data/DL_190227_4/ImagingData/2019-03-28/exp62081_DL_001_089.tif',\n",
       " '/Volumes/archive_bonhoeffer_group$/David Laubender/Data/imaging data/DL_190227_4/ImagingData/2019-03-28/exp62081_DL_001_090.tif',\n",
       " '/Volumes/archive_bonhoeffer_group$/David Laubender/Data/imaging data/DL_190227_4/ImagingData/2019-03-28/exp62081_DL_001_091.tif',\n",
       " '/Volumes/archive_bonhoeffer_group$/David Laubender/Data/imaging data/DL_190227_4/ImagingData/2019-03-28/exp62081_DL_001_092.tif',\n",
       " '/Volumes/archive_bonhoeffer_group$/David Laubender/Data/imaging data/DL_190227_4/ImagingData/2019-03-28/exp62081_DL_001_093.tif',\n",
       " '/Volumes/archive_bonhoeffer_group$/David Laubender/Data/imaging data/DL_190227_4/ImagingData/2019-03-28/exp62081_DL_001_094.tif',\n",
       " '/Volumes/archive_bonhoeffer_group$/David Laubender/Data/imaging data/DL_190227_4/ImagingData/2019-03-28/exp62081_DL_001_095.tif',\n",
       " '/Volumes/archive_bonhoeffer_group$/David Laubender/Data/imaging data/DL_190227_4/ImagingData/2019-03-28/exp62081_DL_001_096.tif',\n",
       " '/Volumes/archive_bonhoeffer_group$/David Laubender/Data/imaging data/DL_190227_4/ImagingData/2019-03-28/exp62081_DL_001_097.tif',\n",
       " '/Volumes/archive_bonhoeffer_group$/David Laubender/Data/imaging data/DL_190227_4/ImagingData/2019-03-28/exp62081_DL_001_098.tif',\n",
       " '/Volumes/archive_bonhoeffer_group$/David Laubender/Data/imaging data/DL_190227_4/ImagingData/2019-03-28/exp62081_DL_001_099.tif',\n",
       " '/Volumes/archive_bonhoeffer_group$/David Laubender/Data/imaging data/DL_190227_4/ImagingData/2019-03-28/exp62081_DL_001_100.tif',\n",
       " '/Volumes/archive_bonhoeffer_group$/David Laubender/Data/imaging data/DL_190227_4/ImagingData/2019-03-28/exp62081_DL_001_101.tif']"
      ]
     },
     "execution_count": 10,
     "metadata": {},
     "output_type": "execute_result"
    }
   ],
   "source": [
    "files"
   ]
  },
  {
   "cell_type": "code",
   "execution_count": 10,
   "metadata": {},
   "outputs": [
    {
     "ename": "ScanImageVersionError",
     "evalue": "Could not find ScanImage version in the tiff header",
     "output_type": "error",
     "traceback": [
      "\u001b[0;31m---------------------------------------------------------------------------\u001b[0m",
      "\u001b[0;31mScanImageVersionError\u001b[0m                     Traceback (most recent call last)",
      "\u001b[0;32m<ipython-input-10-9a0f7eda0a6b>\u001b[0m in \u001b[0;36m<module>\u001b[0;34m\u001b[0m\n\u001b[0;32m----> 1\u001b[0;31m \u001b[0mscan\u001b[0m \u001b[0;34m=\u001b[0m \u001b[0mscanreader\u001b[0m\u001b[0;34m.\u001b[0m\u001b[0mread_scan\u001b[0m\u001b[0;34m(\u001b[0m\u001b[0mfiles\u001b[0m\u001b[0;34m[\u001b[0m\u001b[0;36m1\u001b[0m\u001b[0;34m]\u001b[0m\u001b[0;34m)\u001b[0m\u001b[0;34m\u001b[0m\u001b[0;34m\u001b[0m\u001b[0m\n\u001b[0m\u001b[1;32m      2\u001b[0m \u001b[0mprint\u001b[0m\u001b[0;34m(\u001b[0m\u001b[0mscan\u001b[0m\u001b[0;34m.\u001b[0m\u001b[0mversion\u001b[0m\u001b[0;34m)\u001b[0m\u001b[0;34m\u001b[0m\u001b[0;34m\u001b[0m\u001b[0m\n\u001b[1;32m      3\u001b[0m \u001b[0mprint\u001b[0m\u001b[0;34m(\u001b[0m\u001b[0mscan\u001b[0m\u001b[0;34m.\u001b[0m\u001b[0mnum_frames\u001b[0m\u001b[0;34m)\u001b[0m\u001b[0;34m\u001b[0m\u001b[0;34m\u001b[0m\u001b[0m\n\u001b[1;32m      4\u001b[0m \u001b[0mprint\u001b[0m\u001b[0;34m(\u001b[0m\u001b[0mscan\u001b[0m\u001b[0;34m.\u001b[0m\u001b[0mnum_channels\u001b[0m\u001b[0;34m)\u001b[0m\u001b[0;34m\u001b[0m\u001b[0;34m\u001b[0m\u001b[0m\n\u001b[1;32m      5\u001b[0m \u001b[0mprint\u001b[0m\u001b[0;34m(\u001b[0m\u001b[0mscan\u001b[0m\u001b[0;34m.\u001b[0m\u001b[0mnum_fields\u001b[0m\u001b[0;34m)\u001b[0m\u001b[0;34m\u001b[0m\u001b[0;34m\u001b[0m\u001b[0m\n",
      "\u001b[0;32m~/Documents/GitHub/scanreader/scanreader/core.py\u001b[0m in \u001b[0;36mread_scan\u001b[0;34m(pathnames, dtype, join_contiguous)\u001b[0m\n\u001b[1;32m     43\u001b[0m     \u001b[0;32mwith\u001b[0m \u001b[0mTiffFile\u001b[0m\u001b[0;34m(\u001b[0m\u001b[0mfilenames\u001b[0m\u001b[0;34m[\u001b[0m\u001b[0;36m0\u001b[0m\u001b[0;34m]\u001b[0m\u001b[0;34m)\u001b[0m \u001b[0;32mas\u001b[0m \u001b[0mtiff_file\u001b[0m\u001b[0;34m:\u001b[0m\u001b[0;34m\u001b[0m\u001b[0;34m\u001b[0m\u001b[0m\n\u001b[1;32m     44\u001b[0m         \u001b[0mfile_info\u001b[0m \u001b[0;34m=\u001b[0m \u001b[0mtiff_file\u001b[0m\u001b[0;34m.\u001b[0m\u001b[0mpages\u001b[0m\u001b[0;34m[\u001b[0m\u001b[0;36m0\u001b[0m\u001b[0;34m]\u001b[0m\u001b[0;34m.\u001b[0m\u001b[0mdescription\u001b[0m \u001b[0;34m+\u001b[0m \u001b[0;34m'\\n'\u001b[0m \u001b[0;34m+\u001b[0m \u001b[0mtiff_file\u001b[0m\u001b[0;34m.\u001b[0m\u001b[0mpages\u001b[0m\u001b[0;34m[\u001b[0m\u001b[0;36m0\u001b[0m\u001b[0;34m]\u001b[0m\u001b[0;34m.\u001b[0m\u001b[0msoftware\u001b[0m\u001b[0;34m\u001b[0m\u001b[0;34m\u001b[0m\u001b[0m\n\u001b[0;32m---> 45\u001b[0;31m     \u001b[0mversion\u001b[0m \u001b[0;34m=\u001b[0m \u001b[0mget_scanimage_version\u001b[0m\u001b[0;34m(\u001b[0m\u001b[0mfile_info\u001b[0m\u001b[0;34m)\u001b[0m\u001b[0;34m\u001b[0m\u001b[0;34m\u001b[0m\u001b[0m\n\u001b[0m\u001b[1;32m     46\u001b[0m \u001b[0;34m\u001b[0m\u001b[0m\n\u001b[1;32m     47\u001b[0m     \u001b[0;31m# Select the appropriate scan object\u001b[0m\u001b[0;34m\u001b[0m\u001b[0;34m\u001b[0m\u001b[0;34m\u001b[0m\u001b[0m\n",
      "\u001b[0;32m~/Documents/GitHub/scanreader/scanreader/core.py\u001b[0m in \u001b[0;36mget_scanimage_version\u001b[0;34m(info)\u001b[0m\n\u001b[1;32m    103\u001b[0m         \u001b[0mversion\u001b[0m \u001b[0;34m=\u001b[0m \u001b[0mmatch\u001b[0m\u001b[0;34m.\u001b[0m\u001b[0mgroup\u001b[0m\u001b[0;34m(\u001b[0m\u001b[0;34m'version'\u001b[0m\u001b[0;34m)\u001b[0m\u001b[0;34m\u001b[0m\u001b[0;34m\u001b[0m\u001b[0m\n\u001b[1;32m    104\u001b[0m     \u001b[0;32melse\u001b[0m\u001b[0;34m:\u001b[0m\u001b[0;34m\u001b[0m\u001b[0;34m\u001b[0m\u001b[0m\n\u001b[0;32m--> 105\u001b[0;31m         \u001b[0;32mraise\u001b[0m \u001b[0mScanImageVersionError\u001b[0m\u001b[0;34m(\u001b[0m\u001b[0;34m'Could not find ScanImage version in the tiff header'\u001b[0m\u001b[0;34m)\u001b[0m\u001b[0;34m\u001b[0m\u001b[0;34m\u001b[0m\u001b[0m\n\u001b[0m\u001b[1;32m    106\u001b[0m \u001b[0;34m\u001b[0m\u001b[0m\n\u001b[1;32m    107\u001b[0m     \u001b[0;32mreturn\u001b[0m \u001b[0mversion\u001b[0m\u001b[0;34m\u001b[0m\u001b[0;34m\u001b[0m\u001b[0m\n",
      "\u001b[0;31mScanImageVersionError\u001b[0m: Could not find ScanImage version in the tiff header"
     ]
    }
   ],
   "source": [
    "scan = scanreader.read_scan(files[1])\n",
    "print(scan.version)\n",
    "print(scan.num_frames)\n",
    "print(scan.num_channels)\n",
    "print(scan.num_fields)"
   ]
  },
  {
   "cell_type": "code",
   "execution_count": null,
   "metadata": {},
   "outputs": [],
   "source": []
  }
 ],
 "metadata": {
  "kernelspec": {
   "display_name": "Python 3",
   "language": "python",
   "name": "python3"
  },
  "language_info": {
   "codemirror_mode": {
    "name": "ipython",
    "version": 3
   },
   "file_extension": ".py",
   "mimetype": "text/x-python",
   "name": "python",
   "nbconvert_exporter": "python",
   "pygments_lexer": "ipython3",
   "version": "3.7.5"
  }
 },
 "nbformat": 4,
 "nbformat_minor": 4
}
