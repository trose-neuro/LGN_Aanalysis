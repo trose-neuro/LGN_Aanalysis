{
 "cells": [
  {
   "cell_type": "code",
   "execution_count": 1,
   "metadata": {},
   "outputs": [],
   "source": [
    "import numpy as np\n",
    "import sys\n",
    "from pathlib import Path\n",
    "import glob\n",
    "import os\n",
    "\n",
    "# option to import  from github folder\n",
    "sys.path.insert(0, 'C:/Users/trose/Documents/GitHub/suite2p')\n",
    "from suite2p import run_s2p\n",
    "\n",
    "# set your options for running\n",
    "ops = run_s2p.default_ops() # populates ops with the default options"
   ]
  },
  {
   "cell_type": "code",
   "execution_count": 2,
   "metadata": {},
   "outputs": [],
   "source": [
    "#own imports\n",
    "#scanimage load imports and file handling\n",
    "from ScanImageTiffReader import ScanImageTiffReader\n",
    "from helpers import parse_SI_header as pSI #own\n",
    "from pathlib import Path\n",
    "from shutil import copy\n",
    "#import pandas as pd"
   ]
  },
  {
   "cell_type": "markdown",
   "metadata": {},
   "source": [
    "### PC file handling"
   ]
  },
  {
   "cell_type": "code",
   "execution_count": 121,
   "metadata": {},
   "outputs": [],
   "source": [
    "# EXPERIMENT IDs\n",
    "exp = {'61525','61526'}\n",
    "\n",
    "main_root = 'I:/Joel Bauer/Data/imaging data/'\n",
    "froot = 'E:/temp/trose/s2p_tiff/'      #temp drive for concatenating exp tiffs\n",
    "fsave_tmp =  froot + '/suite2p'\n",
    "fsave =  froot \n",
    "ftemp = 'C:/temp/trose/suite2ptemp'    #fast disk\n",
    "ftemp_tmp = ftemp + '/suite2p'\n",
    "\n",
    "Path(fsave_tmp).mkdir(parents=True, exist_ok=True)\n",
    "Path(ftemp_tmp).mkdir(parents=True, exist_ok=True)"
   ]
  },
  {
   "cell_type": "markdown",
   "metadata": {
    "jupyter": {
     "source_hidden": true
    }
   },
   "source": [
    "### Mac file handling"
   ]
  },
  {
   "cell_type": "code",
   "execution_count": null,
   "metadata": {
    "jupyter": {
     "source_hidden": true
    }
   },
   "outputs": [],
   "source": [
    "# EXPERIMENT IDs\n",
    "exp = {'62335','62336'}\n",
    "\n",
    "froot = '/Users/trose/Data/temp/David Laubender/Data/imaging data/'\n",
    "froot = '/Users/trose/Data/s2p_tiff/'\n",
    "fsave_tmp =  froot + '/suite2p'\n",
    "fsave =  froot \n",
    "ftemp = '/Users/trose/Data/temp/'\n",
    "ftemp_tmp = ftemp + '/suite2p'\n",
    "\n",
    "Path(fsave_tmp).mkdir(parents=True, exist_ok=True)\n",
    "Path(ftemp_tmp).mkdir(parents=True, exist_ok=True)"
   ]
  },
  {
   "cell_type": "code",
   "execution_count": null,
   "metadata": {},
   "outputs": [
    {
     "name": "stdout",
     "output_type": "stream",
     "text": [
      "copied I:\\David Laubender\\Data\\imaging data\\DL_191106_2\\ImagingData\\2019-12-14\\exp62336_DL_003_028.tif to E:/temp/trose/s2p_tiff/\n",
      "copied I:\\David Laubender\\Data\\imaging data\\DL_191106_2\\ImagingData\\2019-12-14\\exp62336_DL_003_020.tif to E:/temp/trose/s2p_tiff/\n",
      "copied I:\\David Laubender\\Data\\imaging data\\DL_191106_2\\ImagingData\\2019-12-14\\exp62336_DL_003_061.tif to E:/temp/trose/s2p_tiff/\n",
      "copied I:\\David Laubender\\Data\\imaging data\\DL_191106_2\\ImagingData\\2019-12-14\\exp62336_DL_003_007.tif to E:/temp/trose/s2p_tiff/\n",
      "copied I:\\David Laubender\\Data\\imaging data\\DL_191106_2\\ImagingData\\2019-12-14\\exp62336_DL_003_019.tif to E:/temp/trose/s2p_tiff/\n",
      "copied I:\\David Laubender\\Data\\imaging data\\DL_191106_2\\ImagingData\\2019-12-14\\exp62336_DL_003_062.tif to E:/temp/trose/s2p_tiff/\n",
      "copied I:\\David Laubender\\Data\\imaging data\\DL_191106_2\\ImagingData\\2019-12-14\\exp62336_DL_003_022.tif to E:/temp/trose/s2p_tiff/\n",
      "copied I:\\David Laubender\\Data\\imaging data\\DL_191106_2\\ImagingData\\2019-12-14\\exp62336_DL_003_025.tif to E:/temp/trose/s2p_tiff/\n",
      "copied I:\\David Laubender\\Data\\imaging data\\DL_191106_2\\ImagingData\\2019-12-14\\exp62336_DL_003_045.tif to E:/temp/trose/s2p_tiff/\n",
      "copied I:\\David Laubender\\Data\\imaging data\\DL_191106_2\\ImagingData\\2019-12-14\\exp62336_DL_003_026.tif to E:/temp/trose/s2p_tiff/\n",
      "copied I:\\David Laubender\\Data\\imaging data\\DL_191106_2\\ImagingData\\2019-12-14\\exp62336_DL_003_036.tif to E:/temp/trose/s2p_tiff/\n",
      "copied I:\\David Laubender\\Data\\imaging data\\DL_191106_2\\ImagingData\\2019-12-14\\exp62336_DL_003_006.tif to E:/temp/trose/s2p_tiff/\n",
      "copied I:\\David Laubender\\Data\\imaging data\\DL_191106_2\\ImagingData\\2019-12-14\\exp62336_DL_003_034.tif to E:/temp/trose/s2p_tiff/\n",
      "copied I:\\David Laubender\\Data\\imaging data\\DL_191106_2\\ImagingData\\2019-12-14\\exp62336_DL_003_049.tif to E:/temp/trose/s2p_tiff/\n",
      "copied I:\\David Laubender\\Data\\imaging data\\DL_191106_2\\ImagingData\\2019-12-14\\exp62336_DL_003_016.tif to E:/temp/trose/s2p_tiff/\n",
      "copied I:\\David Laubender\\Data\\imaging data\\DL_191106_2\\ImagingData\\2019-12-14\\exp62336_DL_003_010.tif to E:/temp/trose/s2p_tiff/\n",
      "copied I:\\David Laubender\\Data\\imaging data\\DL_191106_2\\ImagingData\\2019-12-14\\exp62336_DL_003_042.tif to E:/temp/trose/s2p_tiff/\n"
     ]
    }
   ],
   "source": [
    "# Copy all tiffs to a temp folder for concatenated handling\n",
    "files_fullpath = []\n",
    "for val in exp:\n",
    "    files = list(Path(main_root).rglob('exp'+val+'*.tif')) #recursive search over main_root\n",
    "    for n,f in enumerate(files):\n",
    "        #files[n] = os.path.basename(f)\n",
    "        #files_fullpath.append(files[n])\n",
    "        copy(files[n], froot)\n",
    "        targetstring = [str(files[n]), str(froot)]\n",
    "        print('copied {} to {}'.format(*targetstring))"
   ]
  },
  {
   "cell_type": "code",
   "execution_count": null,
   "metadata": {},
   "outputs": [],
   "source": [
    "files_fullpath = []\n",
    "files_name = []\n",
    "\n",
    "for val in exp:\n",
    "    files = list(Path(froot).glob('exp'+val+'*.tif'))\n",
    "    files = list(Path(froot).rglob('exp'+val+'*.tif')) #recursive\n",
    "    #files = glob.glob(os.path.join(froot, 'exp'+val+'*.tif'))\n",
    "    for n,f in enumerate(files):\n",
    "        #files[n] = os.path.basename(f)\n",
    "        files_fullpath.append(str(files[n]))\n",
    "        files_name.append(f.name)\n",
    "\n",
    "    \n",
    "files_fullpath = sorted(files_fullpath)\n",
    "files_name = sorted(files_name)"
   ]
  },
  {
   "cell_type": "code",
   "execution_count": null,
   "metadata": {},
   "outputs": [],
   "source": [
    "with ScanImageTiffReader(files_fullpath[0]) as reader:\n",
    "    header = (reader.description(0))\n",
    "    mov_dim = (reader.shape())\n",
    "    \n",
    "level = pSI.parse_SI_header_level(header)\n",
    "zoom = pSI.parse_SI_header_zoom(header)\n",
    "framerate = pSI.parse_SI_header_FrameRate(header)\n",
    "channels = pSI.parse_SI_header_Channels(header)\n",
    "volumes = pSI.parse_SI_header_Volumes(header)\n",
    "frames = pSI.parse_SI_header_Frames(header)\n",
    "frames_per_file = pSI.parse_SI_header_FramesPerFile(header)\n",
    "\n",
    "# account for multilevel acq where frames is 1\n",
    "if frames < volumes:\n",
    "    frames = volumes"
   ]
  },
  {
   "cell_type": "code",
   "execution_count": null,
   "metadata": {},
   "outputs": [],
   "source": [
    "bad_frames = np.linspace(0, 49, 50)\n",
    "np.save(fsave_tmp + '/bad_frames.npy', bad_frames)\n",
    "np.save(ftemp_tmp + '/bad_frames.npy', bad_frames)\n",
    "#np.save(ftemp + '/bad_frames.npy', bad_frames)"
   ]
  },
  {
   "cell_type": "code",
   "execution_count": null,
   "metadata": {},
   "outputs": [],
   "source": [
    "db = {\n",
    "      'h5py': [], # a single h5 file path\n",
    "      'h5py_key': 'data', # file paths\n",
    "      'look_one_level_down': False, # whether to look in ALL subfolders when searching for tiffs\n",
    "      'data_path': [froot],  # a list of folders with tiffs\n",
    "                             # (or folder of folders with tiffs if look_one_level_down is True, or subfolders is not empty)\n",
    "      'delete_bin': False,\n",
    "      'save_path0': fsave,\n",
    "      'fast_disk': ftemp,\n",
    "      'subfolders': [], # choose subfolders of 'data_path' to look in (optional)\n",
    "\n",
    "      # main settings\n",
    "      'nplanes': level, # each tiff has these many planes in sequence\n",
    "      'nchannels': channels, # each tiff has these many channels per plane\n",
    "      'functional_chan': 1, # this channel is used to extract functional ROIs (1-based)\n",
    "      'tau':  1., # this is the main parameter for deconvolution\n",
    "      'fs': framerate / level,  # sampling rate (PER PLANE - e.g. if you have 12 planes then this should be around 2.5)\n",
    "      'preclassify': 0, # apply classifier before signal extraction with probability 0.5 (turn off with value 0)\n",
    "      'frames_include:': -1,  #default: -1) if greater than zero, only frames_include frames are processed. useful for testing parameters on a subset of data.\n",
    "      # output settings\n",
    "      'save_mat': True, # whether to save output as matlab files\n",
    "      'combined': True, # combine multiple planes into a single result /single canvas for GUI\n",
    "\n",
    "      'num_workers': 0, # 0 to select num_cores, -1 to disable parallelism, N to enforce value\n",
    "      'num_workers_roi': 0, # 0 to select number of planes, -1 to disable parallelism, N to enforce value\n",
    "      'force_sktiff': False,\n",
    "      # bidirectional phase offset\n",
    "      'do_bidiphase': True,\n",
    "      'bidiphase': 0,\n",
    "\n",
    "      # registration settings\n",
    "      'do_registration': 1, # whether to register data (2 forces re-registration)\n",
    "      'two_step_registration:': True, #default: False) whether or not to run registration twice (for low SNR data). keep_movie_raw must be True for this to work.\n",
    "      'keep_movie_raw': True,\n",
    "      'nimg_init': 500, # subsampled frames for finding reference image\n",
    "      'batch_size': 5000, # number of frames per batch\n",
    "      'maxregshift': 0.05, # max allowed registration shift, as a fraction of frame max(width and height)\n",
    "      'align_by_chan' : 1, # when multi-channel, you can align by non-functional channel (1-based)\n",
    "      'reg_tif': True, # whether to save registered tiffs\n",
    "      'reg_tif_chan2': False, # whether to save channel 2 registered tiffs\n",
    "      'subpixel' : 10, # precision of subpixel registration (1/subpixel steps)\n",
    "      'smooth_sigma': 1.15, # ~1 good for 2P recordings, recommend >5 for 1P recordings\n",
    "      'smooth_sigma_time': 1, # default: 0) standard deviation in time frames of the gaussian used to smooth the data before phase correlation is computed. Might need this to be set to 1 or 2 for low SNR data.\n",
    "      'th_badframes': 1.0, # this parameter determines which frames to exclude when determining cropping - set it smaller to exclude more frames\n",
    "      'pad_fft': True,\n",
    "\n",
    "      # non rigid registration settings\n",
    "      'nonrigid': True, # whether to use nonrigid registration\n",
    "      'block_size': [128, 128], # block size to register (** keep this a multiple of 2 **)\n",
    "      'snr_thresh': 1.2, # if any nonrigid block is below this threshold, it gets smoothed until above this threshold. 1.0 results in no smoothing\n",
    "      'maxregshiftNR': 5, # maximum pixel shift allowed for nonrigid, relative to rigid\n",
    "\n",
    "      # cell detection settings\n",
    "      'roidetect': True, # whether or not to run ROI extraction\n",
    "      'spatial_scale': 0, # 0: multi-scale; 1: 6 pixels, 2: 12 pixels, 3: 24 pixels, 4: 48 pixels\n",
    "      'diameter': [9,12], #this is the main parameter for cell detection, 2-dimensional if Y and X are different (e.g. [6 12])\n",
    "      'connected': False, # whether or not to keep ROIs fully connected (set to 0 for dendrites)\n",
    "      'nbinned': 5000, # max number of binned frames for cell detection\n",
    "      'max_iterations': 50, # maximum number of iterations to do cell detection\n",
    "      'threshold_scaling': 2.0, # adjust the automatically determined threshold by this scalar multiplier\n",
    "      'max_overlap': 0.9, # cells with more overlap than this get removed during triage, before refinement\n",
    "      'high_pass': 100, # running mean subtraction with window of size 'high_pass' (use low values for 1P)\n",
    "      'smooth_masks': True, # default: True) whether to smooth masks in final pass of cell detection. This is useful especially if you are in a high noise regime.\n",
    "\n",
    "      # ROI extraction parameters\n",
    "      'sparse_mode': False, #default: False) whether or not to use sparse_mode cell detection\n",
    "      'inner_neuropil_radius': 2, # number of pixels to keep between ROI and neuropil donut\n",
    "      'min_neuropil_pixels': 350, # minimum number of pixels in the neuropil\n",
    "      'allow_overlap': False, # pixels that are overlapping are thrown out (False) or added to both ROIs (True)\n",
    "\n",
    "      # channel 2 detection settings (stat[n]['chan2'], stat[n]['not_chan2'])\n",
    "      'chan2_thres': 0.65, # minimum for detection of brightness on channel 2\n",
    "\n",
    "      # deconvolution settings\n",
    "      'baseline': 'maximin', # baselining mode (can also choose 'prctile')\n",
    "      'win_baseline': 60., # window for maximin\n",
    "      'sig_baseline': 10., # smoothing constant for gaussian filter\n",
    "      'prctile_baseline': 8.,# optional (whether to use a percentile baseline)\n",
    "      'neucoeff': .7,  # neuropil coefficient\n",
    "\n",
    "\n",
    "      # List of tiffs to be loaded\n",
    "      'tiff_list': files_name # list of tiffs in folder * data_path *!\n",
    "}\n"
   ]
  },
  {
   "cell_type": "code",
   "execution_count": 110,
   "metadata": {},
   "outputs": [
    {
     "name": "stdout",
     "output_type": "stream",
     "text": [
      "{'h5py': [], 'h5py_key': 'data', 'look_one_level_down': False, 'data_path': ['E:/temp/trose/s2p_tiff/'], 'delete_bin': False, 'save_path0': 'E:/temp/trose/s2p_tiff/', 'fast_disk': 'C:/temp/trose/suite2ptemp', 'subfolders': [], 'nplanes': 4, 'nchannels': 1, 'functional_chan': 1, 'tau': 1.0, 'fs': 7.5, 'preclassify': 0, 'frames_include:': -1, 'save_mat': True, 'combined': True, 'num_workers': 0, 'num_workers_roi': 0, 'force_sktiff': False, 'do_bidiphase': True, 'bidiphase': 0, 'do_registration': 1, 'two_step_registration:': True, 'keep_movie_raw': True, 'nimg_init': 500, 'batch_size': 5000, 'maxregshift': 0.05, 'align_by_chan': 1, 'reg_tif': True, 'reg_tif_chan2': False, 'subpixel': 10, 'smooth_sigma': 1.15, 'smooth_sigma_time': 1, 'th_badframes': 1.0, 'pad_fft': True, 'nonrigid': True, 'block_size': [128, 128], 'snr_thresh': 1.2, 'maxregshiftNR': 5, 'roidetect': True, 'spatial_scale': 0, 'diameter': [9, 12], 'connected': False, 'nbinned': 5000, 'max_iterations': 50, 'threshold_scaling': 2.0, 'max_overlap': 0.9, 'high_pass': 100, 'smooth_masks': True, 'sparse_mode': False, 'inner_neuropil_radius': 2, 'min_neuropil_pixels': 350, 'allow_overlap': False, 'chan2_thres': 0.65, 'baseline': 'maximin', 'win_baseline': 60.0, 'sig_baseline': 10.0, 'prctile_baseline': 8.0, 'neucoeff': 0.7, 'tiff_list': ['exp62335_DL_002_001.tif', 'exp62335_DL_002_002.tif', 'exp62335_DL_002_003.tif', 'exp62335_DL_002_004.tif', 'exp62335_DL_002_005.tif', 'exp62336_DL_003_001.tif', 'exp62336_DL_003_002.tif', 'exp62336_DL_003_003.tif', 'exp62336_DL_003_004.tif', 'exp62336_DL_003_005.tif']}\n",
      "tif\n",
      "** Found 10 tifs - converting to binary **\n",
      "time 8.29 sec. Wrote tifs to binaries for 4 planes\n",
      ">>>>>>>>>>>>>>>>>>>>> PLANE 0 <<<<<<<<<<<<<<<<<<<<<<\n",
      "----------- REGISTRATION\n",
      "registering 1250 frames\n",
      "NOTE: estimated bidiphase offset from data: 0 pixels\n",
      "Reference frame, 33.80 sec.\n",
      "1250/1250 frames, 62.01 sec.\n",
      "bad frames file path: E:\\temp\\trose\\s2p_tiff\\bad_frames.npy\n",
      "----------- Total 96.33 sec\n",
      "----------- ROI DETECTION AND EXTRACTION\n",
      "Binning movie in chunks of length 08\n",
      "Binned movie [150,467,462], 1.68 sec.\n",
      "ROIs: 142, cost: 0.5610, time: 8.1513\n",
      "ROIs: 174, cost: 0.5565, time: 10.1326\n",
      "ROIs: 176, cost: 0.5560, time: 11.4149\n",
      "Binning movie in chunks of length 08\n",
      "Binned movie [150,467,462], 1.40 sec.\n",
      "ROIs: 176, cost: 0.5830, time: 13.8172\n",
      "ROIs: 176, cost: 0.5738, time: 14.7653\n",
      "ROIs: 176, cost: 0.5733, time: 15.5126\n",
      "Found 176 ROIs, 18.24 sec\n",
      "NOTE: applying classifier C:\\Users\\trose\\Documents\\GitHub\\suite2p\\suite2p\\extraction\\../classifiers/classifier_user.npy\n",
      "After removing overlaps, 175 ROIs remain\n"
     ]
    },
    {
     "name": "stderr",
     "output_type": "stream",
     "text": [
      "C:\\Users\\trose\\AppData\\Local\\Continuum\\miniconda3\\envs\\suite2p\\lib\\site-packages\\sklearn\\linear_model\\logistic.py:432: FutureWarning: Default solver will be changed to 'lbfgs' in 0.22. Specify a solver to silence this warning.\n",
      "  FutureWarning)\n"
     ]
    },
    {
     "name": "stdout",
     "output_type": "stream",
     "text": [
      "Masks made in 2.42 sec.\n",
      "Extracted fluorescence from 175 ROIs in 1250 frames, 2.75 sec.\n",
      "----------- Total 30.15 sec.\n",
      "----------- SPIKE DECONVOLUTION\n",
      "----------- Total 26.81 sec.\n",
      "Plane 0 processed in 153.45 sec (can open in GUI).\n",
      "total = 161.75 sec.\n",
      ">>>>>>>>>>>>>>>>>>>>> PLANE 1 <<<<<<<<<<<<<<<<<<<<<<\n",
      "----------- REGISTRATION\n",
      "registering 1250 frames\n",
      "NOTE: estimated bidiphase offset from data: 1 pixels\n",
      "Reference frame, 33.51 sec.\n",
      "1250/1250 frames, 62.35 sec.\n",
      "bad frames file path: E:\\temp\\trose\\s2p_tiff\\bad_frames.npy\n",
      "----------- Total 96.40 sec\n",
      "----------- ROI DETECTION AND EXTRACTION\n",
      "Binning movie in chunks of length 08\n",
      "Binned movie [154,464,462], 1.60 sec.\n",
      "ROIs: 150, cost: 0.5629, time: 8.1123\n",
      "ROIs: 185, cost: 0.5585, time: 10.1779\n",
      "ROIs: 185, cost: 0.5581, time: 11.5024\n",
      "Binning movie in chunks of length 08\n",
      "Binned movie [154,464,462], 1.39 sec.\n",
      "ROIs: 185, cost: 0.5868, time: 13.9149\n",
      "ROIs: 185, cost: 0.5771, time: 14.9447\n",
      "ROIs: 185, cost: 0.5765, time: 15.7599\n",
      "Found 185 ROIs, 18.66 sec\n",
      "NOTE: applying classifier C:\\Users\\trose\\Documents\\GitHub\\suite2p\\suite2p\\extraction\\../classifiers/classifier_user.npy\n",
      "After removing overlaps, 185 ROIs remain\n"
     ]
    },
    {
     "name": "stderr",
     "output_type": "stream",
     "text": [
      "C:\\Users\\trose\\AppData\\Local\\Continuum\\miniconda3\\envs\\suite2p\\lib\\site-packages\\sklearn\\linear_model\\logistic.py:432: FutureWarning: Default solver will be changed to 'lbfgs' in 0.22. Specify a solver to silence this warning.\n",
      "  FutureWarning)\n"
     ]
    },
    {
     "name": "stdout",
     "output_type": "stream",
     "text": [
      "Masks made in 2.39 sec.\n",
      "Extracted fluorescence from 185 ROIs in 1250 frames, 2.79 sec.\n",
      "----------- Total 30.23 sec.\n",
      "----------- SPIKE DECONVOLUTION\n",
      "----------- Total 26.34 sec.\n",
      "Plane 1 processed in 153.13 sec (can open in GUI).\n",
      "total = 314.88 sec.\n",
      ">>>>>>>>>>>>>>>>>>>>> PLANE 2 <<<<<<<<<<<<<<<<<<<<<<\n",
      "----------- REGISTRATION\n",
      "registering 1250 frames\n",
      "NOTE: estimated bidiphase offset from data: 1 pixels\n"
     ]
    },
    {
     "ename": "KeyboardInterrupt",
     "evalue": "",
     "output_type": "error",
     "traceback": [
      "\u001b[1;31m---------------------------------------------------------------------------\u001b[0m",
      "\u001b[1;31mKeyboardInterrupt\u001b[0m                         Traceback (most recent call last)",
      "\u001b[1;32m<ipython-input-110-3e59339da3e9>\u001b[0m in \u001b[0;36m<module>\u001b[1;34m\u001b[0m\n\u001b[1;32m----> 1\u001b[1;33m \u001b[0mopsEnd\u001b[0m \u001b[1;33m=\u001b[0m \u001b[0mrun_s2p\u001b[0m\u001b[1;33m.\u001b[0m\u001b[0mrun_s2p\u001b[0m\u001b[1;33m(\u001b[0m\u001b[0mops\u001b[0m\u001b[1;33m=\u001b[0m\u001b[0mops\u001b[0m\u001b[1;33m,\u001b[0m \u001b[0mdb\u001b[0m\u001b[1;33m=\u001b[0m\u001b[0mdb\u001b[0m\u001b[1;33m)\u001b[0m\u001b[1;33m\u001b[0m\u001b[1;33m\u001b[0m\u001b[0m\n\u001b[0m",
      "\u001b[1;32mC:/Users/trose/Documents/GitHub/suite2p\\suite2p\\run_s2p.py\u001b[0m in \u001b[0;36mrun_s2p\u001b[1;34m(ops, db)\u001b[0m\n\u001b[0;32m    249\u001b[0m             \u001b[0mt11\u001b[0m\u001b[1;33m=\u001b[0m\u001b[0mtime\u001b[0m\u001b[1;33m.\u001b[0m\u001b[0mtime\u001b[0m\u001b[1;33m(\u001b[0m\u001b[1;33m)\u001b[0m\u001b[1;33m\u001b[0m\u001b[1;33m\u001b[0m\u001b[0m\n\u001b[0;32m    250\u001b[0m             \u001b[0mprint\u001b[0m\u001b[1;33m(\u001b[0m\u001b[1;34m'----------- REGISTRATION'\u001b[0m\u001b[1;33m)\u001b[0m\u001b[1;33m\u001b[0m\u001b[1;33m\u001b[0m\u001b[0m\n\u001b[1;32m--> 251\u001b[1;33m             \u001b[0mops1\u001b[0m\u001b[1;33m[\u001b[0m\u001b[0mipl\u001b[0m\u001b[1;33m]\u001b[0m \u001b[1;33m=\u001b[0m \u001b[0mregister\u001b[0m\u001b[1;33m.\u001b[0m\u001b[0mregister_binary\u001b[0m\u001b[1;33m(\u001b[0m\u001b[0mops1\u001b[0m\u001b[1;33m[\u001b[0m\u001b[0mipl\u001b[0m\u001b[1;33m]\u001b[0m\u001b[1;33m)\u001b[0m \u001b[1;31m# register binary\u001b[0m\u001b[1;33m\u001b[0m\u001b[1;33m\u001b[0m\u001b[0m\n\u001b[0m\u001b[0;32m    252\u001b[0m             \u001b[0mnp\u001b[0m\u001b[1;33m.\u001b[0m\u001b[0msave\u001b[0m\u001b[1;33m(\u001b[0m\u001b[0mfpathops1\u001b[0m\u001b[1;33m,\u001b[0m \u001b[0mops1\u001b[0m\u001b[1;33m)\u001b[0m \u001b[1;31m# save ops1\u001b[0m\u001b[1;33m\u001b[0m\u001b[1;33m\u001b[0m\u001b[0m\n\u001b[0;32m    253\u001b[0m             \u001b[0mprint\u001b[0m\u001b[1;33m(\u001b[0m\u001b[1;34m'----------- Total %0.2f sec'\u001b[0m\u001b[1;33m%\u001b[0m\u001b[1;33m(\u001b[0m\u001b[0mtime\u001b[0m\u001b[1;33m.\u001b[0m\u001b[0mtime\u001b[0m\u001b[1;33m(\u001b[0m\u001b[1;33m)\u001b[0m\u001b[1;33m-\u001b[0m\u001b[0mt11\u001b[0m\u001b[1;33m)\u001b[0m\u001b[1;33m)\u001b[0m\u001b[1;33m\u001b[0m\u001b[1;33m\u001b[0m\u001b[0m\n",
      "\u001b[1;32mC:/Users/trose/Documents/GitHub/suite2p\\suite2p\\registration\\register.py\u001b[0m in \u001b[0;36mregister_binary\u001b[1;34m(ops, refImg, raw)\u001b[0m\n\u001b[0;32m    361\u001b[0m         \u001b[0mt0\u001b[0m \u001b[1;33m=\u001b[0m \u001b[0mtime\u001b[0m\u001b[1;33m.\u001b[0m\u001b[0mtime\u001b[0m\u001b[1;33m(\u001b[0m\u001b[1;33m)\u001b[0m\u001b[1;33m\u001b[0m\u001b[1;33m\u001b[0m\u001b[0m\n\u001b[0;32m    362\u001b[0m         \u001b[1;32mif\u001b[0m \u001b[0mraw\u001b[0m\u001b[1;33m:\u001b[0m\u001b[1;33m\u001b[0m\u001b[1;33m\u001b[0m\u001b[0m\n\u001b[1;32m--> 363\u001b[1;33m             \u001b[0mrefImg\u001b[0m\u001b[1;33m,\u001b[0m \u001b[0mbidi\u001b[0m \u001b[1;33m=\u001b[0m \u001b[0mreference\u001b[0m\u001b[1;33m.\u001b[0m\u001b[0mcompute_reference_image\u001b[0m\u001b[1;33m(\u001b[0m\u001b[0mops\u001b[0m\u001b[1;33m,\u001b[0m \u001b[0mraw_file_align\u001b[0m\u001b[1;33m)\u001b[0m\u001b[1;33m\u001b[0m\u001b[1;33m\u001b[0m\u001b[0m\n\u001b[0m\u001b[0;32m    364\u001b[0m         \u001b[1;32melse\u001b[0m\u001b[1;33m:\u001b[0m\u001b[1;33m\u001b[0m\u001b[1;33m\u001b[0m\u001b[0m\n\u001b[0;32m    365\u001b[0m             \u001b[0mrefImg\u001b[0m\u001b[1;33m,\u001b[0m \u001b[0mbidi\u001b[0m \u001b[1;33m=\u001b[0m \u001b[0mreference\u001b[0m\u001b[1;33m.\u001b[0m\u001b[0mcompute_reference_image\u001b[0m\u001b[1;33m(\u001b[0m\u001b[0mops\u001b[0m\u001b[1;33m,\u001b[0m \u001b[0mreg_file_align\u001b[0m\u001b[1;33m)\u001b[0m\u001b[1;33m\u001b[0m\u001b[1;33m\u001b[0m\u001b[0m\n",
      "\u001b[1;32mC:/Users/trose/Documents/GitHub/suite2p\\suite2p\\registration\\reference.py\u001b[0m in \u001b[0;36mcompute_reference_image\u001b[1;34m(ops, bin_file)\u001b[0m\n\u001b[0;32m    133\u001b[0m         \u001b[0mbidiphase\u001b[0m\u001b[1;33m.\u001b[0m\u001b[0mshift\u001b[0m\u001b[1;33m(\u001b[0m\u001b[0mframes\u001b[0m\u001b[1;33m,\u001b[0m \u001b[0mbidi\u001b[0m\u001b[1;33m)\u001b[0m\u001b[1;33m\u001b[0m\u001b[1;33m\u001b[0m\u001b[0m\n\u001b[0;32m    134\u001b[0m     \u001b[0mrefImg\u001b[0m \u001b[1;33m=\u001b[0m \u001b[0mpick_initial_reference\u001b[0m\u001b[1;33m(\u001b[0m\u001b[0mframes\u001b[0m\u001b[1;33m)\u001b[0m\u001b[1;33m\u001b[0m\u001b[1;33m\u001b[0m\u001b[0m\n\u001b[1;32m--> 135\u001b[1;33m     \u001b[0mrefImg\u001b[0m \u001b[1;33m=\u001b[0m \u001b[0miterative_alignment\u001b[0m\u001b[1;33m(\u001b[0m\u001b[0mops\u001b[0m\u001b[1;33m,\u001b[0m \u001b[0mframes\u001b[0m\u001b[1;33m,\u001b[0m \u001b[0mrefImg\u001b[0m\u001b[1;33m)\u001b[0m\u001b[1;33m\u001b[0m\u001b[1;33m\u001b[0m\u001b[0m\n\u001b[0m\u001b[0;32m    136\u001b[0m     \u001b[1;32mreturn\u001b[0m \u001b[0mrefImg\u001b[0m\u001b[1;33m,\u001b[0m \u001b[0mbidi\u001b[0m\u001b[1;33m\u001b[0m\u001b[1;33m\u001b[0m\u001b[0m\n\u001b[0;32m    137\u001b[0m \u001b[1;33m\u001b[0m\u001b[0m\n",
      "\u001b[1;32mC:/Users/trose/Documents/GitHub/suite2p\\suite2p\\registration\\reference.py\u001b[0m in \u001b[0;36miterative_alignment\u001b[1;34m(ops, frames, refImg)\u001b[0m\n\u001b[0;32m     82\u001b[0m         \u001b[0mmaskMul\u001b[0m\u001b[1;33m,\u001b[0m \u001b[0mmaskOffset\u001b[0m\u001b[1;33m,\u001b[0m \u001b[0mcfRefImg\u001b[0m \u001b[1;33m=\u001b[0m \u001b[0mrigid\u001b[0m\u001b[1;33m.\u001b[0m\u001b[0mphasecorr_reference\u001b[0m\u001b[1;33m(\u001b[0m\u001b[0mrefImg\u001b[0m\u001b[1;33m,\u001b[0m \u001b[0mops\u001b[0m\u001b[1;33m)\u001b[0m\u001b[1;33m\u001b[0m\u001b[1;33m\u001b[0m\u001b[0m\n\u001b[0;32m     83\u001b[0m         freg, ymax, xmax, cmax, yxnr = register.compute_motion_and_shift(frames,\n\u001b[1;32m---> 84\u001b[1;33m                                                     [maskMul, maskOffset, cfRefImg], ops)\n\u001b[0m\u001b[0;32m     85\u001b[0m         \u001b[0mymax\u001b[0m \u001b[1;33m=\u001b[0m \u001b[0mymax\u001b[0m\u001b[1;33m.\u001b[0m\u001b[0mastype\u001b[0m\u001b[1;33m(\u001b[0m\u001b[0mnp\u001b[0m\u001b[1;33m.\u001b[0m\u001b[0mfloat32\u001b[0m\u001b[1;33m)\u001b[0m\u001b[1;33m\u001b[0m\u001b[1;33m\u001b[0m\u001b[0m\n\u001b[0;32m     86\u001b[0m         \u001b[0mxmax\u001b[0m \u001b[1;33m=\u001b[0m \u001b[0mxmax\u001b[0m\u001b[1;33m.\u001b[0m\u001b[0mastype\u001b[0m\u001b[1;33m(\u001b[0m\u001b[0mnp\u001b[0m\u001b[1;33m.\u001b[0m\u001b[0mfloat32\u001b[0m\u001b[1;33m)\u001b[0m\u001b[1;33m\u001b[0m\u001b[1;33m\u001b[0m\u001b[0m\n",
      "\u001b[1;32mC:/Users/trose/Documents/GitHub/suite2p\\suite2p\\registration\\register.py\u001b[0m in \u001b[0;36mcompute_motion_and_shift\u001b[1;34m(data, refAndMasks, ops)\u001b[0m\n\u001b[0;32m     85\u001b[0m     \u001b[1;31m# rigid registration\u001b[0m\u001b[1;33m\u001b[0m\u001b[1;33m\u001b[0m\u001b[1;33m\u001b[0m\u001b[0m\n\u001b[0;32m     86\u001b[0m     \u001b[1;32mif\u001b[0m \u001b[0mops\u001b[0m\u001b[1;33m[\u001b[0m\u001b[1;34m'smooth_sigma_time'\u001b[0m\u001b[1;33m]\u001b[0m \u001b[1;33m>\u001b[0m \u001b[1;36m0\u001b[0m\u001b[1;33m:\u001b[0m \u001b[1;31m# temporal smoothing:\u001b[0m\u001b[1;33m\u001b[0m\u001b[1;33m\u001b[0m\u001b[0m\n\u001b[1;32m---> 87\u001b[1;33m         \u001b[0mdata_smooth\u001b[0m \u001b[1;33m=\u001b[0m \u001b[0mgaussian_filter1d\u001b[0m\u001b[1;33m(\u001b[0m\u001b[0mdata\u001b[0m\u001b[1;33m.\u001b[0m\u001b[0mcopy\u001b[0m\u001b[1;33m(\u001b[0m\u001b[1;33m)\u001b[0m\u001b[1;33m,\u001b[0m \u001b[0msigma\u001b[0m\u001b[1;33m=\u001b[0m\u001b[0mops\u001b[0m\u001b[1;33m[\u001b[0m\u001b[1;34m'smooth_sigma_time'\u001b[0m\u001b[1;33m]\u001b[0m\u001b[1;33m,\u001b[0m \u001b[0maxis\u001b[0m\u001b[1;33m=\u001b[0m\u001b[1;36m0\u001b[0m\u001b[1;33m)\u001b[0m\u001b[1;33m\u001b[0m\u001b[1;33m\u001b[0m\u001b[0m\n\u001b[0m\u001b[0;32m     88\u001b[0m         \u001b[0mymax\u001b[0m\u001b[1;33m,\u001b[0m \u001b[0mxmax\u001b[0m\u001b[1;33m,\u001b[0m \u001b[0mcmax\u001b[0m \u001b[1;33m=\u001b[0m \u001b[0mrigid\u001b[0m\u001b[1;33m.\u001b[0m\u001b[0mphasecorr\u001b[0m\u001b[1;33m(\u001b[0m\u001b[0mdata_smooth\u001b[0m\u001b[1;33m,\u001b[0m \u001b[0mrefAndMasks\u001b[0m\u001b[1;33m[\u001b[0m\u001b[1;33m:\u001b[0m\u001b[1;36m3\u001b[0m\u001b[1;33m]\u001b[0m\u001b[1;33m,\u001b[0m \u001b[0mops\u001b[0m\u001b[1;33m)\u001b[0m\u001b[1;33m\u001b[0m\u001b[1;33m\u001b[0m\u001b[0m\n\u001b[0;32m     89\u001b[0m     \u001b[1;32melse\u001b[0m\u001b[1;33m:\u001b[0m\u001b[1;33m\u001b[0m\u001b[1;33m\u001b[0m\u001b[0m\n",
      "\u001b[1;32m~\\AppData\\Local\\Continuum\\miniconda3\\envs\\suite2p\\lib\\site-packages\\scipy\\ndimage\\filters.py\u001b[0m in \u001b[0;36mgaussian_filter1d\u001b[1;34m(input, sigma, axis, order, output, mode, cval, truncate)\u001b[0m\n\u001b[0;32m    205\u001b[0m     \u001b[1;31m# Since we are calling correlate, not convolve, revert the kernel\u001b[0m\u001b[1;33m\u001b[0m\u001b[1;33m\u001b[0m\u001b[1;33m\u001b[0m\u001b[0m\n\u001b[0;32m    206\u001b[0m     \u001b[0mweights\u001b[0m \u001b[1;33m=\u001b[0m \u001b[0m_gaussian_kernel1d\u001b[0m\u001b[1;33m(\u001b[0m\u001b[0msigma\u001b[0m\u001b[1;33m,\u001b[0m \u001b[0morder\u001b[0m\u001b[1;33m,\u001b[0m \u001b[0mlw\u001b[0m\u001b[1;33m)\u001b[0m\u001b[1;33m[\u001b[0m\u001b[1;33m:\u001b[0m\u001b[1;33m:\u001b[0m\u001b[1;33m-\u001b[0m\u001b[1;36m1\u001b[0m\u001b[1;33m]\u001b[0m\u001b[1;33m\u001b[0m\u001b[1;33m\u001b[0m\u001b[0m\n\u001b[1;32m--> 207\u001b[1;33m     \u001b[1;32mreturn\u001b[0m \u001b[0mcorrelate1d\u001b[0m\u001b[1;33m(\u001b[0m\u001b[0minput\u001b[0m\u001b[1;33m,\u001b[0m \u001b[0mweights\u001b[0m\u001b[1;33m,\u001b[0m \u001b[0maxis\u001b[0m\u001b[1;33m,\u001b[0m \u001b[0moutput\u001b[0m\u001b[1;33m,\u001b[0m \u001b[0mmode\u001b[0m\u001b[1;33m,\u001b[0m \u001b[0mcval\u001b[0m\u001b[1;33m,\u001b[0m \u001b[1;36m0\u001b[0m\u001b[1;33m)\u001b[0m\u001b[1;33m\u001b[0m\u001b[1;33m\u001b[0m\u001b[0m\n\u001b[0m\u001b[0;32m    208\u001b[0m \u001b[1;33m\u001b[0m\u001b[0m\n\u001b[0;32m    209\u001b[0m \u001b[1;33m\u001b[0m\u001b[0m\n",
      "\u001b[1;32m~\\AppData\\Local\\Continuum\\miniconda3\\envs\\suite2p\\lib\\site-packages\\scipy\\ndimage\\filters.py\u001b[0m in \u001b[0;36mcorrelate1d\u001b[1;34m(input, weights, axis, output, mode, cval, origin)\u001b[0m\n\u001b[0;32m     93\u001b[0m     \u001b[0mmode\u001b[0m \u001b[1;33m=\u001b[0m \u001b[0m_ni_support\u001b[0m\u001b[1;33m.\u001b[0m\u001b[0m_extend_mode_to_code\u001b[0m\u001b[1;33m(\u001b[0m\u001b[0mmode\u001b[0m\u001b[1;33m)\u001b[0m\u001b[1;33m\u001b[0m\u001b[1;33m\u001b[0m\u001b[0m\n\u001b[0;32m     94\u001b[0m     _nd_image.correlate1d(input, weights, axis, output, mode, cval,\n\u001b[1;32m---> 95\u001b[1;33m                           origin)\n\u001b[0m\u001b[0;32m     96\u001b[0m     \u001b[1;32mreturn\u001b[0m \u001b[0moutput\u001b[0m\u001b[1;33m\u001b[0m\u001b[1;33m\u001b[0m\u001b[0m\n\u001b[0;32m     97\u001b[0m \u001b[1;33m\u001b[0m\u001b[0m\n",
      "\u001b[1;31mKeyboardInterrupt\u001b[0m: "
     ]
    }
   ],
   "source": [
    "opsEnd = run_s2p.run_s2p(ops=ops, db=db)"
   ]
  },
  {
   "cell_type": "code",
   "execution_count": null,
   "metadata": {},
   "outputs": [],
   "source": [
    "stat = np.load(ftemp +'/std_ops/ops_dendrite.npy', allow_pickle=True)"
   ]
  },
  {
   "cell_type": "code",
   "execution_count": null,
   "metadata": {},
   "outputs": [],
   "source": [
    "# set your options for running\n",
    "ops = run_s2p.default_ops() # populates ops with the default options"
   ]
  },
  {
   "cell_type": "code",
   "execution_count": null,
   "metadata": {},
   "outputs": [],
   "source": [
    "ftemp"
   ]
  },
  {
   "cell_type": "code",
   "execution_count": null,
   "metadata": {},
   "outputs": [],
   "source": [
    "opspath = 'C:/temp/trose/David Laubender/Data/imaging data/DL_191106_2/ImagingData/2019-12-14/suite2p/suite2p/plane0/ops.npy'\n",
    "\n",
    "stato = np.load(opspath, allow_pickle=True)"
   ]
  },
  {
   "cell_type": "code",
   "execution_count": null,
   "metadata": {},
   "outputs": [],
   "source": [
    "print(stat.conj().transpose())\n"
   ]
  }
 ],
 "metadata": {
  "kernelspec": {
   "display_name": "Python 3",
   "language": "python",
   "name": "python3"
  },
  "language_info": {
   "codemirror_mode": {
    "name": "ipython",
    "version": 3
   },
   "file_extension": ".py",
   "mimetype": "text/x-python",
   "name": "python",
   "nbconvert_exporter": "python",
   "pygments_lexer": "ipython3",
   "version": "3.7.5"
  }
 },
 "nbformat": 4,
 "nbformat_minor": 4
}
