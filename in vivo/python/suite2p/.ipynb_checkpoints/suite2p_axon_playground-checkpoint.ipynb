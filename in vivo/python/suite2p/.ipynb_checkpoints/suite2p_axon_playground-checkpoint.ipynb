{
 "cells": [
  {
   "cell_type": "code",
   "execution_count": 1,
   "metadata": {},
   "outputs": [],
   "source": [
    "import numpy as np\n",
    "import sys\n",
    "from pathlib import Path\n",
    "import glob\n",
    "import os\n",
    "from suite2p import run_s2p\n",
    "ops = run_s2p.default_ops() # populates ops with the default options\n",
    "# option to import from github folder\n",
    "# sys.path.insert(0, 'C:/Users/trose/Documents/GitHub/suite2p')"
   ]
  },
  {
   "cell_type": "code",
   "execution_count": 2,
   "metadata": {},
   "outputs": [],
   "source": [
    "# own imports\n",
    "from ScanImageTiffReader import ScanImageTiffReader\n",
    "from helpers import parse_SI_header as pSI #own\n",
    "from shutil import copy, rmtree\n",
    "from tqdm import tqdm\n",
    "#import pandas as pd"
   ]
  },
  {
   "cell_type": "markdown",
   "metadata": {},
   "source": [
    "### File handling (PC / Mac)"
   ]
  },
  {
   "cell_type": "code",
   "execution_count": 3,
   "metadata": {},
   "outputs": [],
   "source": [
    "exp = ['62282', '62283', '62284', '62285', '62286', '62287', '62288', '62289', '62290', '62291', '62292', '62293', '62304', '62305', '62306', '62307', '62308', '62309', '62359', '62360', '62361', '62362', '62363', '62364']"
   ]
  },
  {
   "cell_type": "code",
   "execution_count": 4,
   "metadata": {},
   "outputs": [],
   "source": [
    "exp = ['62335']"
   ]
  },
  {
   "cell_type": "code",
   "execution_count": 5,
   "metadata": {},
   "outputs": [],
   "source": [
    "if sys.platform == \"win32\":\n",
    "    main_root = 'I:/David Laubender/Data/imaging data/DL_191106_2/ImagingData/2019-12-14/' #location of original data\n",
    "    ftemp = 'C:/temp/trose/suite2ptemp'        #fast disk\n",
    "    if len(exp)>1:\n",
    "        froot = 'C:/temp/trose/s2p_tiff/'      #temp drive for concatenating exp tiffs\n",
    "        fsave =  froot \n",
    "    else:\n",
    "        froot = main_root                      #No concatenation of experiments -> can work on NW drive\n",
    "        fsave = froot\n",
    "elif sys.platform == \"darwin\":\n",
    "    main_root = '/Volumes/archive_bonhoeffer_group$/David Laubender/Data/imaging data/DL_191106_2/ImagingData/2019-12-14/' #location of original data\n",
    "    ftemp = '/Users/trose/Data/temp/'          #fast disk\n",
    "    if len(exp)>1:\n",
    "        froot = '/Users/trose/Data/s2p_tiff/'  #temp drive for concatenating exp tiffs\n",
    "        fsave =  froot \n",
    "    else:\n",
    "        froot = main_root                      #No concatenation of experiments -> can work on NW drive\n",
    "        fsave = froot\n",
    "else: \n",
    "    print('Unkknown Platform')\n",
    "\n",
    "fsave_tmp = froot + '/suite2p_exp' + exp[0]\n",
    "ftemp_tmp = ftemp + '/suite2p'\n",
    "\n",
    "Path(fsave_tmp).mkdir(parents=True, exist_ok=True)\n",
    "Path(ftemp_tmp).mkdir(parents=True, exist_ok=True)"
   ]
  },
  {
   "cell_type": "code",
   "execution_count": 6,
   "metadata": {},
   "outputs": [
    {
     "name": "stdout",
     "output_type": "stream",
     "text": [
      "62335\n"
     ]
    }
   ],
   "source": [
    "for ids,val in enumerate(exp):\n",
    "    print(val)"
   ]
  },
  {
   "cell_type": "code",
   "execution_count": 7,
   "metadata": {},
   "outputs": [
    {
     "name": "stdout",
     "output_type": "stream",
     "text": [
      "copied I:\\David Laubender\\Data\\imaging data\\DL_191106_2\\ImagingData\\2019-12-14\\exp62335_DL_002_001.tif to C:/temp/trose/s2p_tiff/\n",
      "copied I:\\David Laubender\\Data\\imaging data\\DL_191106_2\\ImagingData\\2019-12-14\\exp62335_DL_002_002.tif to C:/temp/trose/s2p_tiff/\n",
      "copied I:\\David Laubender\\Data\\imaging data\\DL_191106_2\\ImagingData\\2019-12-14\\exp62336_DL_003_001.tif to C:/temp/trose/s2p_tiff/\n",
      "copied I:\\David Laubender\\Data\\imaging data\\DL_191106_2\\ImagingData\\2019-12-14\\exp62336_DL_003_002.tif to C:/temp/trose/s2p_tiff/\n"
     ]
    }
   ],
   "source": [
    "# Copy all tiffs to a temp folder for concatenated handling\n",
    "if len(exp)>1:\n",
    "    files_fullpath = []\n",
    "    readfiles = 2\n",
    "    for val in exp:\n",
    "        files = list(Path(main_root).rglob('exp'+val+'*.tif')) #recursive search over main_root\n",
    "        files = sorted(files)\n",
    "        files = files[0:readfiles]\n",
    "        for n,f in enumerate(files):\n",
    "            copy(files[n], froot)\n",
    "            targetstring = [str(files[n]), str(froot)]\n",
    "            print('copied {} to {}'.format(*targetstring))"
   ]
  },
  {
   "cell_type": "code",
   "execution_count": 42,
   "metadata": {},
   "outputs": [
    {
     "data": {
      "text/plain": [
       "'I:/David Laubender/Data/imaging data/DL_191106_2/ImagingData/2019-12-14/'"
      ]
     },
     "execution_count": 42,
     "metadata": {},
     "output_type": "execute_result"
    }
   ],
   "source": [
    "main_root"
   ]
  },
  {
   "cell_type": "code",
   "execution_count": 7,
   "metadata": {},
   "outputs": [],
   "source": [
    "files_fullpath = []\n",
    "files_name = []\n",
    "readfiles = 5\n",
    "\n",
    "for val in exp:\n",
    "    #files = list(Path(froot).glob('exp'+val+'*.tif'))\n",
    "    files = list(Path(froot).rglob('exp'+val+'*.tif')) #recursive\n",
    "    files = files[0:readfiles]\n",
    "    #files = glob.glob(os.path.join(froot, 'exp'+val+'*.tif'))\n",
    "    for n,f in enumerate(files):\n",
    "        #files[n] = os.path.basename(f)\n",
    "        files_fullpath.append(str(files[n]))\n",
    "        files_name.append(f.name)\n",
    "\n",
    "    \n",
    "files_fullpath = sorted(files_fullpath)\n",
    "files_name = sorted(files_name)"
   ]
  },
  {
   "cell_type": "code",
   "execution_count": 8,
   "metadata": {},
   "outputs": [
    {
     "data": {
      "text/plain": [
       "'I:\\\\David Laubender\\\\Data\\\\imaging data\\\\DL_191106_2\\\\ImagingData\\\\2019-12-14'"
      ]
     },
     "execution_count": 8,
     "metadata": {},
     "output_type": "execute_result"
    }
   ],
   "source": [
    "os.path.dirname(files[0])"
   ]
  },
  {
   "cell_type": "code",
   "execution_count": 9,
   "metadata": {},
   "outputs": [],
   "source": [
    "with ScanImageTiffReader(files_fullpath[0]) as reader:\n",
    "    header = (reader.description(0))\n",
    "    mov_dim = (reader.shape())\n",
    "    \n",
    "level = pSI.parse_SI_header_level(header)\n",
    "zoom = pSI.parse_SI_header_zoom(header)\n",
    "framerate = pSI.parse_SI_header_FrameRate(header)\n",
    "channels = pSI.parse_SI_header_Channels(header)\n",
    "volumes = pSI.parse_SI_header_Volumes(header)\n",
    "frames = pSI.parse_SI_header_Frames(header)\n",
    "frames_per_file = pSI.parse_SI_header_FramesPerFile(header)\n",
    "\n",
    "# account for multilevel acq where frames is 1\n",
    "if frames < volumes:\n",
    "    frames = volumes"
   ]
  },
  {
   "cell_type": "code",
   "execution_count": 10,
   "metadata": {},
   "outputs": [],
   "source": [
    "bad_frames = np.linspace(0, 49, 50)\n",
    "np.save(fsave_tmp + '/bad_frames.npy', bad_frames)\n",
    "np.save(ftemp_tmp + '/bad_frames.npy', bad_frames)\n",
    "#np.save(ftemp + '/bad_frames.npy', bad_frames)"
   ]
  },
  {
   "cell_type": "code",
   "execution_count": 11,
   "metadata": {},
   "outputs": [],
   "source": [
    "db = {\n",
    "      'h5py': [], # a single h5 file path\n",
    "      'h5py_key': 'data', # file paths\n",
    "      'look_one_level_down': False, # whether to look in ALL subfolders when searching for tiffs\n",
    "      'data_path': [froot],  # a list of folders with tiffs\n",
    "                             # (or folder of folders with tiffs if look_one_level_down is True, or subfolders is not empty)\n",
    "      'delete_bin': False,\n",
    "      'save_path0': fsave,\n",
    "      'fast_disk': ftemp,\n",
    "      'subfolders': [], # choose subfolders of 'data_path' to look in (optional)\n",
    "\n",
    "      # main settings\n",
    "      'nplanes': level, # each tiff has these many planes in sequence\n",
    "      'nchannels': channels, # each tiff has these many channels per plane\n",
    "      'functional_chan': 1, # this channel is used to extract functional ROIs (1-based)\n",
    "      'tau':  1., # this is the main parameter for deconvolution\n",
    "      'fs': framerate / level,  # sampling rate (PER PLANE - e.g. if you have 12 planes then this should be around 2.5)\n",
    "      'preclassify': 0, # apply classifier before signal extraction with probability 0.5 (turn off with value 0)\n",
    "      'frames_include:': -1,  #default: -1) if greater than zero, only frames_include frames are processed. useful for testing parameters on a subset of data.\n",
    "      # output settings\n",
    "      'save_mat': True, # whether to save output as matlab files\n",
    "      'combined': True, # combine multiple planes into a single result /single canvas for GUI\n",
    "\n",
    "      'num_workers': 0, # 0 to select num_cores, -1 to disable parallelism, N to enforce value\n",
    "      'num_workers_roi': 0, # 0 to select number of planes, -1 to disable parallelism, N to enforce value\n",
    "      'force_sktiff': False,\n",
    "      # bidirectional phase offset\n",
    "      'do_bidiphase': True,\n",
    "      'bidiphase': 0,\n",
    "\n",
    "      # registration settings\n",
    "      'do_registration': 2, # whether to register data (2 forces re-registration)\n",
    "      'two_step_registration:': True, #default: False) whether or not to run registration twice (for low SNR data). keep_movie_raw must be True for this to work.\n",
    "      'keep_movie_raw': True,\n",
    "      'nimg_init': 400, # subsampled frames for finding reference image\n",
    "      'batch_size': 800, # number of frames per batch\n",
    "      'maxregshift': 0.05, # max allowed registration shift, as a fraction of frame max(width and height)\n",
    "      'align_by_chan' : 1, # when multi-channel, you can align by non-functional channel (1-based)\n",
    "      'reg_tif': True, # whether to save registered tiffs\n",
    "      'reg_tif_chan2': False, # whether to save channel 2 registered tiffs\n",
    "      'subpixel' : 10, # precision of subpixel registration (1/subpixel steps)\n",
    "      'smooth_sigma': 1.5, # ~1 good for 2P recordings, recommend >5 for 1P recordings\n",
    "      'smooth_sigma_time': 2, # default: 0) standard deviation in time frames of the gaussian used to smooth the data before phase correlation is computed. Might need this to be set to 1 or 2 for low SNR data.\n",
    "      'th_badframes': 2, # this parameter determines which frames to exclude when determining cropping - set it smaller to exclude more frames\n",
    "      'pad_fft': False,\n",
    "\n",
    "      # non rigid registration settings\n",
    "      'nonrigid': True, # whether to use nonrigid registration\n",
    "      'block_size': [128, 128], # block size to register (** keep this a multiple of 2 **)\n",
    "      'snr_thresh': 1.5, # if any nonrigid block is below this threshold, it gets smoothed until above this threshold. 1.0 results in no smoothing\n",
    "      'maxregshiftNR': 8, # maximum pixel shift allowed for nonrigid, relative to rigid\n",
    "\n",
    "      # cell detection settings\n",
    "      'roidetect': True, # whether or not to run ROI extraction\n",
    "      'spatial_scale': 0, # 0: multi-scale; 1: 6 pixels, 2: 12 pixels, 3: 24 pixels, 4: 48 pixels\n",
    "      'diameter': [9,12], #this is the main parameter for cell detection, 2-dimensional if Y and X are different (e.g. [6 12])\n",
    "      'connected': False, # whether or not to keep ROIs fully connected (set to 0 for dendrites)\n",
    "      'nbinned': 5000, # max number of binned frames for cell detection\n",
    "      'max_iterations': 50, # maximum number of iterations to do cell detection\n",
    "      'threshold_scaling': 2.0, # adjust the automatically determined threshold by this scalar multiplier\n",
    "      'max_overlap': 0.9, # cells with more overlap than this get removed during triage, before refinement\n",
    "      'high_pass': 100, # running mean subtraction with window of size 'high_pass' (use low values for 1P)\n",
    "      'smooth_masks': True, # default: True) whether to smooth masks in final pass of cell detection. This is useful especially if you are in a high noise regime.\n",
    "\n",
    "      # ROI extraction parameters\n",
    "      'sparse_mode': False, #default: False) whether or not to use sparse_mode cell detection\n",
    "      'inner_neuropil_radius': 2, # number of pixels to keep between ROI and neuropil donut\n",
    "      'min_neuropil_pixels': 350, # minimum number of pixels in the neuropil\n",
    "      'allow_overlap': False, # pixels that are overlapping are thrown out (False) or added to both ROIs (True)\n",
    "\n",
    "      # channel 2 detection settings (stat[n]['chan2'], stat[n]['not_chan2'])\n",
    "      'chan2_thres': 0.65, # minimum for detection of brightness on channel 2\n",
    "\n",
    "      # deconvolution settings\n",
    "      'baseline': 'maximin', # baselining mode (can also choose 'prctile')\n",
    "      'win_baseline': 60., # window for maximin\n",
    "      'sig_baseline': 10., # smoothing constant for gaussian filter\n",
    "      'prctile_baseline': 8.,# optional (whether to use a percentile baseline)\n",
    "      'neucoeff': .7,  # neuropil coefficient\n",
    "\n",
    "\n",
    "      # List of tiffs to be loaded\n",
    "      'tiff_list': files_name # list of tiffs in folder * data_path *!\n",
    "}\n"
   ]
  },
  {
   "cell_type": "code",
   "execution_count": 12,
   "metadata": {},
   "outputs": [
    {
     "name": "stdout",
     "output_type": "stream",
     "text": [
      "{'h5py': [], 'h5py_key': 'data', 'look_one_level_down': False, 'data_path': ['I:/David Laubender/Data/imaging data/DL_191106_2/ImagingData/2019-12-14/'], 'delete_bin': False, 'save_path0': 'I:/David Laubender/Data/imaging data/DL_191106_2/ImagingData/2019-12-14/', 'fast_disk': 'C:/temp/trose/suite2ptemp', 'subfolders': [], 'nplanes': 4, 'nchannels': 1, 'functional_chan': 1, 'tau': 1.0, 'fs': 7.5, 'preclassify': 0, 'frames_include:': -1, 'save_mat': True, 'combined': True, 'num_workers': 0, 'num_workers_roi': 0, 'force_sktiff': False, 'do_bidiphase': True, 'bidiphase': 0, 'do_registration': 2, 'two_step_registration:': True, 'keep_movie_raw': True, 'nimg_init': 400, 'batch_size': 800, 'maxregshift': 0.05, 'align_by_chan': 1, 'reg_tif': True, 'reg_tif_chan2': False, 'subpixel': 10, 'smooth_sigma': 1.5, 'smooth_sigma_time': 2, 'th_badframes': 2, 'pad_fft': False, 'nonrigid': True, 'block_size': [128, 128], 'snr_thresh': 1.5, 'maxregshiftNR': 8, 'roidetect': True, 'spatial_scale': 0, 'diameter': [9, 12], 'connected': False, 'nbinned': 5000, 'max_iterations': 50, 'threshold_scaling': 2.0, 'max_overlap': 0.9, 'high_pass': 100, 'smooth_masks': True, 'sparse_mode': False, 'inner_neuropil_radius': 2, 'min_neuropil_pixels': 350, 'allow_overlap': False, 'chan2_thres': 0.65, 'baseline': 'maximin', 'win_baseline': 60.0, 'sig_baseline': 10.0, 'prctile_baseline': 8.0, 'neucoeff': 0.7, 'tiff_list': ['exp62335_DL_002_001.tif', 'exp62335_DL_002_002.tif', 'exp62335_DL_002_003.tif', 'exp62335_DL_002_004.tif', 'exp62335_DL_002_005.tif', 'exp62335_DL_002_006.tif', 'exp62335_DL_002_007.tif', 'exp62335_DL_002_008.tif', 'exp62335_DL_002_009.tif', 'exp62335_DL_002_010.tif', 'exp62335_DL_002_011.tif', 'exp62335_DL_002_012.tif', 'exp62335_DL_002_013.tif', 'exp62335_DL_002_014.tif', 'exp62335_DL_002_015.tif', 'exp62335_DL_002_016.tif', 'exp62335_DL_002_017.tif', 'exp62335_DL_002_018.tif', 'exp62335_DL_002_019.tif', 'exp62335_DL_002_020.tif', 'exp62335_DL_002_021.tif', 'exp62335_DL_002_022.tif', 'exp62335_DL_002_023.tif', 'exp62335_DL_002_024.tif', 'exp62335_DL_002_025.tif', 'exp62335_DL_002_026.tif', 'exp62335_DL_002_027.tif', 'exp62335_DL_002_028.tif', 'exp62335_DL_002_029.tif', 'exp62335_DL_002_030.tif', 'exp62335_DL_002_031.tif', 'exp62335_DL_002_032.tif', 'exp62335_DL_002_033.tif', 'exp62335_DL_002_034.tif', 'exp62335_DL_002_035.tif', 'exp62335_DL_002_036.tif', 'exp62335_DL_002_037.tif', 'exp62335_DL_002_038.tif', 'exp62335_DL_002_039.tif', 'exp62335_DL_002_040.tif', 'exp62335_DL_002_041.tif', 'exp62335_DL_002_042.tif', 'exp62335_DL_002_043.tif', 'exp62335_DL_002_044.tif', 'exp62335_DL_002_045.tif', 'exp62335_DL_002_046.tif', 'exp62335_DL_002_047.tif', 'exp62335_DL_002_048.tif', 'exp62335_DL_002_049.tif', 'exp62335_DL_002_050.tif', 'exp62335_DL_002_051.tif', 'exp62335_DL_002_052.tif', 'exp62335_DL_002_053.tif', 'exp62335_DL_002_054.tif', 'exp62335_DL_002_055.tif', 'exp62335_DL_002_056.tif', 'exp62335_DL_002_057.tif', 'exp62335_DL_002_058.tif', 'exp62335_DL_002_059.tif', 'exp62335_DL_002_060.tif', 'exp62335_DL_002_061.tif', 'exp62335_DL_002_062.tif', 'exp62335_DL_002_063.tif', 'exp62335_DL_002_064.tif', 'exp62335_DL_002_065.tif', 'exp62335_DL_002_066.tif', 'exp62335_DL_002_067.tif', 'exp62335_DL_002_068.tif', 'exp62335_DL_002_069.tif', 'exp62335_DL_002_070.tif', 'exp62335_DL_002_071.tif', 'exp62335_DL_002_072.tif', 'exp62335_DL_002_073.tif', 'exp62335_DL_002_074.tif', 'exp62335_DL_002_075.tif', 'exp62335_DL_002_076.tif', 'exp62335_DL_002_077.tif', 'exp62335_DL_002_078.tif', 'exp62335_DL_002_079.tif', 'exp62335_DL_002_080.tif', 'exp62335_DL_002_081.tif', 'exp62335_DL_002_082.tif', 'exp62335_DL_002_083.tif', 'exp62335_DL_002_084.tif', 'exp62335_DL_002_085.tif', 'exp62335_DL_002_086.tif', 'exp62335_DL_002_087.tif', 'exp62335_DL_002_088.tif', 'exp62335_DL_002_089.tif', 'exp62335_DL_002_090.tif', 'exp62335_DL_002_091.tif', 'exp62335_DL_002_092.tif', 'exp62335_DL_002_093.tif', 'exp62335_DL_002_094.tif', 'exp62335_DL_002_095.tif', 'exp62335_DL_002_096.tif', 'exp62335_DL_002_097.tif', 'exp62335_DL_002_098.tif', 'exp62335_DL_002_099.tif', 'exp62335_DL_002_100.tif', 'exp62335_DL_002_101.tif', 'exp62335_DL_002_102.tif', 'exp62335_DL_002_103.tif', 'exp62335_DL_002_104.tif', 'exp62335_DL_002_105.tif', 'exp62335_DL_002_106.tif', 'exp62335_DL_002_107.tif', 'exp62335_DL_002_108.tif', 'exp62335_DL_002_109.tif', 'exp62335_DL_002_110.tif', 'exp62335_DL_002_111.tif', 'exp62335_DL_002_112.tif', 'exp62335_DL_002_113.tif', 'exp62335_DL_002_114.tif', 'exp62335_DL_002_115.tif', 'exp62335_DL_002_116.tif', 'exp62335_DL_002_117.tif', 'exp62335_DL_002_118.tif', 'exp62335_DL_002_119.tif', 'exp62335_DL_002_120.tif', 'exp62335_DL_002_121.tif', 'exp62335_DL_002_122.tif', 'exp62335_DL_002_123.tif', 'exp62335_DL_002_124.tif', 'exp62335_DL_002_125.tif', 'exp62335_DL_002_126.tif', 'exp62335_DL_002_127.tif', 'exp62335_DL_002_128.tif', 'exp62335_DL_002_129.tif', 'exp62335_DL_002_130.tif', 'exp62335_DL_002_131.tif', 'exp62335_DL_002_132.tif', 'exp62335_DL_002_133.tif', 'exp62335_DL_002_134.tif', 'exp62335_DL_002_135.tif', 'exp62335_DL_002_136.tif', 'exp62335_DL_002_137.tif', 'exp62335_DL_002_138.tif', 'exp62335_DL_002_139.tif', 'exp62335_DL_002_140.tif', 'exp62335_DL_002_141.tif', 'exp62335_DL_002_142.tif', 'exp62335_DL_002_143.tif', 'exp62335_DL_002_144.tif', 'exp62335_DL_002_145.tif', 'exp62335_DL_002_146.tif', 'exp62335_DL_002_147.tif', 'exp62335_DL_002_148.tif', 'exp62335_DL_002_149.tif']}\n",
      "tif\n",
      "** Found 149 tifs - converting to binary **\n"
     ]
    },
    {
     "ename": "KeyboardInterrupt",
     "evalue": "",
     "output_type": "error",
     "traceback": [
      "\u001b[1;31m---------------------------------------------------------------------------\u001b[0m",
      "\u001b[1;31mKeyboardInterrupt\u001b[0m                         Traceback (most recent call last)",
      "\u001b[1;32m<ipython-input-12-3e59339da3e9>\u001b[0m in \u001b[0;36m<module>\u001b[1;34m\u001b[0m\n\u001b[1;32m----> 1\u001b[1;33m \u001b[0mopsEnd\u001b[0m \u001b[1;33m=\u001b[0m \u001b[0mrun_s2p\u001b[0m\u001b[1;33m.\u001b[0m\u001b[0mrun_s2p\u001b[0m\u001b[1;33m(\u001b[0m\u001b[0mops\u001b[0m\u001b[1;33m=\u001b[0m\u001b[0mops\u001b[0m\u001b[1;33m,\u001b[0m \u001b[0mdb\u001b[0m\u001b[1;33m=\u001b[0m\u001b[0mdb\u001b[0m\u001b[1;33m)\u001b[0m\u001b[1;33m\u001b[0m\u001b[1;33m\u001b[0m\u001b[0m\n\u001b[0m",
      "\u001b[1;32mc:\\users\\trose\\documents\\github\\suite2p\\suite2p\\run_s2p.py\u001b[0m in \u001b[0;36mrun_s2p\u001b[1;34m(ops, db)\u001b[0m\n\u001b[0;32m    219\u001b[0m                 \u001b[0mprint\u001b[0m\u001b[1;33m(\u001b[0m\u001b[1;34m'time %4.2f sec. Wrote bruker tifs to binaries for %d planes'\u001b[0m\u001b[1;33m%\u001b[0m\u001b[1;33m(\u001b[0m\u001b[0mtime\u001b[0m\u001b[1;33m.\u001b[0m\u001b[0mtime\u001b[0m\u001b[1;33m(\u001b[0m\u001b[1;33m)\u001b[0m\u001b[1;33m-\u001b[0m\u001b[1;33m(\u001b[0m\u001b[0mt0\u001b[0m\u001b[1;33m)\u001b[0m\u001b[1;33m,\u001b[0m \u001b[0mlen\u001b[0m\u001b[1;33m(\u001b[0m\u001b[0mops1\u001b[0m\u001b[1;33m)\u001b[0m\u001b[1;33m)\u001b[0m\u001b[1;33m)\u001b[0m\u001b[1;33m\u001b[0m\u001b[1;33m\u001b[0m\u001b[0m\n\u001b[0;32m    220\u001b[0m             \u001b[1;32melse\u001b[0m\u001b[1;33m:\u001b[0m\u001b[1;33m\u001b[0m\u001b[1;33m\u001b[0m\u001b[0m\n\u001b[1;32m--> 221\u001b[1;33m                 \u001b[0mops1\u001b[0m \u001b[1;33m=\u001b[0m \u001b[0mtiff\u001b[0m\u001b[1;33m.\u001b[0m\u001b[0mtiff_to_binary\u001b[0m\u001b[1;33m(\u001b[0m\u001b[0mops\u001b[0m\u001b[1;33m)\u001b[0m\u001b[1;33m\u001b[0m\u001b[1;33m\u001b[0m\u001b[0m\n\u001b[0m\u001b[0;32m    222\u001b[0m                 \u001b[0mprint\u001b[0m\u001b[1;33m(\u001b[0m\u001b[1;34m'time %4.2f sec. Wrote tifs to binaries for %d planes'\u001b[0m\u001b[1;33m%\u001b[0m\u001b[1;33m(\u001b[0m\u001b[0mtime\u001b[0m\u001b[1;33m.\u001b[0m\u001b[0mtime\u001b[0m\u001b[1;33m(\u001b[0m\u001b[1;33m)\u001b[0m\u001b[1;33m-\u001b[0m\u001b[1;33m(\u001b[0m\u001b[0mt0\u001b[0m\u001b[1;33m)\u001b[0m\u001b[1;33m,\u001b[0m \u001b[0mlen\u001b[0m\u001b[1;33m(\u001b[0m\u001b[0mops1\u001b[0m\u001b[1;33m)\u001b[0m\u001b[1;33m)\u001b[0m\u001b[1;33m)\u001b[0m\u001b[1;33m\u001b[0m\u001b[1;33m\u001b[0m\u001b[0m\n\u001b[0;32m    223\u001b[0m         \u001b[0mnp\u001b[0m\u001b[1;33m.\u001b[0m\u001b[0msave\u001b[0m\u001b[1;33m(\u001b[0m\u001b[0mfpathops1\u001b[0m\u001b[1;33m,\u001b[0m \u001b[0mops1\u001b[0m\u001b[1;33m)\u001b[0m \u001b[1;31m# save ops1\u001b[0m\u001b[1;33m\u001b[0m\u001b[1;33m\u001b[0m\u001b[0m\n",
      "\u001b[1;32mc:\\users\\trose\\documents\\github\\suite2p\\suite2p\\io\\tiff.py\u001b[0m in \u001b[0;36mtiff_to_binary\u001b[1;34m(ops)\u001b[0m\n\u001b[0;32m    147\u001b[0m     \u001b[1;32mfor\u001b[0m \u001b[0mik\u001b[0m\u001b[1;33m,\u001b[0m \u001b[0mfile\u001b[0m \u001b[1;32min\u001b[0m \u001b[0menumerate\u001b[0m\u001b[1;33m(\u001b[0m\u001b[0mfs\u001b[0m\u001b[1;33m)\u001b[0m\u001b[1;33m:\u001b[0m\u001b[1;33m\u001b[0m\u001b[1;33m\u001b[0m\u001b[0m\n\u001b[0;32m    148\u001b[0m         \u001b[1;31m# open tiff\u001b[0m\u001b[1;33m\u001b[0m\u001b[1;33m\u001b[0m\u001b[1;33m\u001b[0m\u001b[0m\n\u001b[1;32m--> 149\u001b[1;33m         \u001b[0mtif\u001b[0m\u001b[1;33m,\u001b[0m \u001b[0mLtif\u001b[0m \u001b[1;33m=\u001b[0m \u001b[0mopen_tiff\u001b[0m\u001b[1;33m(\u001b[0m\u001b[0mfile\u001b[0m\u001b[1;33m,\u001b[0m \u001b[0msktiff\u001b[0m\u001b[1;33m)\u001b[0m\u001b[1;33m\u001b[0m\u001b[1;33m\u001b[0m\u001b[0m\n\u001b[0m\u001b[0;32m    150\u001b[0m         \u001b[1;31m# keep track of the plane identity of the first frame (channel identity is assumed always 0)\u001b[0m\u001b[1;33m\u001b[0m\u001b[1;33m\u001b[0m\u001b[1;33m\u001b[0m\u001b[0m\n\u001b[0;32m    151\u001b[0m         \u001b[1;32mif\u001b[0m \u001b[0mops\u001b[0m\u001b[1;33m[\u001b[0m\u001b[1;34m'first_tiffs'\u001b[0m\u001b[1;33m]\u001b[0m\u001b[1;33m[\u001b[0m\u001b[0mik\u001b[0m\u001b[1;33m]\u001b[0m\u001b[1;33m:\u001b[0m\u001b[1;33m\u001b[0m\u001b[1;33m\u001b[0m\u001b[0m\n",
      "\u001b[1;32mc:\\users\\trose\\documents\\github\\suite2p\\suite2p\\io\\tiff.py\u001b[0m in \u001b[0;36mopen_tiff\u001b[1;34m(file, sktiff)\u001b[0m\n\u001b[0;32m     62\u001b[0m         \u001b[0mLtif\u001b[0m \u001b[1;33m=\u001b[0m \u001b[0mlen\u001b[0m\u001b[1;33m(\u001b[0m\u001b[0mtif\u001b[0m\u001b[1;33m)\u001b[0m\u001b[1;33m\u001b[0m\u001b[1;33m\u001b[0m\u001b[0m\n\u001b[0;32m     63\u001b[0m     \u001b[1;32melse\u001b[0m\u001b[1;33m:\u001b[0m\u001b[1;33m\u001b[0m\u001b[1;33m\u001b[0m\u001b[0m\n\u001b[1;32m---> 64\u001b[1;33m         \u001b[0mtif\u001b[0m \u001b[1;33m=\u001b[0m \u001b[0mScanImageTiffReader\u001b[0m\u001b[1;33m(\u001b[0m\u001b[0mfile\u001b[0m\u001b[1;33m)\u001b[0m\u001b[1;33m\u001b[0m\u001b[1;33m\u001b[0m\u001b[0m\n\u001b[0m\u001b[0;32m     65\u001b[0m         \u001b[0mtsize\u001b[0m \u001b[1;33m=\u001b[0m \u001b[0mtif\u001b[0m\u001b[1;33m.\u001b[0m\u001b[0mshape\u001b[0m\u001b[1;33m(\u001b[0m\u001b[1;33m)\u001b[0m\u001b[1;33m\u001b[0m\u001b[1;33m\u001b[0m\u001b[0m\n\u001b[0;32m     66\u001b[0m         \u001b[1;32mif\u001b[0m \u001b[0mlen\u001b[0m\u001b[1;33m(\u001b[0m\u001b[0mtsize\u001b[0m\u001b[1;33m)\u001b[0m \u001b[1;33m<\u001b[0m \u001b[1;36m3\u001b[0m\u001b[1;33m:\u001b[0m\u001b[1;33m\u001b[0m\u001b[1;33m\u001b[0m\u001b[0m\n",
      "\u001b[1;32mC:\\Miniconda3\\envs\\suite2p\\lib\\site-packages\\ScanImageTiffReader\\__init__.py\u001b[0m in \u001b[0;36m__init__\u001b[1;34m(self, filename)\u001b[0m\n\u001b[0;32m    171\u001b[0m         '''\n\u001b[0;32m    172\u001b[0m         \u001b[0mself\u001b[0m\u001b[1;33m.\u001b[0m\u001b[0m_is_open\u001b[0m\u001b[1;33m=\u001b[0m\u001b[1;32mFalse\u001b[0m\u001b[1;33m\u001b[0m\u001b[1;33m\u001b[0m\u001b[0m\n\u001b[1;32m--> 173\u001b[1;33m         \u001b[0mself\u001b[0m\u001b[1;33m.\u001b[0m\u001b[0mopen\u001b[0m\u001b[1;33m(\u001b[0m\u001b[0mfilename\u001b[0m\u001b[1;33m)\u001b[0m\u001b[1;33m\u001b[0m\u001b[1;33m\u001b[0m\u001b[0m\n\u001b[0m\u001b[0;32m    174\u001b[0m \u001b[1;33m\u001b[0m\u001b[0m\n\u001b[0;32m    175\u001b[0m     \u001b[1;32mdef\u001b[0m \u001b[0m__del__\u001b[0m\u001b[1;33m(\u001b[0m\u001b[0mself\u001b[0m\u001b[1;33m)\u001b[0m\u001b[1;33m:\u001b[0m\u001b[1;33m\u001b[0m\u001b[1;33m\u001b[0m\u001b[0m\n",
      "\u001b[1;32mC:\\Miniconda3\\envs\\suite2p\\lib\\site-packages\\ScanImageTiffReader\\__init__.py\u001b[0m in \u001b[0;36mopen\u001b[1;34m(self, filename)\u001b[0m\n\u001b[0;32m    218\u001b[0m         '''\n\u001b[0;32m    219\u001b[0m         \u001b[0mself\u001b[0m\u001b[1;33m.\u001b[0m\u001b[0mclose\u001b[0m\u001b[1;33m(\u001b[0m\u001b[1;33m)\u001b[0m \u001b[1;31m# just in case\u001b[0m\u001b[1;33m\u001b[0m\u001b[1;33m\u001b[0m\u001b[0m\n\u001b[1;32m--> 220\u001b[1;33m         \u001b[0mself\u001b[0m\u001b[1;33m.\u001b[0m\u001b[0m__ctx\u001b[0m\u001b[1;33m=\u001b[0m\u001b[0m_api\u001b[0m\u001b[1;33m.\u001b[0m\u001b[0mopen\u001b[0m\u001b[1;33m(\u001b[0m\u001b[0mfilename\u001b[0m\u001b[1;33m.\u001b[0m\u001b[0mencode\u001b[0m\u001b[1;33m(\u001b[0m\u001b[1;34m\"utf8\"\u001b[0m\u001b[1;33m)\u001b[0m\u001b[1;33m)\u001b[0m\u001b[1;33m\u001b[0m\u001b[1;33m\u001b[0m\u001b[0m\n\u001b[0m\u001b[0;32m    221\u001b[0m         \u001b[1;32mif\u001b[0m \u001b[0mself\u001b[0m\u001b[1;33m.\u001b[0m\u001b[0m__ctx\u001b[0m\u001b[1;33m.\u001b[0m\u001b[0mlog\u001b[0m\u001b[1;33m:\u001b[0m\u001b[1;33m\u001b[0m\u001b[1;33m\u001b[0m\u001b[0m\n\u001b[0;32m    222\u001b[0m             \u001b[1;32mraise\u001b[0m \u001b[0mException\u001b[0m\u001b[1;33m(\u001b[0m\u001b[0mself\u001b[0m\u001b[1;33m.\u001b[0m\u001b[0m__ctx\u001b[0m\u001b[1;33m.\u001b[0m\u001b[0mlog\u001b[0m\u001b[1;33m.\u001b[0m\u001b[0mdecode\u001b[0m\u001b[1;33m(\u001b[0m\u001b[1;34m\"utf-8\"\u001b[0m\u001b[1;33m,\u001b[0m\u001b[1;34m\"strict\"\u001b[0m\u001b[1;33m)\u001b[0m\u001b[1;33m)\u001b[0m\u001b[1;33m\u001b[0m\u001b[1;33m\u001b[0m\u001b[0m\n",
      "\u001b[1;31mKeyboardInterrupt\u001b[0m: "
     ]
    }
   ],
   "source": [
    "opsEnd = run_s2p.run_s2p(ops=ops, db=db)"
   ]
  },
  {
   "cell_type": "markdown",
   "metadata": {},
   "source": [
    "### convert notebook to *.py"
   ]
  },
  {
   "cell_type": "code",
   "execution_count": 10,
   "metadata": {},
   "outputs": [
    {
     "name": "stderr",
     "output_type": "stream",
     "text": [
      "[NbConvertApp] Converting notebook suite2p_axon_workflow.ipynb to script\n",
      "[NbConvertApp] Writing 9850 bytes to suite2p_axon_workflow.py\n"
     ]
    }
   ],
   "source": [
    "!jupyter nbconvert --to script suite2p_axon_workflow.ipynb"
   ]
  },
  {
   "cell_type": "markdown",
   "metadata": {},
   "source": [
    "# Trash collector"
   ]
  },
  {
   "cell_type": "code",
   "execution_count": null,
   "metadata": {},
   "outputs": [],
   "source": [
    "stat = np.load(ftemp +'/std_ops/ops_dendrite.npy', allow_pickle=True)"
   ]
  },
  {
   "cell_type": "code",
   "execution_count": null,
   "metadata": {},
   "outputs": [],
   "source": [
    "# set your options for running\n",
    "ops = run_s2p.default_ops() # populates ops with the default options"
   ]
  },
  {
   "cell_type": "code",
   "execution_count": null,
   "metadata": {},
   "outputs": [],
   "source": [
    "opspath = 'C:/temp/trose/David Laubender/Data/imaging data/DL_191106_2/ImagingData/2019-12-14/suite2p/suite2p/plane0/ops.npy'\n",
    "\n",
    "stato = np.load(opspath, allow_pickle=True)"
   ]
  },
  {
   "cell_type": "code",
   "execution_count": null,
   "metadata": {},
   "outputs": [],
   "source": [
    "print(stat.conj().transpose())\n"
   ]
  }
 ],
 "metadata": {
  "kernelspec": {
   "display_name": "Python 3",
   "language": "python",
   "name": "python3"
  },
  "language_info": {
   "codemirror_mode": {
    "name": "ipython",
    "version": 3
   },
   "file_extension": ".py",
   "mimetype": "text/x-python",
   "name": "python",
   "nbconvert_exporter": "python",
   "pygments_lexer": "ipython3",
   "version": "3.7.6"
  }
 },
 "nbformat": 4,
 "nbformat_minor": 4
}
