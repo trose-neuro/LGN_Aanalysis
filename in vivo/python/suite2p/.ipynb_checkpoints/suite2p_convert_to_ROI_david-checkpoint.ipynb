{
 "cells": [
  {
   "cell_type": "markdown",
   "metadata": {},
   "source": [
    "# Batch ROI conversion\n",
    "Tobias Rose 2020"
   ]
  },
  {
   "cell_type": "code",
   "execution_count": null,
   "metadata": {},
   "outputs": [],
   "source": [
    "from helpers import s2p_helpers as s2p\n",
    "import sys\n",
    "import os\n",
    "from pathlib import Path\n",
    "import numpy as np"
   ]
  },
  {
   "cell_type": "code",
   "execution_count": null,
   "metadata": {},
   "outputs": [],
   "source": [
    "if sys.platform == \"darwin\":\n",
    "    ### Mac\n",
    "    main_root = '/Volumes/archive_bonhoeffer_group$/David Laubender/Data/imaging data/' #location of original data\n",
    "    adata     = '/Volumes/archive_bonhoeffer_group$/David Laubender/adata' #location of saved analyzed data\n",
    "elif sys.platform == \"win32\":\n",
    "    main_root = 'I:/David Laubender/Data/imaging data' #location of original data\n",
    "    adata     = 'I:/David Laubender/Data/adata' #location of saved analyzed data"
   ]
  },
  {
   "cell_type": "code",
   "execution_count": null,
   "metadata": {},
   "outputs": [],
   "source": [
    "#exp = ['62283', '62284', '62285', '62286', '62287', '62288', '62289', '62290']"
   ]
  },
  {
   "cell_type": "code",
   "execution_count": null,
   "metadata": {},
   "outputs": [],
   "source": [
    "exp = ['62282','62283','62284','62285','62286','62287','62288','62289','62290','62291','62292','62293','62304','62305','62306','62307','62308','62309','62359','62360','62361','62362','62363','62364','62255','62256','62258','62259','62260','62261','62264','62265','62266','62267','62268','62269','62347','62348','62349','62350','62351','62352','62334','62335','62336','62337','62338','62339','62353','62354','62355','62356','62357','62358','62398','62399','62400','62401','62402','62403','62377','62378','62379','62380','62381','62382','62298','62299','62300','62301','62302','62303','62316','62317','62318','62319','62320','62321','62365','62366','62367','62368','62369','62370']\n",
    "#exp = ['62382','62366','62367','62368','62369','62370']\n",
    "# why did is save everything in I:\\David Laubender\\Data\\imaging data\\DL_191106_4\\ImagingData\\2019-12-19\\Pixelmaps???\n",
    "#xp = ['62282']"
   ]
  },
  {
   "cell_type": "code",
   "execution_count": null,
   "metadata": {},
   "outputs": [],
   "source": [
    "runops = {\n",
    "    'exp': exp, \n",
    "    'main_root': main_root,\n",
    "    'adata': adata,\n",
    "    'save_template': True\n",
    "}"
   ]
  },
  {
   "cell_type": "markdown",
   "metadata": {},
   "source": [
    "## s2p.batch_s2p_ROI_convert(runops)"
   ]
  },
  {
   "cell_type": "code",
   "execution_count": null,
   "metadata": {},
   "outputs": [],
   "source": [
    "s2p.batch_s2p_ROI_convert(runops)"
   ]
  }
 ],
 "metadata": {
  "kernelspec": {
   "display_name": "Python 3",
   "language": "python",
   "name": "python3"
  },
  "language_info": {
   "codemirror_mode": {
    "name": "ipython",
    "version": 3
   },
   "file_extension": ".py",
   "mimetype": "text/x-python",
   "name": "python",
   "nbconvert_exporter": "python",
   "pygments_lexer": "ipython3",
   "version": "3.7.6"
  }
 },
 "nbformat": 4,
 "nbformat_minor": 4
}
