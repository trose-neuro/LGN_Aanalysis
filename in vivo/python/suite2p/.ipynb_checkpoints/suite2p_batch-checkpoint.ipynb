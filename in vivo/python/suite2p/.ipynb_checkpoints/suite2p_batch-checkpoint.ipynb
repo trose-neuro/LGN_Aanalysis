{
 "cells": [
  {
   "cell_type": "markdown",
   "metadata": {},
   "source": [
    "# Batch s2p processing\n",
    "Tobias Rose 2020"
   ]
  },
  {
   "cell_type": "code",
   "execution_count": null,
   "metadata": {},
   "outputs": [],
   "source": [
    "from helpers import s2p_helpers as s2p\n",
    "import sys\n",
    "import os"
   ]
  },
  {
   "cell_type": "markdown",
   "metadata": {},
   "source": [
    "### User-specific folders"
   ]
  },
  {
   "cell_type": "code",
   "execution_count": null,
   "metadata": {},
   "outputs": [],
   "source": [
    "if sys.platform == \"darwin\":\n",
    "    ### Mac\n",
    "    main_root = '/Volumes/archive_bonhoeffer_group$/David Laubender/Data/imaging data/DL_191024_6/ImagingData/' #location of original data\n",
    "    adata     = '/Volumes/archive_bonhoeffer_group$/David Laubender/adata' #location of saved analyzed data\n",
    "    ftemp     = '/Users/trose/Data/temp' #fast disk (local ssd for s2p binary files) \n",
    "    ftiff     = '/Users/trose/Data/s2p_tiff' #fast disk folder for concatenated tiffs (if needed)\n",
    "elif sys.platform == \"win32\":\n",
    "    main_root = 'I:/David Laubender/Data/imaging data/DL_191024_6/' #location of original data\n",
    "    adata     = 'I:/David Laubender/adata' #location of saved analyzed data\n",
    "    ftemp     = 'C:/temp/trose/suite2ptemp' #fast disk (local ssd for s2p binary files  \n",
    "    ftiff     = 'C:/temp/trose/s2p_tiff' #fast disk folder for concatenated tiffs (if needed)"
   ]
  },
  {
   "cell_type": "markdown",
   "metadata": {},
   "source": [
    "### Experiments (unique IDs) to load.\n",
    "Be aware: The batch script recursively searches the network for these experiments. This can be slow - so the closer `main_root` is to the final files, the faster the script runs."
   ]
  },
  {
   "cell_type": "code",
   "execution_count": null,
   "metadata": {},
   "outputs": [],
   "source": [
    "exp = ['62283', '62287', '62288', '62289', '62290'] # current state"
   ]
  },
  {
   "cell_type": "code",
   "execution_count": null,
   "metadata": {},
   "outputs": [],
   "source": [
    "exp = ['62291', '62292', '62293', '62304', '62305', '62306', '62307', '62308', '62309', '62359', '62360', '62361', '62362', '62363', '62364']"
   ]
  },
  {
   "cell_type": "code",
   "execution_count": null,
   "metadata": {},
   "outputs": [],
   "source": [
    "exp = ['62282','62283','62284','62285','62286','62287','62288','62289','62290','62291','62292','62293','62304','62305','62306','62307','62308','62309','62359','62360','62361','62362','62363','62364','62255','62256','62258','62259','62260','62261','62264','62265','62266','62267','62268','62269','62347','62348','62349','62350','62351','62352','62334','62335','62336','62337','62338','62339','62353','62354','62355','62356','62357','62358','62398','62399','62400','62401','62402','62403','62377','62378','62379','62380','62381','62382','62298','62299','62300','62301','62302','62303','62316','62317','62318','62319','62320','62321','62365','62366','62367','62368','62369','62370']"
   ]
  },
  {
   "cell_type": "markdown",
   "metadata": {},
   "source": [
    "### Run options"
   ]
  },
  {
   "cell_type": "code",
   "execution_count": null,
   "metadata": {},
   "outputs": [],
   "source": [
    "runops = {\n",
    "    'exp': exp, \n",
    "    'concat': False,               #whether or not to run all experiments as a concatenated single experiment\n",
    "    'main_root': main_root,\n",
    "    'adata': adata,\n",
    "    'ftemp': ftemp,\n",
    "    'ftiff': ftiff,\n",
    "    'darkframes': 50,              #number of darkframes to be excluded from extraction\n",
    "    'readfiles': 999999               #read only subfraction of all files. Set to 9999 normally\n",
    "}"
   ]
  },
  {
   "cell_type": "markdown",
   "metadata": {},
   "source": [
    "### Run s2p on all specified experiments"
   ]
  },
  {
   "cell_type": "code",
   "execution_count": null,
   "metadata": {},
   "outputs": [],
   "source": [
    "[ops, db] = s2p.batch_s2p(runops)"
   ]
  },
  {
   "cell_type": "markdown",
   "metadata": {},
   "source": [
    "### Clean up folders - use with caution!"
   ]
  },
  {
   "cell_type": "code",
   "execution_count": null,
   "metadata": {},
   "outputs": [],
   "source": [
    "s2p.s2p_clean(runops)"
   ]
  },
  {
   "cell_type": "markdown",
   "metadata": {},
   "source": [
    "# Batch ROI conversion"
   ]
  },
  {
   "cell_type": "code",
   "execution_count": null,
   "metadata": {},
   "outputs": [],
   "source": [
    "runops = {\n",
    "    'exp': exp, \n",
    "    'main_root': main_root,\n",
    "    'adata': adata,\n",
    "    'save_template': True\n",
    "}"
   ]
  },
  {
   "cell_type": "code",
   "execution_count": null,
   "metadata": {},
   "outputs": [],
   "source": [
    "s2p.batch_s2p_ROI_convert(runops)"
   ]
  }
 ],
 "metadata": {
  "kernelspec": {
   "display_name": "Python 3",
   "language": "python",
   "name": "python3"
  },
  "language_info": {
   "codemirror_mode": {
    "name": "ipython",
    "version": 3
   },
   "file_extension": ".py",
   "mimetype": "text/x-python",
   "name": "python",
   "nbconvert_exporter": "python",
   "pygments_lexer": "ipython3",
   "version": "3.7.6"
  }
 },
 "nbformat": 4,
 "nbformat_minor": 4
}
