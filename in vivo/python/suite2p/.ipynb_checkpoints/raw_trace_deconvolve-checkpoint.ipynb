{
 "cells": [
  {
   "cell_type": "markdown",
   "metadata": {},
   "source": [
    "## Deconvolve on raw traces\n",
    "https://github.com/MouseLand/suite2p/issues/169"
   ]
  },
  {
   "cell_type": "code",
   "execution_count": 9,
   "metadata": {},
   "outputs": [],
   "source": [
    "# force single threaded numpy (call before numpy/scipy/suite2p import)\n",
    "import os\n",
    "os.environ[\"MKL_NUM_THREADS\"] = \"1\"\n",
    "os.environ[\"OMP_NUM_THREADS\"] = \"1\"\n",
    "os.environ[\"OPENBLAS_NUM_THREADS\"] = \"1\"\n",
    "\n",
    "# compute deconvolution\n",
    "from suite2p import dcnv\n",
    "\n",
    "tau = 1.0 # timescale of indicator\n",
    "fs = 30.0 # sampling rate in Hz\n",
    "# for computing and subtracting baseline\n",
    "baseline = 'maximin' # take the running max of the running min after smoothing with gaussian\n",
    "sig_baseline = 10.0 # in bins, standard deviation of gaussian with which to smooth\n",
    "win_baseline = 60.0 # in seconds, window in which to compute max/min filters\n",
    "\n",
    "ops = {'tau': tau, 'fs': fs, 'baseline': baseline, 'sig_baseline': sig_baseline, 'win_baseline': win_baseline}\n",
    "\n",
    "# baseline operation\n",
    "# NOTE: Fc = F - 0.7 * Fneu  in suite2p pipeline\n",
    "Fc = dcnv.preprocess(Fc, ops)\n",
    "\n",
    "# get spikes\n",
    "spks = dcnv.oasis(Fc, ops)"
   ]
  },
  {
   "cell_type": "markdown",
   "metadata": {},
   "source": [
    "## 'Denoised' reconvolved trace\n",
    "You can \"invert\" this model of spike deconvolution by filtering the traces with an exponential with the ops['tau'] * ops['fs'] timescale. e.g."
   ]
  },
  {
   "cell_type": "code",
   "execution_count": null,
   "metadata": {},
   "outputs": [],
   "source": [
    "from scipy.signal import convolve\n",
    "efilt = np.exp(- np.linspace(0,50,200) / (ops['tau'] * ops['fs']))\n",
    "efilt /= efilt.sum() #maybe comment out!\n",
    "sout = convolve(spks[0,:], efilt)\n",
    "sout = sout[:spks.shape[1]]"
   ]
  }
 ],
 "metadata": {
  "kernelspec": {
   "display_name": "Python 3",
   "language": "python",
   "name": "python3"
  },
  "language_info": {
   "codemirror_mode": {
    "name": "ipython",
    "version": 3
   },
   "file_extension": ".py",
   "mimetype": "text/x-python",
   "name": "python",
   "nbconvert_exporter": "python",
   "pygments_lexer": "ipython3",
   "version": "3.7.5"
  }
 },
 "nbformat": 4,
 "nbformat_minor": 4
}
