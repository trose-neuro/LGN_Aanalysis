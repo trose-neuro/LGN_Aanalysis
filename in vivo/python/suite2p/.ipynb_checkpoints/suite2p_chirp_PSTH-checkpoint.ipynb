{
 "cells": [
  {
   "cell_type": "markdown",
   "metadata": {},
   "source": [
    "# Chirp Stimulus analysis \n",
    "Tobias Rose 2020"
   ]
  },
  {
   "cell_type": "markdown",
   "metadata": {},
   "source": [
    "# Analysis"
   ]
  },
  {
   "cell_type": "code",
   "execution_count": 1,
   "metadata": {},
   "outputs": [],
   "source": [
    "import numpy as np\n",
    "import matplotlib.pyplot as plt\n",
    "from matplotlib import gridspec\n",
    "%matplotlib widget\n",
    "import seaborn as sns\n",
    "sns.set()  # set plot styles\n",
    "import sys\n",
    "import os\n",
    "from pathlib import Path\n",
    "from scipy.signal import convolve\n",
    "from scipy.stats import zscore\n",
    "from scipy.ndimage import gaussian_filter1d\n",
    "# from scipy.stats import zscore ### Cave! scipy zscore does not handle NaN!\n",
    "from ScanImageTiffReader import ScanImageTiffReader\n",
    "from helpers import parse_SI_header as pSI #own\n",
    "from tqdm import tqdm\n",
    "\n",
    "import rastermap as rm\n",
    "import pandas as pd\n",
    "\n",
    "\n",
    "from sklearn.decomposition import NMF"
   ]
  },
  {
   "cell_type": "markdown",
   "metadata": {},
   "source": [
    "# Function definitions"
   ]
  },
  {
   "cell_type": "markdown",
   "metadata": {},
   "source": [
    "### Aux loading"
   ]
  },
  {
   "cell_type": "code",
   "execution_count": 3,
   "metadata": {},
   "outputs": [],
   "source": [
    "def load_auxdata(filename):\n",
    "    \"\"\" Loads .lvd aux data file \"\"\"\n",
    "    with open(filename, 'rb') as f:\n",
    "        # Reset file index\n",
    "        f.seek(0)\n",
    "        # Get meta data\n",
    "        samplingfreq = np.fromfile(f, dtype='>f8', count=1)\n",
    "        print(\"Aux sampling frequency = {}Hz\".format(samplingfreq))\n",
    "        n_channels = int(np.fromfile(f, dtype='>f8', count=1))\n",
    "        print(\"# channels = {}\".format(n_channels))\n",
    "        timestamp = np.fromfile(f, dtype='>f8', count=1)\n",
    "        print(\"timestamp = {}\".format(timestamp))\n",
    "        max_input = np.fromfile(f, dtype='>f8', count=1)\n",
    "        print(\"max input = {} V\".format(max_input))\n",
    "        # Read aux data\n",
    "        auxdata = np.fromfile(f, dtype='>f8')\n",
    "        n_datapoints = int(auxdata.shape[0]/n_channels)\n",
    "        print(\"number of aux datapoints = {}\".format(n_datapoints))\n",
    "        auxdata = np.reshape(auxdata,(n_datapoints,n_channels))\n",
    "        return auxdata, samplingfreq"
   ]
  },
  {
   "cell_type": "markdown",
   "metadata": {},
   "source": [
    "### Frame extraction"
   ]
  },
  {
   "cell_type": "code",
   "execution_count": 4,
   "metadata": {},
   "outputs": [],
   "source": [
    "def get_frame_times(auxdata, Frames_chan):\n",
    "    \"\"\" extracts frame onset times \"\"\"\n",
    "    len_aux = len(auxdata)\n",
    "    pos = np.argwhere(auxdata[0:,Frames_chan] > 0.75 * np.max(auxdata[range(0,len_aux),Frames_chan ])) # work on diff of indices rather than on raw diff to prevent multi-smaple detection in up/ downstrokes\n",
    "    diffpos = np.argwhere(np.diff(pos[0:,0]) > 1)\n",
    "    frame_times = pos[diffpos,0]\n",
    "    \n",
    "    if  len(frame_times)==0:\n",
    "        print('get_frame_times WARNING: no frames found')\n",
    "        frame_times = 1;\n",
    "        return frame_times\n",
    "    \n",
    "    # find onset of first frame\n",
    "    pos_first = np.argwhere(auxdata[0:,Frames_chan] < 0.5 * np.max(auxdata[range(0,len_aux), Frames_chan]))\n",
    "    diffpos_first = np.argwhere(np.diff(pos_first[0:,0]) > 1)\n",
    "    frame_times = np.append(diffpos_first[0], frame_times)\n",
    "    \n",
    "    return frame_times"
   ]
  },
  {
   "cell_type": "markdown",
   "metadata": {},
   "source": [
    "### CHIRP - stimulus bound extraction"
   ]
  },
  {
   "cell_type": "code",
   "execution_count": 5,
   "metadata": {},
   "outputs": [],
   "source": [
    "def get_stimIDs_chirp(auxdata, stimops):\n",
    "    \"\"\" extracts chirp onset times \"\"\"\n",
    "    \n",
    "    Frames_chan = stimops['Frames_chan']\n",
    "    Stims_chan = stimops['Stims_chan']\n",
    "    eye1_chan = stimops['eye1_chan']\n",
    "    eye2_chan = stimops['eye2_chan']\n",
    "    level = stimops['level']\n",
    "    minsample_delta = stimops['minsample_delta']\n",
    "    \n",
    "    frame_times         = get_frame_times(auxdata,Frames_chan)\n",
    "    frame_times_level   = frame_times[range(0,len(frame_times),level)]\n",
    "\n",
    "    \n",
    "    StimOn = auxdata[frame_times_level, Stims_chan]>0.8\n",
    "\n",
    "    # generate cleaned eye binaries\n",
    "    Eye1On = auxdata[frame_times_level,eye1_chan]*-1+ np.max(auxdata[frame_times_level,eye1_chan])>0.8\n",
    "    Eye2On = auxdata[frame_times_level,eye2_chan]>0.8\n",
    "    Eye2On[-1] = 1 \n",
    "    bino = Eye1On == Eye2On\n",
    "\n",
    "    Eye1On_only = Eye1On != bino\n",
    "    Eye2On_only = Eye2On != bino\n",
    "    Eye1On_only[-1] = False\n",
    "    Eye2On_only[-1] = False\n",
    "    bino[0] = False\n",
    "    bino[-1] = False\n",
    "\n",
    "    # generate cleaned bino binary\n",
    "    bino_onsets_temp  = np.argwhere(np.diff(np.multiply(bino, 1)) > 0)\n",
    "    bino_offsets_temp = np.argwhere(np.diff(np.multiply(bino, 1)) < 0)\n",
    "\n",
    "    bino_onsets  = bino_onsets_temp[np.argwhere(bino_offsets_temp[0:,0] - bino_onsets_temp[0:,0] > minsample_delta)]\n",
    "    bino_offsets = bino_offsets_temp[np.argwhere(bino_offsets_temp[0:,0] - bino_onsets_temp[0:,0] > minsample_delta)]                              \n",
    "\n",
    "    bino_clean = np.full(( len(frame_times_level)), False) \n",
    "\n",
    "    for i in range(len(bino_onsets)):\n",
    "        bino_clean[range(bino_onsets[i,0,0], bino_offsets[i,0,0])] = True\n",
    "\n",
    "    # extract chirp stim on and offsets\n",
    "    chirp_onsets_temp  = np.argwhere(np.diff(np.multiply(StimOn, 1)) > 0)\n",
    "    chirp_offsets_temp = np.argwhere(np.diff(np.multiply(StimOn, 1)) < 0)\n",
    "\n",
    "    chirp_on  = np.argwhere(np.diff(chirp_onsets_temp[0:,0]) > minsample_delta) + 1\n",
    "    chirp_off = np.argwhere(np.diff(chirp_offsets_temp[0:,0]) > minsample_delta)\n",
    "\n",
    "    chirp_on  = np.append(0, chirp_on)\n",
    "    chirp_off = np.append(chirp_off, len(chirp_offsets_temp) - 1)\n",
    "\n",
    "    chirp_onsets  = chirp_onsets_temp[chirp_on]\n",
    "    chirp_offsets = chirp_offsets_temp[chirp_off]\n",
    "\n",
    "    ids = { \n",
    "    'Contra':   [np.intersect1d(chirp_onsets, np.argwhere(Eye1On_only)), np.intersect1d(chirp_offsets, np.argwhere(Eye1On_only))],\n",
    "    'Ipsi': [np.intersect1d(chirp_onsets, np.argwhere(Eye2On_only)), np.intersect1d(chirp_offsets, np.argwhere(Eye2On_only))],\n",
    "    'Bino':   [np.intersect1d(chirp_onsets, np.argwhere(bino_clean)), np.intersect1d(chirp_offsets, np.argwhere(bino_clean))],\n",
    "    'FrameTimes_level': frame_times_level,\n",
    "    'FrameTimes':       frame_times,\n",
    "    }\n",
    "    \n",
    "    return ids\n",
    "    "
   ]
  },
  {
   "cell_type": "markdown",
   "metadata": {},
   "source": [
    "### on-the-fly panda function definition of zscore that handles NaNs"
   ]
  },
  {
   "cell_type": "code",
   "execution_count": 6,
   "metadata": {},
   "outputs": [],
   "source": [
    "def z_score(df): return (df-df.mean())/df.std(ddof=0)\n",
    "# def m_mean(df): return df.mean()"
   ]
  },
  {
   "cell_type": "markdown",
   "metadata": {},
   "source": [
    "# Batch processing"
   ]
  },
  {
   "cell_type": "markdown",
   "metadata": {},
   "source": [
    "### User-specific folders"
   ]
  },
  {
   "cell_type": "code",
   "execution_count": 7,
   "metadata": {},
   "outputs": [],
   "source": [
    "if sys.platform == \"darwin\":\n",
    "    ### Mac\n",
    "    main_root = '/Volumes/archive_bonhoeffer_group$/David Laubender/Data/imaging data/DL_191024_6/ImagingData/' #location of original data\n",
    "    adata     = '/Volumes/archive_bonhoeffer_group$/David Laubender/adata' #location of saved analyzed data\n",
    "    ftemp     = '/Users/trose/Data/temp' #fast disk (local ssd for s2p binary files) \n",
    "    ftiff     = '/Users/trose/Data/s2p_tiff' #fast disk folder for concatenated tiffs (if needed)\n",
    "elif sys.platform == \"win32\":\n",
    "#     main_root = 'I:/David Laubender/Data/imaging data/DL_191106_2/ImagingData' #location of original data\n",
    "    main_root = 'I:/David Laubender/Data/imaging data/DL_191024_6/ImagingData' #location of original data    \n",
    "    adata     = 'I:/David Laubender/adata' #location of saved analyzed data\n",
    "    ftemp     = 'C:/temp/trose/suite2ptemp' #fast disk (local ssd for s2p binary files  \n",
    "    ftiff     = 'C:/temp/trose/s2p_tiff' #fast disk folder for concatenated tiffs (if needed)"
   ]
  },
  {
   "cell_type": "code",
   "execution_count": 8,
   "metadata": {},
   "outputs": [],
   "source": [
    "exp = ['62283', '62284', '62285', '62286', '62287', '62288', '62289', '62290']"
   ]
  },
  {
   "cell_type": "code",
   "execution_count": 9,
   "metadata": {},
   "outputs": [],
   "source": [
    "exp = ['62336']"
   ]
  },
  {
   "cell_type": "code",
   "execution_count": 10,
   "metadata": {},
   "outputs": [],
   "source": [
    "exp = ['62284']"
   ]
  },
  {
   "cell_type": "code",
   "execution_count": 11,
   "metadata": {},
   "outputs": [],
   "source": [
    "# exp = ['62284']"
   ]
  },
  {
   "cell_type": "code",
   "execution_count": 12,
   "metadata": {},
   "outputs": [],
   "source": [
    "adata_s2ppath = []\n",
    "adata_tiffpath = []\n",
    "aux_files = []\n",
    "single_tiff_file =[]\n",
    "experimentator = []\n",
    "mouse = []\n",
    "date = []\n",
    "experiment = []\n",
    "\n",
    "for val in exp:\n",
    "    s2pdir = list(Path(main_root).rglob('suite2p_exp'+val+'/')) #recursive\n",
    "    tifffile = list(Path(os.path.join(*Path(s2pdir[0]).parts[0:-3], 'ImagingData', Path(s2pdir[0]).parts[-2])).glob('exp'+val+'*.tif')) #recursive search over main_root    \n",
    "    experimentator.append(Path(s2pdir[0]).parts[1])\n",
    "    mouse.append(Path(s2pdir[0]).parts[4])\n",
    "    date.append(Path(s2pdir[0]).parts[6])\n",
    "    experiment.append(val)\n",
    "    try:\n",
    "        adata_s2ppath.append(os.path.join(s2pdir[0], 'suite2p', 'combined'))\n",
    "        adata_tiffpath.append(os.path.dirname(s2pdir[0]))\n",
    "        aux_files.append(*Path(os.path.join(*Path(s2pdir[0]).parts[0:-3], 'data', Path(s2pdir[0]).parts[-2])).glob('exp'+val+'*.lvd'))\n",
    "        single_tiff_file.append(str(tifffile[0]))\n",
    "    except:\n",
    "        print(val + ' not found')"
   ]
  },
  {
   "cell_type": "markdown",
   "metadata": {},
   "source": [
    "### parse first tiff of exp for imaging specs"
   ]
  },
  {
   "cell_type": "code",
   "execution_count": 13,
   "metadata": {},
   "outputs": [],
   "source": [
    "with ScanImageTiffReader(single_tiff_file[0]) as reader:\n",
    "    header = (reader.description(0))\n",
    "    mov_dim = (reader.shape())\n",
    "    \n",
    "level = pSI.parse_SI_header_level(header)\n",
    "zoom = pSI.parse_SI_header_zoom(header)\n",
    "framerate = pSI.parse_SI_header_FrameRate(header)\n",
    "channels = pSI.parse_SI_header_Channels(header)\n",
    "volumes = pSI.parse_SI_header_Volumes(header)\n",
    "frames = pSI.parse_SI_header_Frames(header)\n",
    "frames_per_file = pSI.parse_SI_header_FramesPerFile(header)\n",
    "\n",
    "# account for multilevel acq where frames is 1\n",
    "if frames < volumes:\n",
    "    frames = volumes"
   ]
  },
  {
   "cell_type": "markdown",
   "metadata": {},
   "source": [
    "### extract chirp stim timebase"
   ]
  },
  {
   "cell_type": "code",
   "execution_count": 14,
   "metadata": {},
   "outputs": [],
   "source": [
    "aux_filename = str(aux_files[0])"
   ]
  },
  {
   "cell_type": "code",
   "execution_count": 15,
   "metadata": {},
   "outputs": [
    {
     "name": "stdout",
     "output_type": "stream",
     "text": [
      "Aux sampling frequency = [5000.]Hz\n",
      "# channels = 19\n",
      "timestamp = [2.01912011e+13]\n",
      "max input = [10.] V\n",
      "number of aux datapoints = 6256640\n"
     ]
    }
   ],
   "source": [
    "[auxdata, aux_samplingfreq] = load_auxdata(aux_filename)"
   ]
  },
  {
   "cell_type": "code",
   "execution_count": 16,
   "metadata": {},
   "outputs": [],
   "source": [
    "stimops = {\n",
    "    'Frames_chan': 3,\n",
    "    'Stims_chan': 7,\n",
    "    'eye1_chan': 16,\n",
    "    'eye2_chan': 17,\n",
    "    'level': level, # extract from SI file in the future\n",
    "    'minsample_delta': 100 \n",
    "     }"
   ]
  },
  {
   "cell_type": "code",
   "execution_count": 17,
   "metadata": {},
   "outputs": [],
   "source": [
    "ids = get_stimIDs_chirp(auxdata, stimops)"
   ]
  },
  {
   "cell_type": "code",
   "execution_count": 18,
   "metadata": {},
   "outputs": [],
   "source": [
    "# recalculate framerate based on auxdata\n",
    "framerate_auxderived = aux_samplingfreq / np.median(np.diff(ids['FrameTimes']))\n"
   ]
  },
  {
   "cell_type": "markdown",
   "metadata": {},
   "source": [
    "### plot aux_data"
   ]
  },
  {
   "cell_type": "markdown",
   "metadata": {},
   "source": [
    "#### raw aux plus stimbounds"
   ]
  },
  {
   "cell_type": "code",
   "execution_count": null,
   "metadata": {},
   "outputs": [],
   "source": [
    "fig = plt.figure(figsize=(8,6))\n",
    "plt.subplot(3,1,1)\n",
    "plt.plot(auxdata[ids['FrameTimes_level'],stimops['Stims_chan']]), plt.ylabel('Stims_chan') \n",
    "plt.vlines(ids['Ipsi'][0],-1,6, 'r')\n",
    "plt.vlines(ids['Ipsi'][1],-1,6, 'r')\n",
    "plt.vlines(ids['Contra'][0],-1,6, 'b')\n",
    "plt.vlines(ids['Contra'][1],-1,6, 'b')\n",
    "plt.vlines(ids['Bino'][0],-1,6, 'k')\n",
    "plt.vlines(ids['Bino'][1],-1,6, 'k')\n",
    "plt.subplot(3,1,2)\n",
    "plt.plot(auxdata[ids['FrameTimes_level'],stimops['eye1_chan']]), plt.ylabel('eye1_chan') \n",
    "plt.subplot(3,1,3)\n",
    "plt.plot(auxdata[ids['FrameTimes_level'],stimops['eye2_chan']]), plt.ylabel('eye2_chan') \n",
    "plt.show()"
   ]
  },
  {
   "cell_type": "code",
   "execution_count": null,
   "metadata": {},
   "outputs": [],
   "source": [
    "fig = plt.figure(figsize=(8,6))\n",
    "plt.subplot(3,1,1)\n",
    "plt.plot(auxdata[:,stimops['Stims_chan']]), plt.ylabel('Stims_chan') \n",
    "plt.vlines(ids['FrameTimes_level'][ids['Ipsi'][0]],-1,6, 'r')\n",
    "plt.vlines(ids['FrameTimes_level'][ids['Ipsi'][1]],-1,6, 'k')\n",
    "# plt.vlines(ids['Ipsi'][1],-1,6, 'r')\n",
    "# plt.vlines(ids['Contra'][0],-1,6, 'b')\n",
    "# plt.vlines(ids['Contra'][1],-1,6, 'b')\n",
    "# plt.vlines(ids['Bino'][0],-1,6, 'k')\n",
    "# plt.vlines(ids['Bino'][1],-1,6, 'k')\n",
    "# plt.subplot(3,1,2)\n",
    "# plt.plot(auxdata[ids['FrameTimes_level'],stimops['eye1_chan']]), plt.ylabel('eye1_chan') \n",
    "# plt.subplot(3,1,3)\n",
    "# plt.plot(auxdata[ids['FrameTimes_level'],stimops['eye2_chan']]), plt.ylabel('eye2_chan') \n",
    "plt.show"
   ]
  },
  {
   "cell_type": "markdown",
   "metadata": {},
   "source": [
    "# make PSTH"
   ]
  },
  {
   "cell_type": "markdown",
   "metadata": {},
   "source": [
    "### load traces"
   ]
  },
  {
   "cell_type": "code",
   "execution_count": 21,
   "metadata": {},
   "outputs": [],
   "source": [
    "F = np.load(os.path.join(adata_s2ppath[0],'F.npy'))\n",
    "Fneu = np.load(os.path.join(adata_s2ppath[0],'Fneu.npy'))\n",
    "spks = np.load(os.path.join(adata_s2ppath[0],'spks.npy'))\n",
    "stat = np.load(os.path.join(adata_s2ppath[0],'stat.npy'), allow_pickle=True)\n",
    "ops = np.load(os.path.join(adata_s2ppath[0],'ops.npy'), allow_pickle=True).item()\n",
    "iscell = np.load(os.path.join(adata_s2ppath[0],'iscell.npy'))"
   ]
  },
  {
   "cell_type": "markdown",
   "metadata": {},
   "source": [
    "### drop non-cells"
   ]
  },
  {
   "cell_type": "code",
   "execution_count": 22,
   "metadata": {},
   "outputs": [
    {
     "name": "stdout",
     "output_type": "stream",
     "text": [
      "dropped 185 non-boutons\n"
     ]
    }
   ],
   "source": [
    "old_len = len(F)\n",
    "\n",
    "F = F[iscell[:,0]==1,:]\n",
    "Fneu =Fneu[iscell[:,0]==1,:]\n",
    "spks = spks[iscell[:,0]==1,:]\n",
    "\n",
    "print('dropped ' + str(old_len - len(F)) + ' non-boutons')"
   ]
  },
  {
   "cell_type": "markdown",
   "metadata": {},
   "source": [
    "### PANDAS: generate seaborn-compatible, stimulus-chopped long-form pandas and plot (maybe not)"
   ]
  },
  {
   "cell_type": "code",
   "execution_count": 23,
   "metadata": {},
   "outputs": [],
   "source": [
    "categories = ['Ipsi', 'Contra', 'Bino'] #ids.keys()\n",
    "\n",
    "ncells = F.shape[0]\n",
    "\n",
    "prestim  = 1 / (framerate_auxderived / level) * 10 #seconds before stimulus\n",
    "poststim = 1 / (framerate_auxderived / level) * 10 #seconds after stimulus\n",
    "\n",
    "prestim_frames = np.round(prestim * (framerate_auxderived / level))\n",
    "poststim_frames = np.round(prestim * (framerate_auxderived / level))"
   ]
  },
  {
   "cell_type": "code",
   "execution_count": 24,
   "metadata": {},
   "outputs": [
    {
     "name": "stderr",
     "output_type": "stream",
     "text": [
      "100%|████████████████████████████████████████████████████████████████████████████████| 741/741 [01:09<00:00, 10.59it/s]\n"
     ]
    }
   ],
   "source": [
    "dfs = []\n",
    "dataframe = []\n",
    "maxlength = np.empty(3)\n",
    "# allocate PSTH array\n",
    "maxlength[0] = np.int(np.ceil(np.diff(ids[\"Contra\"][:], axis = 0).mean() + prestim_frames + poststim_frames))\n",
    "maxlength[1] = np.int(np.ceil(np.diff(ids[\"Ipsi\"][:], axis = 0).mean() + prestim_frames + poststim_frames))\n",
    "maxlength[2] = np.int(np.ceil(np.diff(ids[\"Bino\"][:], axis = 0).mean() + prestim_frames + poststim_frames))\n",
    "\n",
    "maxlength = np.int(np.max(maxlength))\n",
    "# for cell in tqdm(np.random.randint(0,ncells,5)):\n",
    "for cell in tqdm(range(ncells)):\n",
    "    for category in categories:\n",
    "        for trial, val in enumerate(ids[category][0]):\n",
    "            \n",
    "            aligned_F = np.empty((1,maxlength)).squeeze()\n",
    "            aligned_F.fill(np.NaN)\n",
    "            aligned_spks = np.empty((1,maxlength)).squeeze()\n",
    "            aligned_spks.fill(np.NaN)\n",
    "            aligned_stimdata = np.empty((1,maxlength)).squeeze()\n",
    "            aligned_stimdata.fill(np.NaN)\n",
    "            \n",
    "            slice_range = np.arange(ids[category][0][trial].astype(int)-prestim_frames.astype(int),ids[category][1][trial].astype(int)+poststim_frames.astype(int))\n",
    "            \n",
    "            aligned_stimdata[0:len(slice_range)] = auxdata[ids['FrameTimes_level'][slice_range],stimops['Stims_chan']]\n",
    "#             aligned_stimdata = auxdata[ids['FrameTimes_level'][slice_range][0]:ids['FrameTimes_level'][slice_range][-1],stimops['Stims_chan']]\n",
    "            \n",
    "            aligned_F[0:len(slice_range)] = F[cell,slice_range]\n",
    "            aligned_spks[0:len(slice_range)] = spks[cell,slice_range]\n",
    "            \n",
    "            time = np.arange(0, aligned_F.shape[0] * 1 / (framerate_auxderived / level), 1 / (framerate_auxderived / level) ) - prestim\n",
    "            aux_time = np.arange(0, aligned_stimdata.shape[0] * 1 / (framerate_auxderived / level), 1 / (framerate_auxderived / level)  ) - prestim\n",
    "            \n",
    "            dfs.append(pd.DataFrame({\n",
    "                                    'experimentator': experimentator[0],\n",
    "                                    'mouse': mouse[0],\n",
    "                                    'date': date[0],\n",
    "                                    'experiment': experiment[0],\n",
    "                                    'cell': cell,\n",
    "                                    'time': time,\n",
    "                                    'auxtime':aux_time,\n",
    "                                    'aux_files': aux_files[0],\n",
    "                                    'aligned_stimdata': aligned_stimdata,\n",
    "                                    'trial':trial,\n",
    "                                    'aligned_F': aligned_F,\n",
    "                                    'aligned_spks': aligned_spks,\n",
    "                                    'category': category,\n",
    "                                    'adata_s2ppath': adata_s2ppath[0],\n",
    "                                    'SI_level': level,\n",
    "                                    'SI_zoom': zoom,\n",
    "                                    'SI_framerate': framerate,\n",
    "                                    'SI_framerate_aux_derived': framerate_auxderived[0],\n",
    "                                    'SI_channels': channels,\n",
    "                                    'SI_volumes': volumes,\n",
    "                                    'SI_frames': frames,\n",
    "                                    'SI_frames_per_file': frames_per_file,\n",
    "                                    'SI_tiffpath': adata_tiffpath[0],\n",
    "                                    'SI_single_tiff_file': single_tiff_file[0]\n",
    "                                                    \n",
    "                                    }))            \n",
    "dataframe = pd.concat(dfs, axis=0)\n",
    "\n",
    "# TODO\n",
    "# - include Fneu, dF/F (-Fneu), reconvolved\n",
    "# - functionalize\n",
    "# - aggregate over all recordings"
   ]
  },
  {
   "cell_type": "markdown",
   "metadata": {},
   "source": [
    "### 'Simple' one-liners to get trial averages over all cells"
   ]
  },
  {
   "cell_type": "code",
   "execution_count": null,
   "metadata": {},
   "outputs": [],
   "source": [
    "\n",
    "fig = plt.figure(figsize=(10,8))\n",
    "plt.subplot(2,3,1)\n",
    "dataframe.loc[dataframe.loc[:,'category'] == 'Ipsi'].groupby(['time', 'cell'], as_index=False).aligned_spks.mean().pivot(index = 'time', columns='cell').mean(axis = 1).plot()\n",
    "plt.subplot(2,3,2)\n",
    "dataframe.loc[dataframe.loc[:,'category'] == 'Contra'].groupby(['time', 'cell'], as_index=False).aligned_spks.mean().pivot(index = 'time', columns='cell').mean(axis = 1).plot()\n",
    "plt.subplot(2,3,3)\n",
    "dataframe.loc[dataframe.loc[:,'category'] == 'Bino'].groupby(['time', 'cell'], as_index=False).aligned_spks.mean().pivot(index = 'time', columns='cell').mean(axis = 1).plot()\n",
    "plt.subplot(2,3,4)\n",
    "dataframe.loc[dataframe.loc[:,'category'] == 'Ipsi'].groupby(['time', 'cell'], as_index=False).aligned_F.mean().pivot(index = 'time', columns='cell').mean(axis = 1).plot()\n",
    "plt.subplot(2,3,5)\n",
    "dataframe.loc[dataframe.loc[:,'category'] == 'Contra'].groupby(['time', 'cell'], as_index=False).aligned_F.mean().pivot(index = 'time', columns='cell').mean(axis = 1).plot()\n",
    "plt.subplot(2,3,6)\n",
    "dataframe.loc[dataframe.loc[:,'category'] == 'Bino'].groupby(['time', 'cell'], as_index=False).aligned_F.mean().pivot(index = 'time', columns='cell').mean(axis = 1).plot()\n"
   ]
  },
  {
   "cell_type": "markdown",
   "metadata": {},
   "source": [
    "# generate sorted mean-cell responses / zscores or not"
   ]
  },
  {
   "cell_type": "code",
   "execution_count": 25,
   "metadata": {},
   "outputs": [],
   "source": [
    "# generate sorted mean-cell responses / zscores or not\n",
    "\n",
    "allcells_Ipsi_mean = dataframe.loc[dataframe.loc[:,'category'] == 'Ipsi'].groupby(['time', 'cell'], as_index=False).aligned_spks.mean().pivot(index = 'time', columns='cell')\n",
    "allcells_Ipsi_mean_zscored = allcells_Ipsi_mean.transform((lambda x : z_score(x)))\n",
    "sortidx = allcells_Ipsi_mean_zscored.max().sort_values(ascending=False).index\n",
    "allcells_Ipsi_mean_sort_zscored = allcells_Ipsi_mean_zscored.reindex(sortidx, axis = 1)\n",
    "\n",
    "allcells_Contra_mean = dataframe.loc[dataframe.loc[:,'category'] == 'Contra'].groupby(['time', 'cell'], as_index=False).aligned_spks.mean().pivot(index = 'time', columns='cell')\n",
    "allcells_Contra_mean_zscored = allcells_Contra_mean.transform((lambda x : z_score(x)))\n",
    "sortidx = allcells_Contra_mean_zscored.max().sort_values(ascending=False).index\n",
    "allcells_Contra_mean_sort_zscored = allcells_Contra_mean_zscored.reindex(sortidx, axis = 1)\n",
    "\n",
    "allcells_Bino_mean = dataframe.loc[dataframe.loc[:,'category'] == 'Bino'].groupby(['time', 'cell'], as_index=False).aligned_spks.mean().pivot(index = 'time', columns='cell')\n",
    "allcells_Bino_mean_zscored = allcells_Bino_mean.transform((lambda x : z_score(x)))\n",
    "sortidx = allcells_Bino_mean_zscored.max().sort_values(ascending=False).index\n",
    "allcells_Bino_mean_sort_zscored = allcells_Bino_mean_zscored.reindex(sortidx, axis = 1)\n",
    "\n",
    "\n",
    "allcells_Ipsi_mean = dataframe.loc[dataframe.loc[:,'category'] == 'Ipsi'].groupby(['time', 'cell'], as_index=False).aligned_spks.mean().pivot(index = 'time', columns='cell')\n",
    "sortidx2 = allcells_Ipsi_mean.max().sort_values(ascending=False).index\n",
    "allcells_Ipsi_mean_sort = allcells_Ipsi_mean.reindex(sortidx2, axis = 1)\n",
    "\n",
    "allcells_Contra_mean = dataframe.loc[dataframe.loc[:,'category'] == 'Contra'].groupby(['time', 'cell'], as_index=False).aligned_spks.mean().pivot(index = 'time', columns='cell')\n",
    "sortidx2 = allcells_Contra_mean.max().sort_values(ascending=False).index\n",
    "allcells_Contra_mean_sort = allcells_Contra_mean.reindex(sortidx2, axis = 1)\n",
    "\n",
    "allcells_Bino_mean = dataframe.loc[dataframe.loc[:,'category'] == 'Bino'].groupby(['time', 'cell'], as_index=False).aligned_spks.mean().pivot(index = 'time', columns='cell')\n",
    "sortidx2 = allcells_Bino_mean.max().sort_values(ascending=False).index\n",
    "allcells_Bino_mean_sort = allcells_Bino_mean.reindex(sortidx2, axis = 1)\n",
    "\n",
    "\n",
    "\n",
    "\n",
    "\n",
    "# allcells_Ipsi_mean = dataframe.loc[dataframe.loc[:,'category'] == 'Ipsi'].groupby(['time', 'cell'], as_index=False).aligned_F.mean().pivot(index = 'time', columns='cell')\n",
    "# allcells_Ipsi_mean_zscored = allcells_Ipsi_mean.transform((lambda x : z_score(x)))\n",
    "# sortidx = allcells_Ipsi_mean_zscored.max().sort_values(ascending=False).index\n",
    "# allcells_Ipsi_mean_sort_zscored = allcells_Ipsi_mean_zscored.reindex(sortidx, axis = 1)\n",
    "\n",
    "# allcells_Contra_mean = dataframe.loc[dataframe.loc[:,'category'] == 'Contra'].groupby(['time', 'cell'], as_index=False).aligned_F.mean().pivot(index = 'time', columns='cell')\n",
    "# allcells_Contra_mean_zscored = allcells_Contra_mean.transform((lambda x : z_score(x)))\n",
    "# sortidx = allcells_Contra_mean_zscored.max().sort_values(ascending=False).index\n",
    "# allcells_Contra_mean_sort_zscored = allcells_Contra_mean_zscored.reindex(sortidx, axis = 1)\n",
    "\n",
    "# allcells_Bino_mean = dataframe.loc[dataframe.loc[:,'category'] == 'Bino'].groupby(['time', 'cell'], as_index=False).aligned_F.mean().pivot(index = 'time', columns='cell')\n",
    "# allcells_Bino_mean_zscored = allcells_Bino_mean.transform((lambda x : z_score(x)))\n",
    "# sortidx = allcells_Bino_mean_zscored.max().sort_values(ascending=False).index\n",
    "# allcells_Bino_mean_sort_zscored = allcells_Bino_mean_zscored.reindex(sortidx, axis = 1)\n",
    "\n",
    "\n",
    "# allcells_Ipsi_mean = dataframe.loc[dataframe.loc[:,'category'] == 'Ipsi'].groupby(['time', 'cell'], as_index=False).aligned_F.mean().pivot(index = 'time', columns='cell')\n",
    "# sortidx2 = allcells_Ipsi_mean.max().sort_values(ascending=False).index\n",
    "# allcells_Ipsi_mean_sort = allcells_Ipsi_mean.reindex(sortidx2, axis = 1)\n",
    "\n",
    "# allcells_Contra_mean = dataframe.loc[dataframe.loc[:,'category'] == 'Contra'].groupby(['time', 'cell'], as_index=False).aligned_F.mean().pivot(index = 'time', columns='cell')\n",
    "# sortidx2 = allcells_Contra_mean.max().sort_values(ascending=False).index\n",
    "# allcells_Contra_mean_sort = allcells_Contra_mean.reindex(sortidx2, axis = 1)\n",
    "\n",
    "# allcells_Bino_mean = dataframe.loc[dataframe.loc[:,'category'] == 'Bino'].groupby(['time', 'cell'], as_index=False).aligned_F.mean().pivot(index = 'time', columns='cell')\n",
    "# allcells_Bino_mean_zscored = allcells_Bino_mean.transform((lambda x : z_score(x)))\n",
    "# sortidx2 = allcells_Bino_mean.max().sort_values(ascending=False).index\n",
    "# allcells_Bino_mean_sort = allcells_Bino_mean.reindex(sortidx2, axis = 1)"
   ]
  },
  {
   "cell_type": "code",
   "execution_count": null,
   "metadata": {},
   "outputs": [],
   "source": [
    "# plot maps\n",
    "fig = plt.figure(figsize=(12,6))\n",
    "\n",
    "with sns.axes_style('white'):\n",
    "    plt.subplot(2,3,1)\n",
    "    plt.imshow(allcells_Ipsi_mean_sort_zscored.T, vmax = 3, vmin = -0.5, aspect = 'auto', cmap = 'Reds')\n",
    "    plt.xlabel('time')\n",
    "    plt.ylabel('bouton')\n",
    "    plt.title('Ipsi')\n",
    "    plt.vlines([prestim_frames, maxlength - poststim_frames],0,ncells-1, 'k')\n",
    "    \n",
    "    plt.subplot(2,3,2)\n",
    "    plt.imshow(allcells_Contra_mean_sort_zscored.T, vmax = 3, vmin = -0.5, aspect = 'auto', cmap = 'Blues')\n",
    "    plt.xlabel('time')\n",
    "    plt.title('Contra')\n",
    "    plt.vlines([prestim_frames, maxlength - poststim_frames],0,ncells-1, 'k')\n",
    "        \n",
    "    plt.subplot(2,3,3)\n",
    "    plt.imshow(allcells_Bino_mean_sort_zscored.T, vmax = 3, vmin = -0.5, aspect = 'auto', cmap = 'gray_r')\n",
    "    plt.xlabel('time [s]')\n",
    "    plt.colorbar(label='zscore')\n",
    "    plt.title('Bino')\n",
    "    plt.vlines([prestim_frames, maxlength - poststim_frames],0,ncells-1, 'k')\n",
    "    \n",
    "    plt.subplot(2,3,4)\n",
    "    plt.imshow(allcells_Ipsi_mean_sort.T, vmax = 4, vmin = -.5, aspect = 'auto', cmap = 'Reds')\n",
    "    plt.xlabel('time')\n",
    "    plt.ylabel('bouton')\n",
    "    plt.title('Ipsi')\n",
    "    plt.vlines([prestim_frames, maxlength - poststim_frames],0,ncells-1, 'k')\n",
    "    \n",
    "    plt.subplot(2,3,5)\n",
    "    plt.imshow(allcells_Contra_mean_sort.T, vmax = 4, vmin = -.5, aspect = 'auto', cmap = 'Blues')\n",
    "    plt.xlabel('time')\n",
    "    plt.title('Contra')\n",
    "    plt.vlines([prestim_frames, maxlength - poststim_frames],0,ncells-1, 'k')\n",
    "    \n",
    "    plt.subplot(2,3,6)\n",
    "    plt.imshow(allcells_Bino_mean_sort.T, vmax = 4, vmin = -.5, aspect = 'auto', cmap = 'gray_r')\n",
    "    plt.xlabel('time [s]')\n",
    "    plt.title('Bino')\n",
    "    plt.colorbar(label='deconvolved F [a.u.]')\n",
    "    plt.vlines([prestim_frames, maxlength - poststim_frames],0,ncells-1, 'k')\n",
    "    \n",
    "    \n",
    "    \n",
    "#     plt.subplot(2,3,4)\n",
    "#     plt.imshow(allcells_Ipsi_mean_sort.T, vmax = 150, vmin = 30, aspect = 'auto', cmap = 'Reds')\n",
    "#     plt.xlabel('time')\n",
    "#     plt.ylabel('bouton')\n",
    "#     plt.title('Ipsi')\n",
    "#     plt.vlines([prestim_frames, maxlength - poststim_frames],0,ncells-1, 'k')\n",
    "    \n",
    "#     plt.subplot(2,3,5)\n",
    "#     plt.imshow(allcells_Contra_mean_sort.T, vmax = 150, vmin = 30, aspect = 'auto', cmap = 'Blues')\n",
    "#     plt.xlabel('time')\n",
    "#     plt.title('Contra')\n",
    "#     plt.vlines([prestim_frames, maxlength - poststim_frames],0,ncells-1, 'k')\n",
    "    \n",
    "#     plt.subplot(2,3,6)\n",
    "#     plt.imshow(allcells_Bino_mean_sort.T, vmax = 150, vmin = 30, aspect = 'auto', cmap = 'gray_r')\n",
    "#     plt.xlabel('time [s]')\n",
    "#     plt.title('Bino')\n",
    "#     plt.colorbar(label='F')\n",
    "#     plt.vlines([prestim_frames, maxlength - poststim_frames],0,ncells-1, 'k')\n",
    "    \n",
    "    plt.tight_layout()\n",
    "    \n",
    "    plt.show()"
   ]
  },
  {
   "cell_type": "markdown",
   "metadata": {},
   "source": [
    "## Rastermap sortings"
   ]
  },
  {
   "cell_type": "code",
   "execution_count": 26,
   "metadata": {},
   "outputs": [],
   "source": [
    "# all cells\n",
    "sp_ipsi = allcells_Ipsi_mean_zscored.to_numpy()\n",
    "sp_contra = allcells_Contra_mean_zscored.to_numpy()\n",
    "sp_bino = allcells_Bino_mean_zscored.to_numpy()\n",
    "\n",
    "sp_all = np.concatenate((allcells_Contra_mean.to_numpy(), allcells_Ipsi_mean.to_numpy(), allcells_Bino_mean.to_numpy()), axis = 0)\n",
    "\n",
    "sp_ipsi[np.isnan(sp_ipsi)] = 0\n",
    "sp_contra[np.isnan(sp_contra)] = 0\n",
    "sp_bino[np.isnan(sp_bino)] = 0\n",
    "\n",
    "sp_all[np.isnan(sp_all)] = 0\n",
    "\n",
    "sp_all = zscore(sp_all) # needs to be done in numpy to be element-wise here - I collapsed the major categories. I dont think I can do that in pandas straight"
   ]
  },
  {
   "cell_type": "code",
   "execution_count": 27,
   "metadata": {},
   "outputs": [],
   "source": [
    "%%capture\n",
    "model_ipsi = rm.mapping.Rastermap(n_components=1).fit(sp_ipsi.T)\n",
    "model_contra = rm.mapping.Rastermap(n_components=1).fit(sp_contra.T)\n",
    "model_bino = rm.mapping.Rastermap(n_components=1).fit(sp_bino.T)\n",
    "model_all = rm.mapping.Rastermap(n_components=1).fit(sp_all.T)"
   ]
  },
  {
   "cell_type": "code",
   "execution_count": 28,
   "metadata": {},
   "outputs": [],
   "source": [
    "### sort neurons and smooth across neurons \n",
    "smooth = True\n",
    "if smooth:\n",
    "    isort = np.argsort(model_all.embedding[:,0])\n",
    "    \n",
    "    \n",
    "    Sm_ipsi = gaussian_filter1d(sp_ipsi.T[isort,:], np.minimum(3,int(sp_ipsi.shape[0]*0.005)), axis=0)\n",
    "    # isort = np.argsort(model_contra.embedding[:,0])\n",
    "    Sm_contra = gaussian_filter1d(sp_contra.T[isort,:], np.minimum(3,int(sp_contra.shape[0]*0.005)), axis=0)\n",
    "    # isort = np.argsort(model_bino.embedding[:,0])\n",
    "    Sm_bino = gaussian_filter1d(sp_bino.T[isort,:], np.minimum(3,int(sp_bino.shape[0]*0.005)), axis=0)\n",
    "    Sm_all  = gaussian_filter1d(sp_all.T[isort,:], np.minimum(3,int(sp_ipsi.shape[0]*0.005)), axis=0)\n",
    "#     Sm_all= sp_all.T[isort,:]\n",
    "else:\n",
    "    isort = np.argsort(model_bino.embedding[:,0])\n",
    "    Sm_ipsi = sp_ipsi.T[isort,:]\n",
    "    # isort = np.argsort(model_contra.embedding[:,0])\n",
    "    Sm_contra = sp_contra.T[isort,:]\n",
    "    # isort = np.argsort(model_bino.embedding[:,0])\n",
    "    Sm_bino = sp_bino.T[isort,:]\n",
    "# (optional) smooth in time\n",
    "# Sm = gaussian_filter1d(Sm, 1, axis=1)"
   ]
  },
  {
   "cell_type": "markdown",
   "metadata": {},
   "source": [
    "### auxdata and timebase "
   ]
  },
  {
   "cell_type": "code",
   "execution_count": 29,
   "metadata": {},
   "outputs": [
    {
     "data": {
      "application/vnd.jupyter.widget-view+json": {
       "model_id": "14a2ef8fda854d7c96bdc380d3678afe",
       "version_major": 2,
       "version_minor": 0
      },
      "text/plain": [
       "Canvas(toolbar=Toolbar(toolitems=[('Home', 'Reset original view', 'home', 'home'), ('Back', 'Back to previous …"
      ]
     },
     "metadata": {},
     "output_type": "display_data"
    },
    {
     "data": {
      "text/plain": [
       "[<matplotlib.lines.Line2D at 0x25c279fc588>]"
      ]
     },
     "execution_count": 29,
     "metadata": {},
     "output_type": "execute_result"
    }
   ],
   "source": [
    "slice_range = np.arange(ids['Ipsi'][0][1].astype(int)-prestim_frames.astype(int),ids['Ipsi'][1][1].astype(int)+poststim_frames.astype(int)+1)\n",
    "# slice_range = np.arange(ids[category][0][trial].astype(int)-prestim_frames.astype(int),ids[category][1][trial].astype(int)+poststim_frames.astype(int))\n",
    "\n",
    "aligned_stimdata = auxdata[ids['FrameTimes_level'][slice_range],stimops['Stims_chan']]\n",
    "# aligned_stimdata_concat = np.tile(auxdata[ids['FrameTimes_level'][slice_range],stimops['Stims_chan']], (0,3))\n",
    "aux_time = np.arange(0, aligned_stimdata.shape[0] * 1 / (framerate_auxderived / level), 1 / (framerate_auxderived / level) ) - prestim\n",
    "\n",
    "aligned_stimdata_full = auxdata[ids['FrameTimes_level'][slice_range[0]]:ids['FrameTimes_level'][slice_range[-1]],stimops['Stims_chan']]\n",
    "aligned_stimdata_full_concat = np.tile(auxdata[ids['FrameTimes_level'][slice_range[0]]:ids['FrameTimes_level'][slice_range[-1]],stimops['Stims_chan']], (1,3)).T\n",
    "\n",
    "aux_time_full = np.arange(0, aligned_stimdata_full.shape[0] * 1 / aux_samplingfreq , 1 / aux_samplingfreq   ) - prestim\n",
    "aux_time_full_concat = np.arange(0, aligned_stimdata_full_concat.shape[0] * 1 / aux_samplingfreq , 1 / aux_samplingfreq   ) - prestim\n",
    "\n",
    "plt.figure()\n",
    "# plt.plot(aux_time, aligned_stimdata)\n",
    "plt.plot(aux_time_full_concat, aligned_stimdata_full_concat)"
   ]
  },
  {
   "cell_type": "markdown",
   "metadata": {},
   "source": [
    "### seperately sorted"
   ]
  },
  {
   "cell_type": "code",
   "execution_count": 130,
   "metadata": {},
   "outputs": [
    {
     "name": "stderr",
     "output_type": "stream",
     "text": [
      "C:\\Miniconda3\\envs\\suite2p\\lib\\site-packages\\ipykernel_launcher.py:13: RuntimeWarning: More than 20 figures have been opened. Figures created through the pyplot interface (`matplotlib.pyplot.figure`) are retained until explicitly closed and may consume too much memory. (To control this warning, see the rcParam `figure.max_open_warning`).\n",
      "  del sys.path[0]\n"
     ]
    },
    {
     "data": {
      "application/vnd.jupyter.widget-view+json": {
       "model_id": "29d2085bd26c4d31957ffeaf3a8607b0",
       "version_major": 2,
       "version_minor": 0
      },
      "text/plain": [
       "Canvas(toolbar=Toolbar(toolitems=[('Home', 'Reset original view', 'home', 'home'), ('Back', 'Back to previous …"
      ]
     },
     "metadata": {},
     "output_type": "display_data"
    }
   ],
   "source": [
    "### view neuron sorting\n",
    "\n",
    "# aligned_stimdata = auxdata[ids['FrameTimes_level'][slice_range][0]:ids['FrameTimes_level'][slice_range][-1],stimops['Stims_chan']]\n",
    "# aux_time = np.arange(0, aligned_stimdata.shape[0] * 1 / aux_samplingfreq, 1 / aux_samplingfreq  ) - prestim\n",
    "\n",
    "fs = framerate_auxderived / level\n",
    "vmin_glob = -.5\n",
    "vmax_glob = 2.5\n",
    "\n",
    "with sns.axes_style('white'):\n",
    "    xl = [-prestim,Sm_contra.shape[1]/fs-prestim]\n",
    "    \n",
    "    fig8 = plt.figure(figsize=(16,6), constrained_layout=True)\n",
    "    gs1 = fig8.add_gridspec(nrows=8, ncols=3)\n",
    "    \n",
    "    fig8.add_subplot(gs1[1:, :-2])      \n",
    "    fig8_ax=plt.imshow(Sm_contra, vmin=vmin_glob,vmax=vmax_glob,aspect='auto',extent=[-prestim,Sm_contra.shape[1]/fs-prestim, 0,Sm_contra.shape[0]], cmap = 'Blues')\n",
    "    plt.xlabel('time (s)', fontsize=18)    \n",
    "    \n",
    "    plt.vlines([prestim_frames / fs-prestim, maxlength / fs - poststim_frames / fs -prestim ],0,ncells-1, 'k')\n",
    "    plt.ylabel('boutons', fontsize=18)     \n",
    "        \n",
    "    f8_ax2 = fig8.add_subplot(gs1[1:, 1:-1])\n",
    "    ax=plt.imshow(Sm_ipsi, vmin=vmin_glob,vmax=vmax_glob,aspect='auto',extent=[-prestim,Sm_ipsi.shape[1]/fs-prestim, 0,Sm_ipsi.shape[0]], cmap = 'Reds')\n",
    "    plt.xlabel('time (s)', fontsize=18)\n",
    "    \n",
    "    plt.vlines([prestim_frames / fs-prestim, maxlength / fs - poststim_frames / fs -prestim ],0,ncells-1, 'k')\n",
    "        \n",
    "    f8_ax3 = fig8.add_subplot(gs1[1:, 2:])\n",
    "    ax=plt.imshow(Sm_bino, vmin=vmin_glob,vmax=vmax_glob,aspect='auto',extent=[-prestim,Sm_bino.shape[1]/fs-prestim, 0,Sm_bino.shape[0]], cmap = 'gray_r')\n",
    "    plt.xlabel('time (s)', fontsize=18)\n",
    "    \n",
    "    plt.vlines([prestim_frames / fs-prestim, maxlength / fs - poststim_frames / fs -prestim],0,ncells-1, 'k')\n",
    "\n",
    "#    plt.colorbar(label='deconvolved F [a.u.]')\n",
    "   \n",
    "    f8_ax4 = fig8.add_subplot(gs1[:1, :-2])    \n",
    "    plt.plot(aux_time_full, aligned_stimdata_full, 'k')\n",
    "#     plt.vlines([prestim_frames / fs-prestim, maxlength / fs - poststim_frames / fs -prestim],0,4, 'k')\n",
    "    f8_ax4.set_xlim(*xl)\n",
    "    f8_ax4.axis('off')\n",
    "    plt.title('Contra')\n",
    "    \n",
    "    f8_ax5 = fig8.add_subplot(gs1[:1, 1:-1])\n",
    "    plt.plot(aux_time_full, aligned_stimdata_full, 'k')\n",
    "    f8_ax5.set_xlim(*xl)\n",
    "    f8_ax5.axis('off')\n",
    "    plt.title('Ipsi')\n",
    "\n",
    "    \n",
    "    f8_ax6 = fig8.add_subplot(gs1[:1, 2:])\n",
    "    plt.plot(aux_time_full, aligned_stimdata_full, 'k')\n",
    "    f8_ax6.set_xlim(*xl)\n",
    "    f8_ax6.axis('off')\n",
    "    plt.title('Bino')    \n",
    "    \n",
    "#     plt.tight_layout()           \n",
    "    plt.suptitle('z-scored deconvolved Chirp PSTHs - rastermap embedding (sorted on Bino, smoothened over boutons) - exp' + exp[0])\n",
    "    \n",
    "    plt.show()"
   ]
  },
  {
   "cell_type": "markdown",
   "metadata": {},
   "source": [
    "### concatenated figure"
   ]
  },
  {
   "cell_type": "code",
   "execution_count": 126,
   "metadata": {},
   "outputs": [
    {
     "name": "stderr",
     "output_type": "stream",
     "text": [
      "C:\\Miniconda3\\envs\\suite2p\\lib\\site-packages\\ipykernel_launcher.py:15: RuntimeWarning: More than 20 figures have been opened. Figures created through the pyplot interface (`matplotlib.pyplot.figure`) are retained until explicitly closed and may consume too much memory. (To control this warning, see the rcParam `figure.max_open_warning`).\n",
      "  from ipykernel import kernelapp as app\n"
     ]
    },
    {
     "data": {
      "application/vnd.jupyter.widget-view+json": {
       "model_id": "4d0cf65cfa5440bc952cecd7a052fb32",
       "version_major": 2,
       "version_minor": 0
      },
      "text/plain": [
       "Canvas(toolbar=Toolbar(toolitems=[('Home', 'Reset original view', 'home', 'home'), ('Back', 'Back to previous …"
      ]
     },
     "metadata": {},
     "output_type": "display_data"
    }
   ],
   "source": [
    "### view neuron sorting\n",
    "\n",
    "# aligned_stimdata = auxdata[ids['FrameTimes_level'][slice_range][0]:ids['FrameTimes_level'][slice_range][-1],stimops['Stims_chan']]\n",
    "# aux_time = np.arange(0, aligned_stimdata.shape[0] * 1 / aux_samplingfreq, 1 / aux_samplingfreq  ) - prestim\n",
    "\n",
    "fs = framerate_auxderived / level\n",
    "vmin_glob = -.5\n",
    "vmax_glob = 2.5\n",
    "\n",
    "fs = framerate_auxderived / level\n",
    "\n",
    "with sns.axes_style('white'):\n",
    "    xl = [-prestim,Sm_all.shape[1]/fs - prestim]\n",
    "    \n",
    "    fig9 = plt.figure(figsize=(20,12), constrained_layout=True)\n",
    "    \n",
    "    gs1 = fig9.add_gridspec(nrows=8, ncols=3)\n",
    "    \n",
    "    fig9.add_subplot(gs1[1:, :])      \n",
    "    fig9_ax=plt.imshow(Sm_all, vmin=vmin_glob,vmax=vmax_glob,aspect='auto',extent=[-prestim,Sm_all.shape[1]/fs-prestim, 0,Sm_all.shape[0]], cmap = 'gray_r')\n",
    "    plt.xlabel('time (s)', fontsize=18)    \n",
    "    \n",
    "#     plt.vlines([prestim_frames / fs-prestim, maxlength / fs - poststim_frames / fs -prestim ],0,ncells-1, 'k')\n",
    "    plt.ylabel('boutons', fontsize=18)     \n",
    "    \n",
    "    plt.vlines([aux_time_full[-1],  +aux_time_full[-1] *2 + poststim],0,ncells-1, 'r')\n",
    "    plt.vlines([prestim_frames / fs-prestim, maxlength / fs - poststim_frames / fs -prestim],0,ncells-1, 'b')\n",
    "    \n",
    "    plt.vlines([aux_time_full[-1] + (prestim_frames / fs),  aux_time_full[-1] + (maxlength / fs - poststim_frames / fs ) ],0,ncells-1, 'b')\n",
    "    plt.vlines([2 * aux_time_full[-1] + (prestim_frames / fs) + prestim,  2 * aux_time_full[-1] + (maxlength / fs - poststim_frames / fs ) + prestim],0,ncells-1, 'b')\n",
    "#     plt.plot(aux_time_full_concat, aligned_stimdata_full_concat, 'k')\n",
    "    \n",
    "#     plt.colorbar(label='deconvolved F [zscored]')\n",
    "#    plt.colorbar(label='deconvolved F [a.u.]')\n",
    "   \n",
    "    f9_ax4 = fig9.add_subplot(gs1[:1, :])    \n",
    "    plt.plot(aux_time_full_concat, aligned_stimdata_full_concat, 'k')\n",
    "#     plt.vlines([prestim_frames / fs-prestim, maxlength / fs - poststim_frames / fs -prestim],0,4, 'k')\n",
    "    f9_ax4.set_xlim(*xl)\n",
    "    f9_ax4.axis('off')\n",
    "#     plt.title('Contra                                    Ipsi                                    Bino')\n",
    "    plt.text(aux_time_full[-1] / 2 - 2, 5 , 'Contra', fontsize=16)\n",
    "    plt.text(aux_time_full[-1] * 1.5-2, 5 , 'Ipsi', fontsize=16)\n",
    "    plt.text(aux_time_full[-1] * 2.5-2, 5 , 'Bino', fontsize=16)\n",
    "    \n",
    "   \n",
    "    \n",
    "#     plt.tight_layout()           \n",
    "    plt.suptitle('z-scored deconvolved F - Chirp PSTHs - rastermap embedding (smoothened over boutons) - exp' + exp[0])\n",
    "    \n",
    "    plt.show()"
   ]
  },
  {
   "cell_type": "markdown",
   "metadata": {},
   "source": [
    "# NMF on PSTHs"
   ]
  },
  {
   "cell_type": "code",
   "execution_count": 139,
   "metadata": {},
   "outputs": [],
   "source": [
    "nmf = NMF(n_components=6, solver=\"mu\")\n",
    "\n",
    "sp_all[sp_all < 0] = 0\n",
    "sp_contra[sp_contra < 0] = 0\n",
    "\n",
    "W = nmf.fit_transform(sp_contra.T)\n",
    " \n",
    "H = nmf.components_"
   ]
  },
  {
   "cell_type": "code",
   "execution_count": 89,
   "metadata": {},
   "outputs": [],
   "source": [
    "comp_df_H = pd.DataFrame(H.T, columns=['comp1','comp2','comp3','comp4','comp5'])"
   ]
  },
  {
   "cell_type": "code",
   "execution_count": 137,
   "metadata": {},
   "outputs": [
    {
     "data": {
      "text/plain": [
       "array([[4.33900714e-01, 5.09267209e-01, 2.81470351e-01, ...,\n",
       "        9.51526165e-02, 8.09387840e-02, 2.17149419e-02],\n",
       "       [0.00000000e+00, 0.00000000e+00, 1.49837559e-01, ...,\n",
       "        2.75389473e-02, 2.29323072e-01, 2.62059479e-03],\n",
       "       [1.48121907e-01, 9.61150413e-02, 0.00000000e+00, ...,\n",
       "        1.08994136e+00, 4.25127806e-01, 0.00000000e+00],\n",
       "       [0.00000000e+00, 0.00000000e+00, 0.00000000e+00, ...,\n",
       "        4.58766197e-01, 2.44759107e-01, 8.65663687e+00],\n",
       "       [3.52098551e-01, 1.87589184e-01, 3.32075663e-01, ...,\n",
       "        0.00000000e+00, 2.77387617e-02, 9.19176164e-04],\n",
       "       [0.00000000e+00, 0.00000000e+00, 0.00000000e+00, ...,\n",
       "        2.36265261e-01, 3.39467438e-01, 0.00000000e+00]])"
      ]
     },
     "execution_count": 137,
     "metadata": {},
     "output_type": "execute_result"
    }
   ],
   "source": [
    "H"
   ]
  },
  {
   "cell_type": "code",
   "execution_count": 140,
   "metadata": {},
   "outputs": [
    {
     "name": "stderr",
     "output_type": "stream",
     "text": [
      "C:\\Miniconda3\\envs\\suite2p\\lib\\site-packages\\ipykernel_launcher.py:1: RuntimeWarning: More than 20 figures have been opened. Figures created through the pyplot interface (`matplotlib.pyplot.figure`) are retained until explicitly closed and may consume too much memory. (To control this warning, see the rcParam `figure.max_open_warning`).\n",
      "  \"\"\"Entry point for launching an IPython kernel.\n"
     ]
    },
    {
     "data": {
      "application/vnd.jupyter.widget-view+json": {
       "model_id": "5769e771cd904dd8a3ac98e9cacfb737",
       "version_major": 2,
       "version_minor": 0
      },
      "text/plain": [
       "Canvas(toolbar=Toolbar(toolitems=[('Home', 'Reset original view', 'home', 'home'), ('Back', 'Back to previous …"
      ]
     },
     "metadata": {},
     "output_type": "display_data"
    }
   ],
   "source": [
    "fig, axs = plt.subplots(2,3, figsize=(15, 6), facecolor='w', edgecolor='k')\n",
    "# fig.subplots_adjust(hspace = .5, wspace=.001)\n",
    "\n",
    "k = 0\n",
    "\n",
    "for ax, d in zip(axs.ravel(), H):\n",
    "    k += 1\n",
    "    ax.plot(time, d)\n",
    "    ax.set_title('component' + str(k))\n",
    "    ax.vlines([prestim_frames / fs-prestim, maxlength / fs - poststim_frames / fs -prestim],0,4, 'k')\n",
    "# plt.figure() \n",
    "# for x in \n",
    "# sns.heatmap(data = comp_df_H.T)\n",
    "plt.show()"
   ]
  },
  {
   "cell_type": "markdown",
   "metadata": {},
   "source": [
    "### Rastermap embedding exploration"
   ]
  },
  {
   "cell_type": "code",
   "execution_count": null,
   "metadata": {},
   "outputs": [],
   "source": [
    "# model = rm.mapping.Rastermap(n_components=2, n_X=40,  nPC=400, init='pca')\n",
    "embedding = model_contra.fit_transform(sp_contra.T)"
   ]
  },
  {
   "cell_type": "code",
   "execution_count": null,
   "metadata": {},
   "outputs": [],
   "source": [
    "np.round(embedding*40)/4"
   ]
  },
  {
   "cell_type": "code",
   "execution_count": null,
   "metadata": {},
   "outputs": [],
   "source": [
    "embedding[isort]\n"
   ]
  },
  {
   "cell_type": "code",
   "execution_count": null,
   "metadata": {},
   "outputs": [],
   "source": [
    "S = sp_contra.T\n",
    "\n",
    "NN, NT = S.shape \n",
    "\n",
    "# reshape and sum S across neurons to get \"components\"\n",
    "nc = 100\n",
    "NC = int(np.floor(NN / nc))\n",
    "Sp = np.reshape(S[isort][:nc*NC], (NC, nc, NT))\n",
    "Sp = Sp.mean(axis=1)"
   ]
  },
  {
   "cell_type": "code",
   "execution_count": null,
   "metadata": {},
   "outputs": [],
   "source": [
    "Sp = np.reshape(S[isort][:nc*NC], (NC, nc, NT))\n",
    "\n"
   ]
  },
  {
   "cell_type": "code",
   "execution_count": null,
   "metadata": {},
   "outputs": [],
   "source": [
    "S[isort][:nc*NC].shape"
   ]
  },
  {
   "cell_type": "code",
   "execution_count": null,
   "metadata": {},
   "outputs": [],
   "source": [
    "# plot results here\n",
    "cmap = plt.get_cmap('gist_ncar')\n",
    "cmap = cmap(np.linspace(0,.97,32))\n",
    "cmap = cmap[np.random.permutation(32),:]\n",
    "plt.figure(figsize=(6,6))\n",
    "# each point is colored based on stimulus identity\n",
    "istim = np.ones(len(sp_ipsi.T), dtype = 'int')\n",
    "plt.scatter(out2[:,0],out2[:,1],color=cmap[istim,:],marker='x')\n",
    "plt.show()"
   ]
  },
  {
   "cell_type": "code",
   "execution_count": null,
   "metadata": {},
   "outputs": [],
   "source": [
    "cmap[istim,:]\n"
   ]
  },
  {
   "cell_type": "code",
   "execution_count": null,
   "metadata": {},
   "outputs": [],
   "source": [
    "plt.figure()\n",
    "plt.plot(melted_aux[[:,0]], melted_aux[[0,1]])"
   ]
  },
  {
   "cell_type": "code",
   "execution_count": null,
   "metadata": {},
   "outputs": [],
   "source": [
    "melted_aux.shape"
   ]
  },
  {
   "cell_type": "markdown",
   "metadata": {},
   "source": [
    "### Panda convert to long form"
   ]
  },
  {
   "cell_type": "code",
   "execution_count": null,
   "metadata": {},
   "outputs": [],
   "source": [
    "melted = dataframe.melt(id_vars=['category', 'time', 'trial', 'cell'], value_vars=['aligned_F'])"
   ]
  },
  {
   "cell_type": "code",
   "execution_count": null,
   "metadata": {},
   "outputs": [],
   "source": [
    "melted_aux"
   ]
  },
  {
   "cell_type": "code",
   "execution_count": null,
   "metadata": {},
   "outputs": [],
   "source": [
    "### generating trial numpy array from single cell and condition\n",
    "\n",
    "arr = melted.loc[(melted.loc[:,'trial'] < 8) & (melted.loc[:,'cell'] == 1) & (melted.loc[:,'category'] == 'Bino'),'value'].to_numpy()\n",
    "arr = arr.reshape(8,maxlength)\n"
   ]
  },
  {
   "cell_type": "markdown",
   "metadata": {},
   "source": [
    "### Panda slicing examples"
   ]
  },
  {
   "cell_type": "code",
   "execution_count": null,
   "metadata": {},
   "outputs": [],
   "source": [
    "### plot single cell including individual trials and means - seaborn and other\n",
    "\n",
    "# generating trial dataframe from single cell and condtion - SINGLE TRIAL\n",
    "subselected_orig = melted.loc[(melted.loc[:,'trial'] == 1) & (melted.loc[:,'cell'] == 1) & (melted.loc[:,'category'] == 'Contra'),['time', 'value', 'trial']]\n",
    "\n",
    "# generating trial dataframe from single cell and condtion - ALL TRIALS\n",
    "subselected_orig = melted.loc[(melted.loc[:,'cell'] == 1) & (melted.loc[:,'category'] == 'Contra'),['time', 'value', 'trial']]\n",
    "\n",
    "# reshape ('pivot') to index over time and have single trial columns\n",
    "subselected = subselected_orig.pivot(index = 'time', columns='trial', values='value')\n",
    "\n",
    "# reshape ('pivot') to index over time and have single trial columns - zscore on the fly\n",
    "# subselected = subselected_orig.pivot(index = 'time', columns='trial', values='value').transform((lambda x : zscore(x)))\n",
    "\n",
    "subselected = (subselected - subselected.mean())/subselected.std(ddof=0)\n",
    "\n",
    "# generate mean from that\n",
    "\n",
    "subselected_mean = subselected.mean(axis = 1)\n",
    "\n",
    "# plot seaborn original frame and pivoted mean and trials next to eachother\n",
    "fig = plt.figure()\n",
    "plt.subplot(1,3,1)\n",
    "sns.lineplot(x = 'time', y = 'value', data = subselected, ci = 'sd')\n",
    "plt.subplot(1,3,2)\n",
    "plt.plot(subselected, 'k')\n",
    "plt.plot(subselected_mean, 'r')\n",
    "plt.subplot(1,3,3)\n",
    "# sns.heatmap(subselected, cmap = 'cubehelix')\n",
    "plt.imshow(subselected.T, aspect = 'auto',  cmap = 'cubehelix')"
   ]
  },
  {
   "cell_type": "code",
   "execution_count": null,
   "metadata": {},
   "outputs": [],
   "source": [
    "subselected = subselected_orig.pivot(index = 'time', columns='trial', values='value')\n",
    "subselected = (subselected - subselected.mean())/subselected.std(ddof=0)"
   ]
  },
  {
   "cell_type": "code",
   "execution_count": null,
   "metadata": {},
   "outputs": [],
   "source": [
    "\n"
   ]
  },
  {
   "cell_type": "code",
   "execution_count": null,
   "metadata": {},
   "outputs": [],
   "source": [
    "### plot all trials of a single cell concatenated\n",
    "\n",
    "fig = plt.figure()\n",
    "melted.loc[(melted.loc[:,'cell'] == 1) & (melted.loc[:,'category'] == 'Contra'),'value'].plot()"
   ]
  },
  {
   "cell_type": "code",
   "execution_count": null,
   "metadata": {},
   "outputs": [],
   "source": [
    "fig = plt.figure()\n",
    "sns.set()\n",
    "with sns.axes_style('white'):\n",
    "#     plt.imshow(arr, aspect = 'auto',  cmap = 'cubehelix')\n",
    "    sns.heatmap(subselected_orig, cmap = 'cubehelix')\n",
    "    plt.show()"
   ]
  },
  {
   "cell_type": "code",
   "execution_count": null,
   "metadata": {},
   "outputs": [],
   "source": [
    "### plot individual cells as line plots and group by condition\n",
    "\n",
    "g = sns.FacetGrid(melted, col='category', hue='category', row='cell', sharey='row', margin_titles=True)\n",
    "g.map(sns.lineplot, 'time', 'value', ci='sd')"
   ]
  },
  {
   "cell_type": "code",
   "execution_count": null,
   "metadata": {},
   "outputs": [],
   "source": [
    "# plt.clf()\n",
    "g = sns.relplot(x=\"time\", y=\"value\",\n",
    "                 col=\"category\", row = 'cell', hue=\"category\", style=\"category\",\n",
    "                 kind=\"line\", data=melted, estimator=None, facet_kws={'sharey': True, 'sharex': True})"
   ]
  },
  {
   "cell_type": "markdown",
   "metadata": {},
   "source": [
    "### arrays and classic plotting"
   ]
  },
  {
   "cell_type": "code",
   "execution_count": null,
   "metadata": {},
   "outputs": [],
   "source": []
  },
  {
   "cell_type": "markdown",
   "metadata": {},
   "source": [
    "### plot examples"
   ]
  },
  {
   "cell_type": "code",
   "execution_count": null,
   "metadata": {},
   "outputs": [],
   "source": [
    "# show cells\n",
    "im = np.zeros((ops['Ly'], ops['Lx']))\n",
    "ncells = len(stat)\n",
    "\n",
    "for n in range(0,ncells):\n",
    "    ypix = stat[n]['ypix'][~stat[n]['overlap']]\n",
    "    xpix = stat[n]['xpix'][~stat[n]['overlap']]\n",
    "    im[ypix,xpix] = n+1\n",
    "fig = plt.figure(figsize=(7,4))\n",
    "plt.imshow(im)\n",
    "plt.tight_layout()\n",
    "plt.show()"
   ]
  },
  {
   "cell_type": "code",
   "execution_count": null,
   "metadata": {},
   "outputs": [],
   "source": [
    "ops['tau'] = .7"
   ]
  },
  {
   "cell_type": "code",
   "execution_count": null,
   "metadata": {},
   "outputs": [],
   "source": [
    "# show mean image\n",
    "fig = plt.figure(figsize=(8,3))\n",
    "plt.subplot(1,3,1)\n",
    "plt.imshow(ops[\"meanImg\"])\n",
    "plt.subplot(1,3,2)\n",
    "plt.imshow(ops[\"meanImgE\"])\n",
    "plt.subplot(1,3,3)\n",
    "plt.imshow(ops[\"Vcorr\"])\n",
    "plt.show"
   ]
  },
  {
   "cell_type": "code",
   "execution_count": null,
   "metadata": {},
   "outputs": [],
   "source": [
    "ops['tau'] = 0.5\n",
    "bouton = 11;"
   ]
  },
  {
   "cell_type": "code",
   "execution_count": null,
   "metadata": {},
   "outputs": [],
   "source": [
    "efilt = np.exp(- np.linspace(0,50,200) / (ops['tau'] * ops['fs']))\n",
    "#efilt /= efilt.sum()\n",
    "sout = convolve(spks[bouton,:], efilt)\n",
    "sout = sout[:spks.shape[1]]"
   ]
  },
  {
   "cell_type": "code",
   "execution_count": null,
   "metadata": {},
   "outputs": [],
   "source": [
    "fig = plt.figure(figsize=(16,4))\n",
    "plt.plot(F[bouton]-Fneu[bouton] * .7)\n",
    "plt.show"
   ]
  },
  {
   "cell_type": "code",
   "execution_count": null,
   "metadata": {},
   "outputs": [],
   "source": [
    "plt.plot(sout)\n",
    "plt.tight_layout()\n",
    "plt.show\n",
    "#plt.plot(F[10:])"
   ]
  },
  {
   "cell_type": "code",
   "execution_count": null,
   "metadata": {},
   "outputs": [],
   "source": [
    "plt.plot(spks[11])\n",
    "plt.show"
   ]
  },
  {
   "cell_type": "code",
   "execution_count": null,
   "metadata": {},
   "outputs": [],
   "source": [
    "plt.figure(figsize=(7,4))\n",
    "plt.imshow(spks[:100, :5000], vmax = 3, vmin = -0.5, aspect='auto', cmap = 'gray_r')\n",
    "plt.title('sample of the neural data matrix')\n",
    "plt.ylabel('boutons') \n",
    "plt.xlabel('time [samples]')"
   ]
  },
  {
   "cell_type": "code",
   "execution_count": null,
   "metadata": {},
   "outputs": [],
   "source": [
    "ops"
   ]
  },
  {
   "cell_type": "markdown",
   "metadata": {},
   "source": [
    "# ToDo"
   ]
  },
  {
   "cell_type": "markdown",
   "metadata": {},
   "source": [
    "- batch run different deconvolution settings using this code snippet"
   ]
  },
  {
   "cell_type": "code",
   "execution_count": null,
   "metadata": {},
   "outputs": [],
   "source": [
    "# compute deconvolution\n",
    "from suite2p import dcnv\n",
    "import numpy as np\n",
    "\n",
    "tau = 1.0 # timescale of indicator\n",
    "fs = 30.0 # sampling rate in Hz\n",
    "neucoeff = 0.7 # neuropil coefficient\n",
    "# for computing and subtracting baseline\n",
    "baseline = 'maximin' # take the running max of the running min after smoothing with gaussian\n",
    "sig_baseline = 10.0 # in bins, standard deviation of gaussian with which to smooth\n",
    "win_baseline = 60.0 # in seconds, window in which to compute max/min filters\n",
    "\n",
    "ops = {'tau': tau, 'fs': fs, 'neucoeff': neucoeff,\n",
    "       'baseline': baseline, 'sig_baseline': sig_baseline, 'win_baseline': win_baseline}\n",
    "\n",
    "# load traces and subtract neuropil\n",
    "F = np.load('F.npy')\n",
    "Fneu = np.load('Fneu.npy')\n",
    "Fc = F - ops['neucoeff'] * Fneu\n",
    "\n",
    "# baseline operation\n",
    "Fc = dcnv.preprocess(Fc, ops)\n",
    "\n",
    "# get spikes\n",
    "spks = dcnv.oasis(Fc, ops)"
   ]
  }
 ],
 "metadata": {
  "kernelspec": {
   "display_name": "Python 3",
   "language": "python",
   "name": "python3"
  },
  "language_info": {
   "codemirror_mode": {
    "name": "ipython",
    "version": 3
   },
   "file_extension": ".py",
   "mimetype": "text/x-python",
   "name": "python",
   "nbconvert_exporter": "python",
   "pygments_lexer": "ipython3",
   "version": "3.7.6"
  }
 },
 "nbformat": 4,
 "nbformat_minor": 4
}
