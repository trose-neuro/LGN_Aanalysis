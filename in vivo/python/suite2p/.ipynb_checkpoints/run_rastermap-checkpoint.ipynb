{
 "cells": [
  {
   "cell_type": "code",
   "execution_count": null,
   "metadata": {},
   "outputs": [],
   "source": [
    "from scipy.stats import zscore\n",
    "from scipy.ndimage import gaussian_filter1d\n",
    "import numpy as np\n",
    "import matplotlib.pyplot as plt\n",
    "from matplotlib import cm\n",
    "from scipy.stats import zscore\n",
    "import os\n",
    "%matplotlib inline\n",
    "\n",
    "# download 2-photon data (if not already downloaded)\n",
    "if not os.path.isfile('data/mesoscope_activity.npy'):\n",
    "    if not os.path.exists('data'):\n",
    "        os.mkdir('data')\n",
    "    response = urllib.request.urlopen('http://www.gatsby.ucl.ac.uk/~cstringer/mesoscope_activity.npy');\n",
    "    f=open('data/mesoscope_activity.npy','wb')\n",
    "    f.write(response.read())\n",
    "    f.close()\n",
    "\n",
    "# load downloaded data\n",
    "dat = np.load('data/mesoscope_activity.npy')\n",
    "dat = dat.item()\n",
    "sp  = dat['spks']\n",
    "sp  = zscore(sp, axis=1)\n",
    "xyloc = dat['xyloc']"
   ]
  },
  {
   "cell_type": "code",
   "execution_count": null,
   "metadata": {},
   "outputs": [],
   "source": [
    "# rastermap algorithm\n",
    "import sys\n",
    "sys.path.append('D:/Github/rastermap/rastermap')\n",
    "import mapping, imp\n",
    "imp.reload(mapping)\n",
    "\n",
    "model = mapping.Rastermap(n_components=1, n_Y=100).fit(sp)"
   ]
  },
  {
   "cell_type": "code",
   "execution_count": null,
   "metadata": {},
   "outputs": [],
   "source": [
    "### sort neurons and smooth across neurons and zscore in time\n",
    "isort = np.argsort(model.embedding[:,0])\n",
    "Sm = gaussian_filter1d(sp[isort,:].T, np.minimum(3,int(sp.shape[0]*0.005)), axis=1)\n",
    "Sm = Sm.T\n",
    "\n",
    "# (optional) smooth in time\n",
    "#Sm = gaussian_filter1d(Sm, 1, axis=1)\n"
   ]
  },
  {
   "cell_type": "code",
   "execution_count": null,
   "metadata": {},
   "outputs": [],
   "source": [
    "### view neuron sorting\n",
    "fs = 2.5 # sampling rate of data in Hz\n",
    "splot = Sm[::-1,1500:1800]\n",
    "plt.figure(figsize=(16,10))\n",
    "ax=plt.imshow(splot, vmin=0,vmax=1.5,aspect='auto',extent=[0,splot.shape[1]/fs, 0,splot.shape[0]])\n",
    "plt.xlabel('time (s)', fontsize=18)\n",
    "plt.ylabel('neurons', fontsize=18)\n",
    "plt.show()"
   ]
  },
  {
   "cell_type": "code",
   "execution_count": null,
   "metadata": {},
   "outputs": [],
   "source": [
    "### view neuron sorting\n",
    "fs = 2.5 # sampling rate of data in Hz\n",
    "splot = Sm[::-1,model.isort2]\n",
    "plt.figure(figsize=(16,10))\n",
    "ax=plt.imshow(splot, vmin=0,vmax=1.5,aspect='auto',extent=[0,splot.shape[1]/fs, 0,splot.shape[0]])\n",
    "plt.xlabel('time (s)', fontsize=18)\n",
    "plt.ylabel('neurons', fontsize=18)\n",
    "plt.show()"
   ]
  },
  {
   "cell_type": "code",
   "execution_count": null,
   "metadata": {},
   "outputs": [],
   "source": [
    "### view positions of cells colored by rastermap\n",
    "\n",
    "# colormap\n",
    "cmap = cm.get_cmap('hsv')\n",
    "cmap = cmap(np.linspace(0.,1,sp.shape[0]))\n",
    "\n",
    "plt.figure(figsize=(8,8))\n",
    "# assign color based on embedding\n",
    "plt.scatter(xyloc[:,0], xyloc[:,1], s=4, color=cmap[isort,:])\n",
    "plt.xlabel('x location (um)')\n",
    "plt.ylabel('y location (um)');\n",
    "plt.show()"
   ]
  }
 ],
 "metadata": {
  "kernelspec": {
   "display_name": "Python 3",
   "language": "python",
   "name": "python3"
  },
  "language_info": {
   "codemirror_mode": {
    "name": "ipython",
    "version": 3
   },
   "file_extension": ".py",
   "mimetype": "text/x-python",
   "name": "python",
   "nbconvert_exporter": "python",
   "pygments_lexer": "ipython3",
   "version": "3.7.0"
  }
 },
 "nbformat": 4,
 "nbformat_minor": 2
}
