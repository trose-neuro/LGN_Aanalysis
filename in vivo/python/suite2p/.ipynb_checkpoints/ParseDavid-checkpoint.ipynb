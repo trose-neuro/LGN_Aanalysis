{
 "cells": [
  {
   "cell_type": "code",
   "execution_count": 78,
   "metadata": {},
   "outputs": [],
   "source": [
    "import numpy as np\n",
    "import pandas as pd\n",
    "import matplotlib.pyplot as plt\n",
    "%matplotlib widget\n"
   ]
  },
  {
   "cell_type": "code",
   "execution_count": 79,
   "metadata": {},
   "outputs": [],
   "source": [
    "xlpath = '/Users/trose/Data/temp/LGNexperiments.xlsx' #fast disk (local ssd for s2p binary files)"
   ]
  },
  {
   "cell_type": "code",
   "execution_count": 80,
   "metadata": {},
   "outputs": [
    {
     "name": "stdout",
     "output_type": "stream",
     "text": [
      "Column headings:\n",
      "Index(['experiment', 'folder', 'matching group', 'comments', 'experiment type',\n",
      "       'L1-L4 group', 'comment'],\n",
      "      dtype='object')\n"
     ]
    }
   ],
   "source": [
    "df = pd.read_excel(xlpath, index_col=0)\n",
    "\n",
    "print(\"Column headings:\")\n",
    "print(df.columns)"
   ]
  },
  {
   "cell_type": "code",
   "execution_count": 81,
   "metadata": {},
   "outputs": [
    {
     "data": {
      "text/html": [
       "<div>\n",
       "<style scoped>\n",
       "    .dataframe tbody tr th:only-of-type {\n",
       "        vertical-align: middle;\n",
       "    }\n",
       "\n",
       "    .dataframe tbody tr th {\n",
       "        vertical-align: top;\n",
       "    }\n",
       "\n",
       "    .dataframe thead th {\n",
       "        text-align: right;\n",
       "    }\n",
       "</style>\n",
       "<table border=\"1\" class=\"dataframe\">\n",
       "  <thead>\n",
       "    <tr style=\"text-align: right;\">\n",
       "      <th></th>\n",
       "      <th>experiment</th>\n",
       "      <th>folder</th>\n",
       "      <th>matching group</th>\n",
       "      <th>comments</th>\n",
       "      <th>experiment type</th>\n",
       "      <th>L1-L4 group</th>\n",
       "      <th>comment</th>\n",
       "    </tr>\n",
       "    <tr>\n",
       "      <th>mouse</th>\n",
       "      <th></th>\n",
       "      <th></th>\n",
       "      <th></th>\n",
       "      <th></th>\n",
       "      <th></th>\n",
       "      <th></th>\n",
       "      <th></th>\n",
       "    </tr>\n",
       "  </thead>\n",
       "  <tbody>\n",
       "    <tr>\n",
       "      <th>DL_191024_6</th>\n",
       "      <td>62282</td>\n",
       "      <td>I:\\David Laubender\\Data\\imaging data\\DL_191024...</td>\n",
       "      <td>1</td>\n",
       "      <td>L4, negative degrees</td>\n",
       "      <td>RF</td>\n",
       "      <td>1</td>\n",
       "      <td>NaN</td>\n",
       "    </tr>\n",
       "    <tr>\n",
       "      <th>DL_191024_6</th>\n",
       "      <td>62283</td>\n",
       "      <td>I:\\David Laubender\\Data\\imaging data\\DL_191024...</td>\n",
       "      <td>1</td>\n",
       "      <td>L4, negative degrees</td>\n",
       "      <td>grating</td>\n",
       "      <td>1</td>\n",
       "      <td>NaN</td>\n",
       "    </tr>\n",
       "    <tr>\n",
       "      <th>DL_191024_6</th>\n",
       "      <td>62284</td>\n",
       "      <td>I:\\David Laubender\\Data\\imaging data\\DL_191024...</td>\n",
       "      <td>1</td>\n",
       "      <td>L4, negative degrees</td>\n",
       "      <td>euler</td>\n",
       "      <td>1</td>\n",
       "      <td>NaN</td>\n",
       "    </tr>\n",
       "    <tr>\n",
       "      <th>DL_191024_6</th>\n",
       "      <td>62285</td>\n",
       "      <td>I:\\David Laubender\\Data\\imaging data\\DL_191024...</td>\n",
       "      <td>2</td>\n",
       "      <td>L1, negative degrees</td>\n",
       "      <td>RF</td>\n",
       "      <td>1</td>\n",
       "      <td>NaN</td>\n",
       "    </tr>\n",
       "    <tr>\n",
       "      <th>DL_191024_6</th>\n",
       "      <td>62286</td>\n",
       "      <td>I:\\David Laubender\\Data\\imaging data\\DL_191024...</td>\n",
       "      <td>2</td>\n",
       "      <td>L1, negative degrees</td>\n",
       "      <td>grating</td>\n",
       "      <td>1</td>\n",
       "      <td>NaN</td>\n",
       "    </tr>\n",
       "  </tbody>\n",
       "</table>\n",
       "</div>"
      ],
      "text/plain": [
       "             experiment                                             folder  \\\n",
       "mouse                                                                        \n",
       "DL_191024_6       62282  I:\\David Laubender\\Data\\imaging data\\DL_191024...   \n",
       "DL_191024_6       62283  I:\\David Laubender\\Data\\imaging data\\DL_191024...   \n",
       "DL_191024_6       62284  I:\\David Laubender\\Data\\imaging data\\DL_191024...   \n",
       "DL_191024_6       62285  I:\\David Laubender\\Data\\imaging data\\DL_191024...   \n",
       "DL_191024_6       62286  I:\\David Laubender\\Data\\imaging data\\DL_191024...   \n",
       "\n",
       "             matching group              comments experiment type  \\\n",
       "mouse                                                               \n",
       "DL_191024_6               1  L4, negative degrees              RF   \n",
       "DL_191024_6               1  L4, negative degrees         grating   \n",
       "DL_191024_6               1  L4, negative degrees           euler   \n",
       "DL_191024_6               2  L1, negative degrees              RF   \n",
       "DL_191024_6               2  L1, negative degrees         grating   \n",
       "\n",
       "             L1-L4 group comment  \n",
       "mouse                             \n",
       "DL_191024_6            1     NaN  \n",
       "DL_191024_6            1     NaN  \n",
       "DL_191024_6            1     NaN  \n",
       "DL_191024_6            1     NaN  \n",
       "DL_191024_6            1     NaN  "
      ]
     },
     "execution_count": 81,
     "metadata": {},
     "output_type": "execute_result"
    }
   ],
   "source": [
    "df.head()"
   ]
  },
  {
   "cell_type": "code",
   "execution_count": 82,
   "metadata": {},
   "outputs": [],
   "source": [
    "df[['Layer', 'Elevation']] = df.comments.str.rsplit(',', expand = True)"
   ]
  },
  {
   "cell_type": "code",
   "execution_count": 83,
   "metadata": {},
   "outputs": [],
   "source": [
    "df = df.drop(['comments'], axis=1)"
   ]
  },
  {
   "cell_type": "code",
   "execution_count": null,
   "metadata": {},
   "outputs": [],
   "source": []
  }
 ],
 "metadata": {
  "kernelspec": {
   "display_name": "Python 3",
   "language": "python",
   "name": "python3"
  },
  "language_info": {
   "codemirror_mode": {
    "name": "ipython",
    "version": 3
   },
   "file_extension": ".py",
   "mimetype": "text/x-python",
   "name": "python",
   "nbconvert_exporter": "python",
   "pygments_lexer": "ipython3",
   "version": "3.7.5"
  }
 },
 "nbformat": 4,
 "nbformat_minor": 4
}
