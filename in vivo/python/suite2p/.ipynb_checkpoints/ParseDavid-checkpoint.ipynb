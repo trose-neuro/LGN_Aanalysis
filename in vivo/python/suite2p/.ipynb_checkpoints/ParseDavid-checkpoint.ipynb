{
 "cells": [
  {
   "cell_type": "code",
   "execution_count": null,
   "metadata": {},
   "outputs": [],
   "source": [
    "import numpy as np\n",
    "import pandas as pd\n",
    "import matplotlib.pyplot as plt\n",
    "%matplotlib widget"
   ]
  },
  {
   "cell_type": "code",
   "execution_count": null,
   "metadata": {},
   "outputs": [],
   "source": [
    "xlpath = '/Users/trose/Data/temp/LGNexperiments.xlsx' #fast disk (local ssd for s2p binary files)"
   ]
  },
  {
   "cell_type": "markdown",
   "metadata": {},
   "source": [
    "### read excel file into panda dataframe"
   ]
  },
  {
   "cell_type": "code",
   "execution_count": null,
   "metadata": {},
   "outputs": [],
   "source": [
    "df = pd.read_excel(xlpath, index_col=0)"
   ]
  },
  {
   "cell_type": "markdown",
   "metadata": {},
   "source": [
    "### split comments column into Layer and elevation columns"
   ]
  },
  {
   "cell_type": "code",
   "execution_count": null,
   "metadata": {},
   "outputs": [],
   "source": [
    "df[['Layer', 'Elevation']] = df.comments.str.rsplit(',', expand = True)"
   ]
  },
  {
   "cell_type": "markdown",
   "metadata": {},
   "source": [
    "### drop mixed column"
   ]
  },
  {
   "cell_type": "code",
   "execution_count": null,
   "metadata": {},
   "outputs": [],
   "source": [
    "df = df.drop(['comments'], axis=1)"
   ]
  },
  {
   "cell_type": "markdown",
   "metadata": {},
   "source": [
    "### example boolean combination of two search strings"
   ]
  },
  {
   "cell_type": "code",
   "execution_count": null,
   "metadata": {},
   "outputs": [],
   "source": [
    "df[(df['experiment type'] == 'euler' ) & (df['Layer'] == 'L1')]"
   ]
  },
  {
   "cell_type": "markdown",
   "metadata": {},
   "source": [
    "### select data like this"
   ]
  },
  {
   "cell_type": "code",
   "execution_count": 111,
   "metadata": {},
   "outputs": [],
   "source": [
    "load_df = df[(df['experiment type'] == 'euler' ) & (df['Layer'] == 'L1')]"
   ]
  },
  {
   "cell_type": "code",
   "execution_count": 112,
   "metadata": {},
   "outputs": [
    {
     "data": {
      "text/html": [
       "<div>\n",
       "<style scoped>\n",
       "    .dataframe tbody tr th:only-of-type {\n",
       "        vertical-align: middle;\n",
       "    }\n",
       "\n",
       "    .dataframe tbody tr th {\n",
       "        vertical-align: top;\n",
       "    }\n",
       "\n",
       "    .dataframe thead th {\n",
       "        text-align: right;\n",
       "    }\n",
       "</style>\n",
       "<table border=\"1\" class=\"dataframe\">\n",
       "  <thead>\n",
       "    <tr style=\"text-align: right;\">\n",
       "      <th></th>\n",
       "      <th>experiment</th>\n",
       "      <th>folder</th>\n",
       "      <th>matching group</th>\n",
       "      <th>experiment type</th>\n",
       "      <th>L1-L4 group</th>\n",
       "      <th>comment</th>\n",
       "      <th>Layer</th>\n",
       "      <th>Elevation</th>\n",
       "    </tr>\n",
       "    <tr>\n",
       "      <th>mouse</th>\n",
       "      <th></th>\n",
       "      <th></th>\n",
       "      <th></th>\n",
       "      <th></th>\n",
       "      <th></th>\n",
       "      <th></th>\n",
       "      <th></th>\n",
       "      <th></th>\n",
       "    </tr>\n",
       "  </thead>\n",
       "  <tbody>\n",
       "    <tr>\n",
       "      <th>DL_191024_6</th>\n",
       "      <td>62287</td>\n",
       "      <td>I:\\David Laubender\\Data\\imaging data\\DL_191024...</td>\n",
       "      <td>2</td>\n",
       "      <td>euler</td>\n",
       "      <td>1</td>\n",
       "      <td>NaN</td>\n",
       "      <td>L1</td>\n",
       "      <td>negative degrees</td>\n",
       "    </tr>\n",
       "    <tr>\n",
       "      <th>DL_191024_6</th>\n",
       "      <td>62293</td>\n",
       "      <td>I:\\David Laubender\\Data\\imaging data\\DL_191024...</td>\n",
       "      <td>4</td>\n",
       "      <td>euler</td>\n",
       "      <td>2</td>\n",
       "      <td>NaN</td>\n",
       "      <td>L1</td>\n",
       "      <td>positive degrees</td>\n",
       "    </tr>\n",
       "    <tr>\n",
       "      <th>DL_191024_6</th>\n",
       "      <td>62309</td>\n",
       "      <td>I:\\David Laubender\\Data\\imaging data\\DL_191024...</td>\n",
       "      <td>5</td>\n",
       "      <td>euler</td>\n",
       "      <td>3</td>\n",
       "      <td>NaN</td>\n",
       "      <td>L1</td>\n",
       "      <td>zero degrees</td>\n",
       "    </tr>\n",
       "    <tr>\n",
       "      <th>DL_191024_6</th>\n",
       "      <td>62361</td>\n",
       "      <td>I:\\David Laubender\\Data\\imaging data\\DL_191024...</td>\n",
       "      <td>7</td>\n",
       "      <td>euler</td>\n",
       "      <td>2</td>\n",
       "      <td>NaN</td>\n",
       "      <td>L1</td>\n",
       "      <td>positive degrees</td>\n",
       "    </tr>\n",
       "    <tr>\n",
       "      <th>DL_191024_6</th>\n",
       "      <td>62364</td>\n",
       "      <td>I:\\David Laubender\\Data\\imaging data\\DL_191024...</td>\n",
       "      <td>8</td>\n",
       "      <td>euler</td>\n",
       "      <td>3</td>\n",
       "      <td>NaN</td>\n",
       "      <td>L1</td>\n",
       "      <td>zero degrees</td>\n",
       "    </tr>\n",
       "  </tbody>\n",
       "</table>\n",
       "</div>"
      ],
      "text/plain": [
       "             experiment                                             folder  \\\n",
       "mouse                                                                        \n",
       "DL_191024_6       62287  I:\\David Laubender\\Data\\imaging data\\DL_191024...   \n",
       "DL_191024_6       62293  I:\\David Laubender\\Data\\imaging data\\DL_191024...   \n",
       "DL_191024_6       62309  I:\\David Laubender\\Data\\imaging data\\DL_191024...   \n",
       "DL_191024_6       62361  I:\\David Laubender\\Data\\imaging data\\DL_191024...   \n",
       "DL_191024_6       62364  I:\\David Laubender\\Data\\imaging data\\DL_191024...   \n",
       "\n",
       "             matching group experiment type  L1-L4 group comment Layer  \\\n",
       "mouse                                                                    \n",
       "DL_191024_6               2           euler            1     NaN    L1   \n",
       "DL_191024_6               4           euler            2     NaN    L1   \n",
       "DL_191024_6               5           euler            3     NaN    L1   \n",
       "DL_191024_6               7           euler            2     NaN    L1   \n",
       "DL_191024_6               8           euler            3     NaN    L1   \n",
       "\n",
       "                     Elevation  \n",
       "mouse                           \n",
       "DL_191024_6   negative degrees  \n",
       "DL_191024_6   positive degrees  \n",
       "DL_191024_6       zero degrees  \n",
       "DL_191024_6   positive degrees  \n",
       "DL_191024_6       zero degrees  "
      ]
     },
     "execution_count": 112,
     "metadata": {},
     "output_type": "execute_result"
    }
   ],
   "source": [
    "load_df.head()"
   ]
  },
  {
   "cell_type": "code",
   "execution_count": 117,
   "metadata": {},
   "outputs": [
    {
     "data": {
      "text/plain": [
       "'I:\\\\David Laubender\\\\Data\\\\imaging data\\\\DL_191024_6\\\\ImagingData\\\\2019-12-04'"
      ]
     },
     "execution_count": 117,
     "metadata": {},
     "output_type": "execute_result"
    }
   ],
   "source": [
    "load_df.folder[1]"
   ]
  },
  {
   "cell_type": "code",
   "execution_count": null,
   "metadata": {},
   "outputs": [],
   "source": []
  }
 ],
 "metadata": {
  "kernelspec": {
   "display_name": "Python 3",
   "language": "python",
   "name": "python3"
  },
  "language_info": {
   "codemirror_mode": {
    "name": "ipython",
    "version": 3
   },
   "file_extension": ".py",
   "mimetype": "text/x-python",
   "name": "python",
   "nbconvert_exporter": "python",
   "pygments_lexer": "ipython3",
   "version": "3.7.5"
  }
 },
 "nbformat": 4,
 "nbformat_minor": 4
}
