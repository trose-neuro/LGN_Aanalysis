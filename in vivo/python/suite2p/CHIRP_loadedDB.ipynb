{
 "cells": [
  {
   "cell_type": "code",
   "execution_count": 2,
   "metadata": {},
   "outputs": [],
   "source": [
    "import numpy as np\n",
    "import matplotlib.pyplot as plt\n",
    "from matplotlib import gridspec\n",
    "%matplotlib widget\n",
    "import seaborn as sns\n",
    "sns.set()  # set plot styles\n",
    "import sys\n",
    "import os\n",
    "from pathlib import Path\n",
    "from scipy.signal import convolve\n",
    "from scipy.stats import zscore\n",
    "from scipy.ndimage import gaussian_filter1d\n",
    "# from scipy.stats import zscore ### Cave! scipy zscore does not handle NaN!\n",
    "from ScanImageTiffReader import ScanImageTiffReader\n",
    "from helpers import parse_SI_header as pSI #own\n",
    "from tqdm import tqdm\n",
    "\n",
    "import rastermap as rm\n",
    "import pandas as pd\n",
    "import pickle\n",
    "\n",
    "from sklearn.decomposition import NMF"
   ]
  },
  {
   "cell_type": "markdown",
   "metadata": {},
   "source": [
    "### on-the-fly panda function definition of zscore that handles NaNs"
   ]
  },
  {
   "cell_type": "code",
   "execution_count": 3,
   "metadata": {},
   "outputs": [],
   "source": [
    "def z_score(df): return (df-df.mean())/df.std(ddof=0)\n",
    "# def m_mean(df): return df.mean()"
   ]
  },
  {
   "cell_type": "code",
   "execution_count": 4,
   "metadata": {},
   "outputs": [],
   "source": [
    "plt.close('all')"
   ]
  },
  {
   "cell_type": "markdown",
   "metadata": {},
   "source": [
    "# load panda dataframe, Stim-IDs and one aux from disk"
   ]
  },
  {
   "cell_type": "code",
   "execution_count": 8,
   "metadata": {},
   "outputs": [],
   "source": [
    "dataframe = pd.read_pickle(\"./layer1_and_4.pkl\")"
   ]
  },
  {
   "cell_type": "code",
   "execution_count": 8,
   "metadata": {},
   "outputs": [],
   "source": [
    "with open('Chirp_ids.pkl', 'rb') as handle:\n",
    "    ids = pickle.load(handle)"
   ]
  },
  {
   "cell_type": "code",
   "execution_count": 11,
   "metadata": {},
   "outputs": [],
   "source": [
    "auxdata = ids[0]['auxdata']"
   ]
  },
  {
   "cell_type": "markdown",
   "metadata": {},
   "source": [
    "# generate sorted mean-cell responses / zscores or not"
   ]
  },
  {
   "cell_type": "code",
   "execution_count": 12,
   "metadata": {},
   "outputs": [
    {
     "ename": "NameError",
     "evalue": "name 'dataframe' is not defined",
     "output_type": "error",
     "traceback": [
      "\u001b[1;31m---------------------------------------------------------------------------\u001b[0m",
      "\u001b[1;31mNameError\u001b[0m                                 Traceback (most recent call last)",
      "\u001b[1;32m<ipython-input-12-8864267b6775>\u001b[0m in \u001b[0;36m<module>\u001b[1;34m\u001b[0m\n\u001b[0;32m      1\u001b[0m \u001b[1;31m# generate sorted mean-cell responses / zscores or not\u001b[0m\u001b[1;33m\u001b[0m\u001b[1;33m\u001b[0m\u001b[1;33m\u001b[0m\u001b[0m\n\u001b[0;32m      2\u001b[0m \u001b[1;33m\u001b[0m\u001b[0m\n\u001b[1;32m----> 3\u001b[1;33m \u001b[0mallcells_Ipsi_mean\u001b[0m \u001b[1;33m=\u001b[0m \u001b[0mdataframe\u001b[0m\u001b[1;33m.\u001b[0m\u001b[0mloc\u001b[0m\u001b[1;33m[\u001b[0m\u001b[0mdataframe\u001b[0m\u001b[1;33m.\u001b[0m\u001b[0mloc\u001b[0m\u001b[1;33m[\u001b[0m\u001b[1;33m:\u001b[0m\u001b[1;33m,\u001b[0m\u001b[1;34m'category'\u001b[0m\u001b[1;33m]\u001b[0m \u001b[1;33m==\u001b[0m \u001b[1;34m'Ipsi'\u001b[0m\u001b[1;33m]\u001b[0m\u001b[1;33m.\u001b[0m\u001b[0mgroupby\u001b[0m\u001b[1;33m(\u001b[0m\u001b[1;33m[\u001b[0m\u001b[1;34m'time'\u001b[0m\u001b[1;33m,\u001b[0m \u001b[1;34m'cell'\u001b[0m\u001b[1;33m]\u001b[0m\u001b[1;33m,\u001b[0m \u001b[0mas_index\u001b[0m\u001b[1;33m=\u001b[0m\u001b[1;32mFalse\u001b[0m\u001b[1;33m)\u001b[0m\u001b[1;33m.\u001b[0m\u001b[0maligned_spks\u001b[0m\u001b[1;33m.\u001b[0m\u001b[0mmean\u001b[0m\u001b[1;33m(\u001b[0m\u001b[1;33m)\u001b[0m\u001b[1;33m.\u001b[0m\u001b[0mpivot\u001b[0m\u001b[1;33m(\u001b[0m\u001b[0mindex\u001b[0m \u001b[1;33m=\u001b[0m \u001b[1;34m'time'\u001b[0m\u001b[1;33m,\u001b[0m \u001b[0mcolumns\u001b[0m\u001b[1;33m=\u001b[0m\u001b[1;34m'cell'\u001b[0m\u001b[1;33m)\u001b[0m\u001b[1;33m\u001b[0m\u001b[1;33m\u001b[0m\u001b[0m\n\u001b[0m\u001b[0;32m      4\u001b[0m \u001b[0mallcells_Ipsi_mean_zscored\u001b[0m \u001b[1;33m=\u001b[0m \u001b[0mallcells_Ipsi_mean\u001b[0m\u001b[1;33m.\u001b[0m\u001b[0mtransform\u001b[0m\u001b[1;33m(\u001b[0m\u001b[1;33m(\u001b[0m\u001b[1;32mlambda\u001b[0m \u001b[0mx\u001b[0m \u001b[1;33m:\u001b[0m \u001b[0mz_score\u001b[0m\u001b[1;33m(\u001b[0m\u001b[0mx\u001b[0m\u001b[1;33m)\u001b[0m\u001b[1;33m)\u001b[0m\u001b[1;33m)\u001b[0m\u001b[1;33m\u001b[0m\u001b[1;33m\u001b[0m\u001b[0m\n\u001b[0;32m      5\u001b[0m \u001b[0msortidx\u001b[0m \u001b[1;33m=\u001b[0m \u001b[0mallcells_Ipsi_mean_zscored\u001b[0m\u001b[1;33m.\u001b[0m\u001b[0mmax\u001b[0m\u001b[1;33m(\u001b[0m\u001b[1;33m)\u001b[0m\u001b[1;33m.\u001b[0m\u001b[0msort_values\u001b[0m\u001b[1;33m(\u001b[0m\u001b[0mascending\u001b[0m\u001b[1;33m=\u001b[0m\u001b[1;32mFalse\u001b[0m\u001b[1;33m)\u001b[0m\u001b[1;33m.\u001b[0m\u001b[0mindex\u001b[0m\u001b[1;33m\u001b[0m\u001b[1;33m\u001b[0m\u001b[0m\n",
      "\u001b[1;31mNameError\u001b[0m: name 'dataframe' is not defined"
     ]
    }
   ],
   "source": [
    "# generate sorted mean-cell responses / zscores or not\n",
    "\n",
    "allcells_Ipsi_mean = dataframe.loc[dataframe.loc[:,'category'] == 'Ipsi'].groupby(['time', 'cell'], as_index=False).aligned_spks.mean().pivot(index = 'time', columns='cell')\n",
    "allcells_Ipsi_mean_zscored = allcells_Ipsi_mean.transform((lambda x : z_score(x)))\n",
    "sortidx = allcells_Ipsi_mean_zscored.max().sort_values(ascending=False).index\n",
    "allcells_Ipsi_mean_sort_zscored = allcells_Ipsi_mean_zscored.reindex(sortidx, axis = 1)\n",
    "\n",
    "allcells_Contra_mean = dataframe.loc[dataframe.loc[:,'category'] == 'Contra'].groupby(['time', 'cell'], as_index=False).aligned_spks.mean().pivot(index = 'time', columns='cell')\n",
    "allcells_Contra_mean_zscored = allcells_Contra_mean.transform((lambda x : z_score(x)))\n",
    "sortidx = allcells_Contra_mean_zscored.max().sort_values(ascending=False).index\n",
    "allcells_Contra_mean_sort_zscored = allcells_Contra_mean_zscored.reindex(sortidx, axis = 1)\n",
    "\n",
    "allcells_Bino_mean = dataframe.loc[dataframe.loc[:,'category'] == 'Bino'].groupby(['time', 'cell'], as_index=False).aligned_spks.mean().pivot(index = 'time', columns='cell')\n",
    "allcells_Bino_mean_zscored = allcells_Bino_mean.transform((lambda x : z_score(x)))\n",
    "sortidx = allcells_Bino_mean_zscored.max().sort_values(ascending=False).index\n",
    "allcells_Bino_mean_sort_zscored = allcells_Bino_mean_zscored.reindex(sortidx, axis = 1)\n",
    "\n",
    "\n",
    "allcells_Ipsi_mean = dataframe.loc[dataframe.loc[:,'category'] == 'Ipsi'].groupby(['time', 'cell'], as_index=False).aligned_spks.mean().pivot(index = 'time', columns='cell')\n",
    "sortidx2 = allcells_Ipsi_mean.max().sort_values(ascending=False).index\n",
    "allcells_Ipsi_mean_sort = allcells_Ipsi_mean.reindex(sortidx2, axis = 1)\n",
    "\n",
    "allcells_Contra_mean = dataframe.loc[dataframe.loc[:,'category'] == 'Contra'].groupby(['time', 'cell'], as_index=False).aligned_spks.mean().pivot(index = 'time', columns='cell')\n",
    "sortidx2 = allcells_Contra_mean.max().sort_values(ascending=False).index\n",
    "allcells_Contra_mean_sort = allcells_Contra_mean.reindex(sortidx2, axis = 1)\n",
    "\n",
    "allcells_Bino_mean = dataframe.loc[dataframe.loc[:,'category'] == 'Bino'].groupby(['time', 'cell'], as_index=False).aligned_spks.mean().pivot(index = 'time', columns='cell')\n",
    "sortidx2 = allcells_Bino_mean.max().sort_values(ascending=False).index\n",
    "allcells_Bino_mean_sort = allcells_Bino_mean.reindex(sortidx2, axis = 1)\n",
    "\n",
    "\n",
    "# allcells_Ipsi_mean = dataframe.loc[dataframe.loc[:,'category'] == 'Ipsi'].groupby(['time', 'cell'], as_index=False).aligned_F.mean().pivot(index = 'time', columns='cell')\n",
    "# allcells_Ipsi_mean_zscored = allcells_Ipsi_mean.transform((lambda x : z_score(x)))\n",
    "# sortidx = allcells_Ipsi_mean_zscored.max().sort_values(ascending=False).index\n",
    "# allcells_Ipsi_mean_sort_zscored = allcells_Ipsi_mean_zscored.reindex(sortidx, axis = 1)\n",
    "\n",
    "# allcells_Contra_mean = dataframe.loc[dataframe.loc[:,'category'] == 'Contra'].groupby(['time', 'cell'], as_index=False).aligned_F.mean().pivot(index = 'time', columns='cell')\n",
    "# allcells_Contra_mean_zscored = allcells_Contra_mean.transform((lambda x : z_score(x)))\n",
    "# sortidx = allcells_Contra_mean_zscored.max().sort_values(ascending=False).index\n",
    "# allcells_Contra_mean_sort_zscored = allcells_Contra_mean_zscored.reindex(sortidx, axis = 1)\n",
    "\n",
    "# allcells_Bino_mean = dataframe.loc[dataframe.loc[:,'category'] == 'Bino'].groupby(['time', 'cell'], as_index=False).aligned_F.mean().pivot(index = 'time', columns='cell')\n",
    "# allcells_Bino_mean_zscored = allcells_Bino_mean.transform((lambda x : z_score(x)))\n",
    "# sortidx = allcells_Bino_mean_zscored.max().sort_values(ascending=False).index\n",
    "# allcells_Bino_mean_sort_zscored = allcells_Bino_mean_zscored.reindex(sortidx, axis = 1)\n",
    "\n",
    "\n",
    "# allcells_Ipsi_mean = dataframe.loc[dataframe.loc[:,'category'] == 'Ipsi'].groupby(['time', 'cell'], as_index=False).aligned_F.mean().pivot(index = 'time', columns='cell')\n",
    "# sortidx2 = allcells_Ipsi_mean.max().sort_values(ascending=False).index\n",
    "# allcells_Ipsi_mean_sort = allcells_Ipsi_mean.reindex(sortidx2, axis = 1)\n",
    "\n",
    "# allcells_Contra_mean = dataframe.loc[dataframe.loc[:,'category'] == 'Contra'].groupby(['time', 'cell'], as_index=False).aligned_F.mean().pivot(index = 'time', columns='cell')\n",
    "# sortidx2 = allcells_Contra_mean.max().sort_values(ascending=False).index\n",
    "# allcells_Contra_mean_sort = allcells_Contra_mean.reindex(sortidx2, axis = 1)\n",
    "\n",
    "# allcells_Bino_mean = dataframe.loc[dataframe.loc[:,'category'] == 'Bino'].groupby(['time', 'cell'], as_index=False).aligned_F.mean().pivot(index = 'time', columns='cell')\n",
    "# allcells_Bino_mean_zscored = allcells_Bino_mean.transform((lambda x : z_score(x)))\n",
    "# sortidx2 = allcells_Bino_mean.max().sort_values(ascending=False).index\n",
    "# allcells_Bino_mean_sort = allcells_Bino_mean.reindex(sortidx2, axis = 1)"
   ]
  },
  {
   "cell_type": "markdown",
   "metadata": {},
   "source": [
    "### prepare for NMF"
   ]
  },
  {
   "cell_type": "code",
   "execution_count": null,
   "metadata": {},
   "outputs": [],
   "source": [
    "# all cells\n",
    "sp_ipsi = allcells_Ipsi_mean_zscored.to_numpy()\n",
    "sp_contra = allcells_Contra_mean_zscored.to_numpy()\n",
    "sp_bino = allcells_Bino_mean_zscored.to_numpy()\n",
    "\n",
    "sp_all = np.concatenate((allcells_Contra_mean.to_numpy(), allcells_Ipsi_mean.to_numpy(), allcells_Bino_mean.to_numpy()), axis = 0)\n",
    "\n",
    "sp_ipsi[np.isnan(sp_ipsi)] = 0\n",
    "sp_contra[np.isnan(sp_contra)] = 0\n",
    "sp_bino[np.isnan(sp_bino)] = 0\n",
    "\n",
    "sp_all[np.isnan(sp_all)] = 0\n",
    "\n",
    "sp_all = zscore(sp_all) # needs to be done in numpy to be element-wise here - I collapsed the major categories. I dont think I can do that in pandas straight"
   ]
  },
  {
   "cell_type": "code",
   "execution_count": null,
   "metadata": {},
   "outputs": [],
   "source": [
    "%%capture\n",
    "model_ipsi = rm.mapping.Rastermap(n_components=1).fit(sp_ipsi.T)\n",
    "model_contra = rm.mapping.Rastermap(n_components=1).fit(sp_contra.T)\n",
    "model_bino = rm.mapping.Rastermap(n_components=1).fit(sp_bino.T)\n",
    "model_all = rm.mapping.Rastermap(n_components=1).fit(sp_all.T)"
   ]
  },
  {
   "cell_type": "code",
   "execution_count": null,
   "metadata": {},
   "outputs": [],
   "source": [
    "### sort neurons and smooth across neurons \n",
    "smooth = True\n",
    "timesmooth = True\n",
    "\n",
    "if smooth:\n",
    "    isort = np.argsort(model_all.embedding[:,0])   \n",
    "    Sm_ipsi = gaussian_filter1d(sp_ipsi.T[isort,:], np.minimum(3,int(sp_ipsi.shape[0]*0.005)), axis=0)\n",
    "    # isort = np.argsort(model_contra.embedding[:,0])\n",
    "    Sm_contra = gaussian_filter1d(sp_contra.T[isort,:], np.minimum(3,int(sp_contra.shape[0]*0.005)), axis=0)\n",
    "    # isort = np.argsort(model_bino.embedding[:,0])\n",
    "    Sm_bino = gaussian_filter1d(sp_bino.T[isort,:], np.minimum(3,int(sp_bino.shape[0]*0.005)), axis=0)\n",
    "    Sm_all  = gaussian_filter1d(sp_all.T[isort,:], np.minimum(3,int(sp_ipsi.shape[0]*0.005)), axis=0)\n",
    "#     Sm_all= sp_all.T[isort,:]\n",
    "else:\n",
    "    isort = np.argsort(model_bino.embedding[:,0])\n",
    "    Sm_ipsi = sp_ipsi.T[isort,:]\n",
    "    # isort = np.argsort(model_contra.embedding[:,0])\n",
    "    Sm_contra = sp_contra.T[isort,:]\n",
    "    # isort = np.argsort(model_bino.embedding[:,0])\n",
    "    Sm_bino = sp_bino.T[isort,:]\n",
    "    Sm_all  = sp_all.T[isort,:]\n",
    "\n",
    "    \n",
    "if timesmooth:\n",
    "    sigma = 0.5\n",
    "# (optional) smooth in time\n",
    "    Sm_contra = gaussian_filter1d(Sm_contra, sigma, axis=1)\n",
    "    Sm_ipsi = gaussian_filter1d(Sm_ipsi, sigma, axis=1)\n",
    "    Sm_bino = gaussian_filter1d(Sm_bino, sigma, axis=1)\n",
    "    Sm_all = gaussian_filter1d(Sm_all, sigma, axis=1)"
   ]
  },
  {
   "cell_type": "markdown",
   "metadata": {},
   "source": [
    "### auxdata and timebase "
   ]
  },
  {
   "cell_type": "code",
   "execution_count": null,
   "metadata": {},
   "outputs": [],
   "source": [
    "slice_range = np.arange(ids[0]['Ipsi'][0][1].astype(int)-prestim_frames[0].astype(int),ids[0]['Ipsi'][1][1].astype(int)+poststim_frames[0].astype(int)+1)\n",
    "# slice_range = np.arange(ids[category][0][trial].astype(int)-prestim_frames.astype(int),ids[category][1][trial].astype(int)+poststim_frames.astype(int))\n",
    "\n",
    "aligned_stimdata = auxdata[ids[0]['FrameTimes_level'][slice_range],stimops['Stims_chan']]\n",
    "# aligned_stimdata_concat = np.tile(auxdata[ids['FrameTimes_level'][slice_range],stimops['Stims_chan']], (0,3))\n",
    "aux_time = np.arange(0, aligned_stimdata.shape[0] * 1 / (ids[0]['framerate_auxderived'] / level), 1 / (ids[0]['framerate_auxderived'] / level) ) - prestim[0]\n",
    "\n",
    "aligned_stimdata_full = ids[0]['auxdata'][ids[0]['FrameTimes_level'][slice_range[0]]:ids[0]['FrameTimes_level'][slice_range[-1]],stimops['Stims_chan']]\n",
    "aligned_stimdata_full_concat = np.tile(aligned_stimdata_full, (1,3)).T\n",
    "\n",
    "aux_time_full = np.arange(0, aligned_stimdata_full.shape[0] * 1 / ids[0]['aux_samplingfreq'] , 1 / ids[0]['aux_samplingfreq']    ) - prestim[0]\n",
    "aux_time_full_concat = np.arange(0, aligned_stimdata_full_concat.shape[0] * 1 / ids[0]['aux_samplingfreq'] , 1 / ids[0]['aux_samplingfreq']   ) - prestim[0]\n",
    "\n",
    "# plt.figure()\n",
    "# plt.plot(aux_time, aligned_stimdata)\n",
    "# plt.plot(aux_time_full_concat, aligned_stimdata_full_concat)"
   ]
  },
  {
   "cell_type": "markdown",
   "metadata": {},
   "source": [
    "### seperately sorted"
   ]
  },
  {
   "cell_type": "code",
   "execution_count": null,
   "metadata": {},
   "outputs": [],
   "source": [
    "### view neuron sorting\n",
    "\n",
    "# aligned_stimdata = auxdata[ids['FrameTimes_level'][slice_range][0]:ids['FrameTimes_level'][slice_range][-1],stimops['Stims_chan']]\n",
    "# aux_time = np.arange(0, aligned_stimdata.shape[0] * 1 / aux_samplingfreq, 1 / aux_samplingfreq  ) - prestim\n",
    "\n",
    "fs = ids[0]['framerate_auxderived'] / level\n",
    "vmin_glob = -.5\n",
    "vmax_glob = 2.5\n",
    "ncells = cellglob \n",
    "with sns.axes_style('white'):\n",
    "    xl = [-prestim[0],Sm_contra.shape[1]/fs-prestim[0]]\n",
    "    \n",
    "    fig8 = plt.figure(figsize=(20,16), constrained_layout=True)\n",
    "    gs1 = fig8.add_gridspec(nrows=8, ncols=3)\n",
    "    \n",
    "    fig8.add_subplot(gs1[1:, :-2])      \n",
    "    fig8_ax=plt.imshow(Sm_contra, vmin=vmin_glob,vmax=vmax_glob,aspect='auto',extent=[-prestim[0],Sm_contra.shape[1]/fs-prestim[0], 0,Sm_contra.shape[0]], cmap = 'Blues')\n",
    "    plt.xlabel('time (s)', fontsize=18)    \n",
    "    \n",
    "    plt.vlines([prestim_frames[0] / fs-prestim[0], maxlength / fs - poststim_frames[0] / fs -prestim[0] ],0,ncells-1, 'k')\n",
    "    plt.ylabel('boutons', fontsize=18)     \n",
    "        \n",
    "    f8_ax2 = fig8.add_subplot(gs1[1:, 1:-1])\n",
    "    ax=plt.imshow(Sm_ipsi, vmin=vmin_glob,vmax=vmax_glob,aspect='auto',extent=[-prestim[0],Sm_ipsi.shape[1]/fs-prestim[0], 0,Sm_ipsi.shape[0]], cmap = 'Reds')\n",
    "    plt.xlabel('time (s)', fontsize=18)\n",
    "    \n",
    "    plt.vlines([prestim_frames[0] / fs-prestim[0], maxlength / fs - poststim_frames[0] / fs -prestim[0] ],0,ncells-1, 'k')\n",
    "        \n",
    "    f8_ax3 = fig8.add_subplot(gs1[1:, 2:])\n",
    "    ax=plt.imshow(Sm_bino, vmin=vmin_glob,vmax=vmax_glob,aspect='auto',extent=[-prestim[0],Sm_bino.shape[1]/fs-prestim[0], 0,Sm_bino.shape[0]], cmap = 'gray_r')\n",
    "    plt.xlabel('time (s)', fontsize=18)\n",
    "    \n",
    "    plt.vlines([prestim_frames[0] / fs-prestim[0], maxlength / fs - poststim_frames[0] / fs -prestim[0]],0,ncells-1, 'k')\n",
    "\n",
    "#    plt.colorbar(label='deconvolved F [a.u.]')\n",
    "   \n",
    "    f8_ax4 = fig8.add_subplot(gs1[:1, :-2])    \n",
    "    plt.plot(aux_time_full, aligned_stimdata_full, 'k')\n",
    "#     plt.vlines([prestim_frames / fs-prestim, maxlength / fs - poststim_frames / fs -prestim],0,4, 'k')\n",
    "    f8_ax4.set_xlim(*xl)\n",
    "    f8_ax4.axis('off')\n",
    "    plt.title('Contra')\n",
    "    \n",
    "    f8_ax5 = fig8.add_subplot(gs1[:1, 1:-1])\n",
    "    plt.plot(aux_time_full, aligned_stimdata_full, 'k')\n",
    "    f8_ax5.set_xlim(*xl)\n",
    "    f8_ax5.axis('off')\n",
    "    plt.title('Ipsi')\n",
    "\n",
    "    \n",
    "    f8_ax6 = fig8.add_subplot(gs1[:1, 2:])\n",
    "    plt.plot(aux_time_full, aligned_stimdata_full, 'k')\n",
    "    f8_ax6.set_xlim(*xl)\n",
    "    f8_ax6.axis('off')\n",
    "    plt.title('Bino')    \n",
    "    \n",
    "#     plt.tight_layout()           \n",
    "    plt.suptitle('z-scored deconvolved Chirp PSTHs - rastermap embedding (sorted on Bino, smoothened over boutons) - exp' + exp[0])\n",
    "    \n",
    "    plt.show()"
   ]
  },
  {
   "cell_type": "code",
   "execution_count": null,
   "metadata": {},
   "outputs": [],
   "source": [
    "plt.savefig('separate.eps', format='eps')"
   ]
  },
  {
   "cell_type": "code",
   "execution_count": 143,
   "metadata": {},
   "outputs": [
    {
     "data": {
      "text/plain": [
       "8931"
      ]
     },
     "execution_count": 143,
     "metadata": {},
     "output_type": "execute_result"
    }
   ],
   "source": [
    "ncells"
   ]
  },
  {
   "cell_type": "markdown",
   "metadata": {},
   "source": [
    "### concatenated figure"
   ]
  },
  {
   "cell_type": "code",
   "execution_count": 144,
   "metadata": {
    "jupyter": {
     "source_hidden": true
    }
   },
   "outputs": [
    {
     "data": {
      "application/vnd.jupyter.widget-view+json": {
       "model_id": "5fce28220f0a43dbb59fcc4cbaf05efe",
       "version_major": 2,
       "version_minor": 0
      },
      "text/plain": [
       "Canvas(toolbar=Toolbar(toolitems=[('Home', 'Reset original view', 'home', 'home'), ('Back', 'Back to previous …"
      ]
     },
     "metadata": {},
     "output_type": "display_data"
    }
   ],
   "source": [
    "### view neuron sorting\n",
    "\n",
    "# aligned_stimdata = auxdata[ids['FrameTimes_level'][slice_range][0]:ids['FrameTimes_level'][slice_range][-1],stimops['Stims_chan']]\n",
    "# aux_time = np.arange(0, aligned_stimdata.shape[0] * 1 / aux_samplingfreq, 1 / aux_samplingfreq  ) - prestim\n",
    "\n",
    "fs = ids[0]['framerate_auxderived'] / level\n",
    "vmin_glob = -.5\n",
    "vmax_glob = 2.5\n",
    "\n",
    "\n",
    "with sns.axes_style('white'):\n",
    "    xl = [-prestim[0],Sm_all.shape[1]/fs - prestim[0]]\n",
    "    \n",
    "    fig9 = plt.figure(figsize=(20,20), constrained_layout=True)\n",
    "    \n",
    "    gs1 = fig9.add_gridspec(nrows=12, ncols=3)\n",
    "    \n",
    "    fig9.add_subplot(gs1[1:, :])      \n",
    "    fig9_ax=plt.imshow(Sm_all, vmin=vmin_glob,vmax=vmax_glob,aspect='auto',extent=[-prestim[0],Sm_all.shape[1]/fs-prestim[0], 0,Sm_all.shape[0]], cmap = 'gray_r')\n",
    "    plt.xlabel('time (s)', fontsize=18)    \n",
    "    \n",
    "#     plt.vlines([prestim_frames / fs-prestim, maxlength / fs - poststim_frames / fs -prestim ],0,ncells-1, 'k')\n",
    "    plt.ylabel('boutons', fontsize=18)     \n",
    "    \n",
    "    plt.vlines([aux_time_full[-1],  +aux_time_full[-1] *2 + poststim[0]],0,ncells-1, 'r')\n",
    "    plt.vlines([prestim_frames[0] / fs-prestim[0], maxlength / fs - poststim_frames[0] / fs -prestim[0]],0,ncells-1, 'b')\n",
    "    \n",
    "    plt.vlines([aux_time_full[-1] + (prestim_frames[0] / fs),  aux_time_full[-1] + (maxlength / fs - poststim_frames[0] / fs ) ],0,ncells-1, 'b')\n",
    "    plt.vlines([2 * aux_time_full[-1] + (prestim_frames[0] / fs) + prestim[0],  2 * aux_time_full[-1] + (maxlength / fs - poststim_frames[0] / fs ) + prestim[0]],0,ncells-1, 'b')\n",
    "#     plt.plot(aux_time_full_concat, aligned_stimdata_full_concat, 'k')\n",
    "    \n",
    "#     plt.colorbar(label='deconvolved F [zscored]')\n",
    "#    plt.colorbar(label='deconvolved F [a.u.]')\n",
    "   \n",
    "    f9_ax4 = fig9.add_subplot(gs1[:1, :])    \n",
    "    plt.plot(aux_time_full_concat, aligned_stimdata_full_concat, 'k')\n",
    "#     plt.vlines([prestim_frames / fs-prestim, maxlength / fs - poststim_frames / fs -prestim],0,4, 'k')\n",
    "    f9_ax4.set_xlim(*xl)\n",
    "    f9_ax4.axis('off')\n",
    "#     plt.title('Contra                                    Ipsi                                    Bino')\n",
    "    plt.text(aux_time_full[-1] / 2 - 2, 5 , 'Contra', fontsize=16)\n",
    "    plt.text(aux_time_full[-1] * 1.5-2, 5 , 'Ipsi', fontsize=16)\n",
    "    plt.text(aux_time_full[-1] * 2.5-2, 5 , 'Bino', fontsize=16)\n",
    "    \n",
    "   \n",
    "    \n",
    "#     plt.tight_layout()           \n",
    "    plt.suptitle('z-scored deconvolved F - Chirp PSTHs - rastermap embedding (smoothened over boutons) - exp' + exp[0])\n",
    "    \n",
    "    plt.show()"
   ]
  },
  {
   "cell_type": "code",
   "execution_count": null,
   "metadata": {
    "jupyter": {
     "source_hidden": true
    }
   },
   "outputs": [],
   "source": [
    "plt.savefig('all.eps', format='eps')"
   ]
  }
 ],
 "metadata": {
  "kernelspec": {
   "display_name": "Python 3",
   "language": "python",
   "name": "python3"
  },
  "language_info": {
   "codemirror_mode": {
    "name": "ipython",
    "version": 3
   },
   "file_extension": ".py",
   "mimetype": "text/x-python",
   "name": "python",
   "nbconvert_exporter": "python",
   "pygments_lexer": "ipython3",
   "version": "3.7.6"
  }
 },
 "nbformat": 4,
 "nbformat_minor": 4
}
